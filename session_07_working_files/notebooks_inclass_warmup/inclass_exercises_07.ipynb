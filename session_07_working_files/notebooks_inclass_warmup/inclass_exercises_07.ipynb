{
 "cells": [
  {
   "cell_type": "markdown",
   "id": "d23823ad",
   "metadata": {},
   "source": [
    "# In-Class Exercises, Session 7"
   ]
  },
  {
   "cell_type": "markdown",
   "id": "7f5d40f7",
   "metadata": {},
   "source": [
    "<U>Notes if you are using Jupyter Notebook</U>:  to call <B>exit()</B> from a notebook, please use <B>sys.exit()</B> (requires <B>import sys</B>).\n",
    "\n",
    "If a strange error occurs, it may be because Jupyter retains variables from all executed cells.  To reset the notebook, click 'Restart Kernel' (the circular arrow) -- this will not undo any changes made."
   ]
  },
  {
   "cell_type": "markdown",
   "id": "c0d16bb2",
   "metadata": {},
   "source": [
    " "
   ]
  },
  {
   "cell_type": "markdown",
   "id": "0381f4fa",
   "metadata": {},
   "source": [
    "CLASS VARIABLES / ATTRIBUTES"
   ]
  },
  {
   "cell_type": "markdown",
   "id": "8f678d08",
   "metadata": {},
   "source": [
    "<B>7.1:  Identify the object and attribute in each of the bottom 4 code lines.</B>"
   ]
  },
  {
   "cell_type": "code",
   "execution_count": null,
   "id": "cf6cecb5",
   "metadata": {},
   "outputs": [],
   "source": [
    "import json\n",
    "import sys\n",
    "\n",
    "mylist = [1, 2, 3, 4]\n",
    "mystr = 'hello'\n",
    "fh = open('../pconfig.json')\n",
    "\n",
    "# identify the object and attribute in each of the below\n",
    "\n",
    "mylist.append(5)\n",
    "\n",
    "mystr.upper()\n",
    "\n",
    "json.load(fh)\n",
    "\n",
    "sys.argv"
   ]
  },
  {
   "cell_type": "markdown",
   "id": "04cc6931",
   "metadata": {},
   "source": [
    " "
   ]
  },
  {
   "cell_type": "markdown",
   "id": "ab86e465",
   "metadata": {},
   "source": [
    "<B>7.2:  Without calling any of the below attributes, print the type of each.</B>"
   ]
  },
  {
   "cell_type": "code",
   "execution_count": null,
   "id": "bccae7ba",
   "metadata": {},
   "outputs": [],
   "source": [
    "import json\n",
    "import sys\n",
    "\n",
    "mylist = [1, 2, 3, 4]\n",
    "mystr = 'hello'\n",
    "fh = open('../pconfig.json')\n",
    "\n",
    "# print the type of each of the following:\n",
    "\n",
    "# mylist.append\n",
    "\n",
    "# mystr.upper\n",
    "\n",
    "# json.load\n",
    "\n",
    "# sys.argv"
   ]
  },
  {
   "cell_type": "markdown",
   "id": "289640c1",
   "metadata": {},
   "source": [
    " "
   ]
  },
  {
   "cell_type": "markdown",
   "id": "60ce278c",
   "metadata": {},
   "source": [
    "<B>7.3:  What exception does this code cause Python to raise and why?</B>"
   ]
  },
  {
   "cell_type": "code",
   "execution_count": null,
   "id": "f7711dba",
   "metadata": {},
   "outputs": [],
   "source": [
    "mystr = '1, 2, 3, 4, 5'\n",
    "\n",
    "mystr.append(5)\n"
   ]
  },
  {
   "cell_type": "markdown",
   "id": "ed662be9",
   "metadata": {},
   "source": [
    " "
   ]
  },
  {
   "cell_type": "markdown",
   "id": "6eeab776",
   "metadata": {},
   "source": [
    "<B>7.4:  Use <B>dir()</B> on one or more of these objects and examine the result.</B>"
   ]
  },
  {
   "cell_type": "code",
   "execution_count": null,
   "id": "1f20d1cf",
   "metadata": {},
   "outputs": [],
   "source": [
    "import sys                           # module object\n",
    "import json                          # module object\n",
    "\n",
    "mylist = ['a', 'b', 'c']             # list object\n",
    "mydict = {'a': 1, 'b': 2, 'c': 3}    # dict object\n",
    "mystr = 'hello'                      # str object\n",
    "myint = 55                           # int object\n"
   ]
  },
  {
   "cell_type": "markdown",
   "id": "d395b20e",
   "metadata": {},
   "source": [
    " "
   ]
  },
  {
   "cell_type": "markdown",
   "id": "ef8fc5f2",
   "metadata": {},
   "source": [
    "<B>7.5:  Use <B>hasattr()</B> in an <B>if</B> statement to check for an attribute within an object; if True, use <B>getattr()</B> to retrieve and print the attribute.</B>"
   ]
  },
  {
   "cell_type": "code",
   "execution_count": null,
   "id": "fb34fdba",
   "metadata": {},
   "outputs": [],
   "source": [
    "import sys                           # retrieve the 'version' attribute\n",
    "\n",
    "mylist = ['a', 'b', 'c']             # retrieve the 'append' attribute\n"
   ]
  },
  {
   "cell_type": "markdown",
   "id": "ccfdfe02",
   "metadata": {},
   "source": [
    " "
   ]
  },
  {
   "cell_type": "markdown",
   "id": "4451086d",
   "metadata": {},
   "source": [
    "<B>7.6:  <B>Do</B> is a class object; the class has a <B>cval</B> attribute assigned as a class variable.  Investigate the class' attributes with the following tools:</B>"
   ]
  },
  {
   "cell_type": "markdown",
   "id": "502ce8ad",
   "metadata": {},
   "source": [
    "<OL>\n",
    "  <LI>regular attribute lookup (i.e., <B>.cval</B>)</LI>\n",
    "  <LI>dir()</LI>\n",
    "  <LI>Do.\\_\\_dict\\_\\_.keys()</LI>\n",
    "</OL>"
   ]
  },
  {
   "cell_type": "code",
   "execution_count": null,
   "id": "4f9d4140",
   "metadata": {},
   "outputs": [],
   "source": [
    "class Do:\n",
    "\n",
    "    cval = 5\n",
    "\n",
    "    def dothis(self):\n",
    "        print('done!')\n"
   ]
  },
  {
   "cell_type": "markdown",
   "id": "4c113c3a",
   "metadata": {},
   "source": [
    " "
   ]
  },
  {
   "cell_type": "markdown",
   "id": "b9c79870",
   "metadata": {},
   "source": [
    "<B>7.7:  <B>obj</B> is an instance of the <B>Do()</B> class; an attribute has been set in the instance, and the class also has its own attribute, set as a class variable.  Investigate the instance and class attributes with the following tools:</B>"
   ]
  },
  {
   "cell_type": "markdown",
   "id": "7e236714",
   "metadata": {},
   "source": [
    "<OL>\n",
    "  <LI>regular attribute lookup (i.e., <B>[instance].oattr</B> and <B>[instance].cval)</LI>\n",
    "  <LI>class lookup (i.e., <B>[class].cval</B>)</LI>\n",
    "  <LI>dir()</LI>\n",
    "  <LI>obj.\\_\\_dict\\_\\_</LI>\n",
    "</OL>"
   ]
  },
  {
   "cell_type": "code",
   "execution_count": null,
   "id": "79cbcd38",
   "metadata": {},
   "outputs": [],
   "source": [
    "class Do():\n",
    "\n",
    "    cval = 10\n",
    "\n",
    "    def __init__(self):\n",
    "        self.oattr = 500     # setting an attribute in the instance\n",
    "\n",
    "    def dothis(self):\n",
    "        print('done!')\n",
    "\n",
    "\n",
    "obj = Do()"
   ]
  },
  {
   "cell_type": "markdown",
   "id": "a7712815",
   "metadata": {},
   "source": [
    " "
   ]
  },
  {
   "cell_type": "markdown",
   "id": "142ef185",
   "metadata": {},
   "source": [
    "<B>7.8:  class <B>What</B> inherits from class <B>Do</B>.  Investigate the <B>What</B> instance attributes with the following tools:</B>"
   ]
  },
  {
   "cell_type": "markdown",
   "id": "e0bd8a93",
   "metadata": {},
   "source": [
    "<OL>\n",
    "  <LI>regular attribute lookup (i.e., <B>.cval</B>)</LI>\n",
    "  <LI>dir()</LI>\n",
    "  <LI>Do.\\_\\_dict\\_\\_.keys()</LI>\n",
    "</OL>"
   ]
  },
  {
   "cell_type": "code",
   "execution_count": null,
   "id": "7d4d4f37",
   "metadata": {},
   "outputs": [],
   "source": [
    "class Do:\n",
    "\n",
    "    dovar = 5\n",
    "\n",
    "    def dothis(self):\n",
    "        print('done!')\n",
    "\n",
    "\n",
    "class What(Do):\n",
    "\n",
    "    whatvar = 10\n",
    "\n",
    "    def __init__(self):\n",
    "        self.instval = 500\n",
    "\n",
    "z = What()"
   ]
  },
  {
   "cell_type": "markdown",
   "id": "d66c4d59",
   "metadata": {},
   "source": [
    " "
   ]
  },
  {
   "cell_type": "markdown",
   "id": "6b7996ff",
   "metadata": {},
   "source": [
    "<B>7.9:  Again with class <B>What</B> inheriting from class <B>Do</B>, compare the results from <B>dir()</B> and the results from the <B>.\\_\\_dict\\_\\_</B> attribute of the class.  (No need to create an instance, simply work with the <B>What</B> class object.)</B>"
   ]
  },
  {
   "cell_type": "code",
   "execution_count": null,
   "id": "62c46916",
   "metadata": {},
   "outputs": [],
   "source": [
    "class Do:\n",
    "\n",
    "    d = 5\n",
    "\n",
    "    def dothis(self):\n",
    "        print('done!')\n",
    "\n",
    "\n",
    "class What(Do):\n",
    "    w = 10\n",
    "\n",
    "    def whatever(self):\n",
    "        print('chill!')\n"
   ]
  },
  {
   "cell_type": "markdown",
   "id": "265846f6",
   "metadata": {},
   "source": [
    " "
   ]
  },
  {
   "cell_type": "markdown",
   "id": "769848d3",
   "metadata": {},
   "source": [
    "<B>7.10:  Again with class <B>What</B> inheriting from class <B>Do</B>, view the <B>.\\_\\_bases\\_\\_</B> attribute of both the <B>What</B> class and the <B>Do</B> class.  (Again, no need to create an instance.)</B>"
   ]
  },
  {
   "cell_type": "code",
   "execution_count": null,
   "id": "5ba913d8",
   "metadata": {},
   "outputs": [],
   "source": [
    "class Do:\n",
    "    dval = 5\n",
    "\n",
    "class What(Do):\n",
    "    wval = 10\n"
   ]
  },
  {
   "cell_type": "markdown",
   "id": "477b4322",
   "metadata": {},
   "source": [
    " "
   ]
  },
  {
   "cell_type": "markdown",
   "id": "8c88d3f4",
   "metadata": {},
   "source": [
    "<B>7.11:  Compare <B>dir()</B> of <B>Do</B> to <B>dir()</B> of <B>object</B>.  Is one a subset of the other?  </B>"
   ]
  },
  {
   "cell_type": "code",
   "execution_count": null,
   "id": "01800b61",
   "metadata": {},
   "outputs": [],
   "source": [
    "class Do:\n",
    "    pass\n"
   ]
  },
  {
   "cell_type": "markdown",
   "id": "49be7b09",
   "metadata": {},
   "source": [
    " "
   ]
  },
  {
   "cell_type": "markdown",
   "id": "0d3092ad",
   "metadata": {},
   "source": [
    "<B>7.12:  Cause class <B>Do</B> to inherit from the builtin class <B>list</B>.  See if the list <B>.append</B> attribute is available in the instance.</B>"
   ]
  },
  {
   "cell_type": "code",
   "execution_count": null,
   "id": "e897c778",
   "metadata": {},
   "outputs": [],
   "source": [
    "class Do:\n",
    "\n",
    "    d = 5\n",
    "\n",
    "    def dothis(self):\n",
    "        print('done!')\n"
   ]
  },
  {
   "cell_type": "markdown",
   "id": "b51765dc",
   "metadata": {},
   "source": [
    " "
   ]
  },
  {
   "cell_type": "markdown",
   "id": "eb5df98c",
   "metadata": {},
   "source": [
    "<B>7.13:  Look at the <B>.\\_\\_bases\\_\\_</B> attribute of the exception class <B>ValueError</B>; see if you can follow the chain of bases all the way up to <B>object</B>.  </B>"
   ]
  },
  {
   "cell_type": "code",
   "execution_count": null,
   "id": "d1bfb9c5",
   "metadata": {},
   "outputs": [],
   "source": []
  },
  {
   "cell_type": "markdown",
   "id": "51b5058b",
   "metadata": {},
   "source": [
    " "
   ]
  },
  {
   "cell_type": "markdown",
   "id": "ca423700",
   "metadata": {},
   "source": [
    "<B>7.14:  Examine the return value from the following function calls:  <B>vars().keys()</B>, <B>locals().keys()</B> (called from inside the function) and <B>dir(builtins)</B>.  </B>"
   ]
  },
  {
   "cell_type": "code",
   "execution_count": null,
   "id": "59400f7e",
   "metadata": {},
   "outputs": [],
   "source": [
    "import builtins\n",
    "\n",
    "a = 5\n",
    "b = [1, 2, 3]\n",
    "\n",
    "print('== vars().keys() ==')\n",
    "print(vars().keys())\n",
    "print()\n",
    "\n",
    "def do():\n",
    "    lvar = 500\n",
    "    print('== locals().keys() ==')\n",
    "    print(locals().keys())\n",
    "    print()\n",
    "\n",
    "do()\n",
    "\n",
    "print('== dir(builtins) ==')\n",
    "print(dir(builtins))"
   ]
  },
  {
   "cell_type": "markdown",
   "id": "229f2d3f",
   "metadata": {},
   "source": [
    " "
   ]
  },
  {
   "cell_type": "markdown",
   "id": "956a49a3",
   "metadata": {},
   "source": [
    "<B>7.15:  Run the code to view the '.\\_\\_doc\\_\\_' attribute for the class and for the <B>dothis()</B> method.  Now add \"docstrings\" (floating triple-quoted strings) just inside both the <B>class</B> and <B>def</B> statements.  Run the program again to see how the <B>.\\_\\_doc\\_\\_</B> attributes have changed.  </B>"
   ]
  },
  {
   "cell_type": "code",
   "execution_count": null,
   "id": "7779280a",
   "metadata": {},
   "outputs": [],
   "source": [
    "class Do:\n",
    "\n",
    "    d = 5\n",
    "\n",
    "    def dothis(self):\n",
    "        print('done!')\n",
    "\n",
    "\n",
    "print(Do.__doc__)\n",
    "print(Do.dothis.__doc__)"
   ]
  },
  {
   "cell_type": "markdown",
   "id": "817781b4",
   "metadata": {},
   "source": [
    " "
   ]
  },
  {
   "cell_type": "markdown",
   "id": "e4f93e0e",
   "metadata": {},
   "source": [
    "<B>7.16:  Compare <B>dir(Do)</B> with <B>inspect.getmembers(Do)</B>.  </B>"
   ]
  },
  {
   "cell_type": "code",
   "execution_count": null,
   "id": "fc6a0d0e",
   "metadata": {},
   "outputs": [],
   "source": [
    "import inspect\n",
    "\n",
    "class Do:\n",
    "\n",
    "    d = 5\n",
    "\n",
    "    def dothis(self):\n",
    "        print('done!')\n"
   ]
  },
  {
   "cell_type": "markdown",
   "id": "abbb1d53",
   "metadata": {},
   "source": [
    " "
   ]
  },
  {
   "cell_type": "markdown",
   "id": "4a0c0317",
   "metadata": {},
   "source": [
    "<B>7.17:  Check to see whether <B>Do.d</B> and <B>Do.dothis</B> are callable.  </B>"
   ]
  },
  {
   "cell_type": "code",
   "execution_count": null,
   "id": "44cc92f7",
   "metadata": {},
   "outputs": [],
   "source": [
    "class Do:\n",
    "\n",
    "    d = 5\n",
    "\n",
    "    def dothis(self):\n",
    "        print('done!')"
   ]
  },
  {
   "cell_type": "markdown",
   "id": "8a66e9f5",
   "metadata": {},
   "source": [
    " "
   ]
  },
  {
   "cell_type": "markdown",
   "id": "66a00e79",
   "metadata": {},
   "source": [
    "\"MAGIC\" METHODS"
   ]
  },
  {
   "cell_type": "markdown",
   "id": "8c04630d",
   "metadata": {},
   "source": [
    "<B>7.18:  <u>Allow a class to \"print\" itself</u>.  Define a <B>\\_\\_str\\_\\_(self)</B> method that returns a string.  Now print the object.  </B>"
   ]
  },
  {
   "cell_type": "code",
   "execution_count": null,
   "id": "3b09e4cc",
   "metadata": {},
   "outputs": [],
   "source": [
    "class Value:\n",
    "    def __init__(self, val):\n",
    "        self.aaa = val\n",
    "\n",
    "    def getval(self):\n",
    "        return self.aaa\n",
    "\n",
    "mynum = Value(10)\n",
    "\n"
   ]
  },
  {
   "cell_type": "markdown",
   "id": "346cee6d",
   "metadata": {},
   "source": [
    " "
   ]
  },
  {
   "cell_type": "markdown",
   "id": "2d158f26",
   "metadata": {},
   "source": [
    "<B>7.19:  <u>Allow an object to respond to subscripting</u>.  Define a <B>\\_\\_setitem\\_\\_(self)</B> method that takes two arguments (besides <B>self</B>) and prints the two arguments.  Now attempt to subscript the object.  </B>"
   ]
  },
  {
   "cell_type": "code",
   "execution_count": null,
   "id": "f721e5e6",
   "metadata": {},
   "outputs": [],
   "source": [
    "class Value:\n",
    "    def __init__(self, val):\n",
    "        self.aaa = val\n",
    "\n",
    "mynum = Value(10)\n",
    "\n",
    "mynum['a'] = 55     # prints \"called __setitem__(a, 55)\"\n"
   ]
  },
  {
   "cell_type": "markdown",
   "id": "afa2a348",
   "metadata": {},
   "source": [
    " "
   ]
  },
  {
   "cell_type": "markdown",
   "id": "e44810d5",
   "metadata": {},
   "source": [
    "<B>7.20:  <u>Replace <B>getval()</B> with <B>\\_\\_getitem\\_\\_()</B></u>.  The method should take one argument (besides <B>self</B>) and return the <B>.aaa</B> attribute.  Now attempt to subscript the object.  </B>"
   ]
  },
  {
   "cell_type": "code",
   "execution_count": null,
   "id": "1966dd0a",
   "metadata": {},
   "outputs": [],
   "source": [
    "class Value:\n",
    "    def __init__(self, val):\n",
    "        self.aaa = val\n",
    "\n",
    "    def getval(self):\n",
    "        return self.aaa\n",
    "\n",
    "mynum = Value('10')\n",
    "\n",
    "val = mynum.getval()      # 10\n",
    "\n",
    "# uncomment after adding __getitem__\n",
    "# val = mynum['whaeva']      # 10"
   ]
  },
  {
   "cell_type": "markdown",
   "id": "27ed1c26",
   "metadata": {},
   "source": [
    " "
   ]
  },
  {
   "cell_type": "markdown",
   "id": "04bfd93d",
   "metadata": {},
   "source": [
    "INHERITING FROM BUILTINS"
   ]
  },
  {
   "cell_type": "markdown",
   "id": "08f49ed4",
   "metadata": {},
   "source": [
    "<B>7.21:  <u>Make <B>IntList</B> inherit from <B>list</B> and then treat it like a list</u>.</B>"
   ]
  },
  {
   "cell_type": "code",
   "execution_count": null,
   "id": "78eab680",
   "metadata": {},
   "outputs": [],
   "source": [
    "class IntList:\n",
    "    pass           # means an empty block\n",
    "\n",
    "x = IntList()\n",
    "\n",
    "# uncomment once we are inheriting from list.\n",
    "#x.append(5)\n",
    "#x.append(3)\n",
    "#print(x)"
   ]
  },
  {
   "cell_type": "markdown",
   "id": "3649e205",
   "metadata": {},
   "source": [
    " "
   ]
  },
  {
   "cell_type": "markdown",
   "id": "010ed4c1",
   "metadata": {},
   "source": [
    "<B>7.22:  <u>Add an <B>append()</B> method to <B>IntList</B> to specialize the method.  Inside the method, only print a message; don't try to perform the append.  </B>"
   ]
  },
  {
   "cell_type": "code",
   "execution_count": null,
   "id": "57f94ef9",
   "metadata": {},
   "outputs": [],
   "source": [
    "class IntList(list):\n",
    "    pass\n",
    "\n",
    "x = IntList()\n",
    "\n",
    "x.append(5)       # now appending 5!\n",
    "x.append(3)       # now appending 3!\n",
    "\n",
    "print(x)          # [5, 3]"
   ]
  },
  {
   "cell_type": "markdown",
   "id": "7340fd1e",
   "metadata": {},
   "source": [
    " "
   ]
  },
  {
   "cell_type": "markdown",
   "id": "6ccaa20e",
   "metadata": {},
   "source": [
    "<B>7.23:  <U>Call <B>list.append()</B> from within the inheriting class</U>.  From inside the <B>IntList</B> <B>.append()</B> method, call the <B>append()</B> method on the object by calling it on the parent class.  (Don't call it on <B>self</B> or you will set up an endless loop.)</B>"
   ]
  },
  {
   "cell_type": "code",
   "execution_count": null,
   "id": "0a3363a4",
   "metadata": {},
   "outputs": [],
   "source": [
    "class IntList(list):\n",
    "    def append(self, item):\n",
    "        print(f'now appending {5}!')\n",
    "\n",
    "x = IntList()\n",
    "\n",
    "x.append(5)       # now appending 5!\n",
    "x.append(3)       # now appending 3!\n",
    "\n",
    "print(x)          # []"
   ]
  },
  {
   "cell_type": "markdown",
   "id": "aee7f6bc",
   "metadata": {},
   "source": [
    " "
   ]
  },
  {
   "cell_type": "markdown",
   "id": "79a2f150",
   "metadata": {},
   "source": [
    "TRAPPING AND RAISING EXCEPTIONS"
   ]
  },
  {
   "cell_type": "markdown",
   "id": "4392956c",
   "metadata": {},
   "source": [
    "<B>7.24:  (Review) <u>Trap the exception</u>.  First, run the script to see what exception is raised.  Then, use a <B>try/except</B> statement to trap the error.  In the <B>except</B> block, set <B>xi</B> to <B>1</b>.  </B>"
   ]
  },
  {
   "cell_type": "code",
   "execution_count": null,
   "id": "12688db8",
   "metadata": {},
   "outputs": [],
   "source": [
    "x = input('please enter an integer: ')\n",
    "\n",
    "xi = int(x)\n",
    "\n",
    "print(f'{xi} * 2 = {xi * 2}')"
   ]
  },
  {
   "cell_type": "markdown",
   "id": "5fc2ac2b",
   "metadata": {},
   "source": [
    "<B>PLEASE DO NOT USE except: BY ITSELF!</B>  This works, but we must always specify the exception we are expecting.\n",
    "\n",
    "To test, run the program once with \"correct\" input (i.e., numbers only) and then run it again with \"bad\" input (i.e., letters) to trigger the exception."
   ]
  },
  {
   "cell_type": "markdown",
   "id": "311279f7",
   "metadata": {},
   "source": [
    " "
   ]
  },
  {
   "cell_type": "markdown",
   "id": "6df21081",
   "metadata": {},
   "source": [
    "<B>7.25:  (Review) <u>Trap the exception</u>.  Again, determine the exception type that will occur if the user types in a key that doesn't exist in the dict.  Then use the <B>try/except</B> to trap the exception (PLEASE DO NOT USE except: BY ITSELF).  If the exception is raised, assign None to <B>val</B>.    </B>"
   ]
  },
  {
   "cell_type": "code",
   "execution_count": null,
   "id": "798aabe2",
   "metadata": {},
   "outputs": [],
   "source": [
    "keydict = {'a': 1, 'b': 2, 'c': 3}\n",
    "\n",
    "x = input('please enter a key for this dict: ')\n",
    "\n",
    "val = keydict[x]\n",
    "\n",
    "print(f'the value for {x} is {val}.')"
   ]
  },
  {
   "cell_type": "markdown",
   "id": "ed7e8d34",
   "metadata": {},
   "source": [
    " "
   ]
  },
  {
   "cell_type": "markdown",
   "id": "e331f5ea",
   "metadata": {},
   "source": [
    "<B>7.26:  <u>Trap the exception, then <B>raise</B> a new one</u>.  Inside the <B>except</B> block, raise another <B>KeyError</B>, or any existing exception that you choose.  </B>"
   ]
  },
  {
   "cell_type": "code",
   "execution_count": null,
   "id": "56beb8da",
   "metadata": {},
   "outputs": [],
   "source": [
    "keydict = {'a': 1, 'b': 2, 'c': 3}\n",
    "\n",
    "x = input('please enter a key for this dict: ')\n",
    "\n",
    "try:\n",
    "    val = keydict[x]\n",
    "except KeyError:\n",
    "    print('uh-oh')   # replace this code\n",
    "\n",
    "print(f'the value for {x} is {val}.')"
   ]
  },
  {
   "cell_type": "markdown",
   "id": "8b9171ab",
   "metadata": {},
   "source": [
    " "
   ]
  },
  {
   "cell_type": "markdown",
   "id": "37d881a0",
   "metadata": {},
   "source": [
    "<B>7.27:  <u>Without any reason, raise a <B>ValueError</B> exception</u>.  Choose your favorite exception!  You don't have one?  Then <B>raise ZeroDivisionError</b>.  </B>"
   ]
  },
  {
   "cell_type": "code",
   "execution_count": null,
   "id": "e3c44043",
   "metadata": {},
   "outputs": [],
   "source": [
    "# your code here"
   ]
  },
  {
   "cell_type": "markdown",
   "id": "919af4f5",
   "metadata": {},
   "source": [
    " "
   ]
  }
 ],
 "metadata": {},
 "nbformat": 4,
 "nbformat_minor": 5
}
