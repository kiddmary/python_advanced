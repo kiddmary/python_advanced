{
 "cells": [
  {
   "cell_type": "markdown",
   "id": "35aa4946",
   "metadata": {},
   "source": [
    "# In-Class Exercises, Session 4"
   ]
  },
  {
   "cell_type": "markdown",
   "id": "098e46a9",
   "metadata": {},
   "source": [
    "MATCHING"
   ]
  },
  {
   "cell_type": "markdown",
   "id": "c0bb5aaf",
   "metadata": {},
   "source": [
    "<B>4.1:  <U>Match a simple character pattern</U>.  </B>"
   ]
  },
  {
   "cell_type": "markdown",
   "id": "ded7ac5c",
   "metadata": {},
   "source": [
    "Search for 'Velas', then try 'Benter' and 'Acme'.\n"
   ]
  },
  {
   "cell_type": "code",
   "execution_count": null,
   "id": "086f80b5",
   "metadata": {},
   "outputs": [],
   "source": [
    "import re\n",
    "\n",
    "lines = [\n",
    "  'Acme Corporation is heded by CEO Joseph Benter, and ',\n",
    "  'President Maria Velas.  Mr. Benter focuses on R&D ',\n",
    "  'while Ms. Velas provides vision and major deals for ',\n",
    "  'Acme.  ']\n",
    "\n",
    "for line in lines:\n",
    "    if re.search(r'', line):\n",
    "        print(line)"
   ]
  },
  {
   "cell_type": "markdown",
   "id": "f884bbc3",
   "metadata": {},
   "source": [
    "<U>Expected Output</U> (for <B>Velas</B>):"
   ]
  },
  {
   "cell_type": "markdown",
   "id": "c5afe7d0",
   "metadata": {},
   "source": [
    "<pre style=\"margin: 0; padding=0\"><DIV style=\"font-family: Courier; border: 1px solid #dbdbdb; padding: 7px\">President Maria Velas.  Mr. Benter focuses on R&D\n",
    "while Ms. Velas provides vision and major deals for</DIV></pre>"
   ]
  },
  {
   "cell_type": "markdown",
   "id": "ce2311b8",
   "metadata": {},
   "source": [
    " "
   ]
  },
  {
   "cell_type": "markdown",
   "id": "117c7a32",
   "metadata": {},
   "source": [
    "<B>4.2:  <U>'not' to negate a search</U>.  Execute previous pattern with 'not' in front of <B>re.search()</B></B>"
   ]
  },
  {
   "cell_type": "code",
   "execution_count": null,
   "id": "46cd31e5",
   "metadata": {},
   "outputs": [],
   "source": [
    "import re\n",
    "\n",
    "lines = [\n",
    "  'Acme Corporation is heded by CEO Joseph Benter, and ',\n",
    "  'President Maria Velas.  Mr. Benter focuses on R&D ',\n",
    "  'while Ms. Velas provides vision and major deals for ',\n",
    "  'Acme.  ']\n",
    "\n",
    "for line in lines:\n",
    "    if re.search(r'Benter', line):\n",
    "        print(line)"
   ]
  },
  {
   "cell_type": "markdown",
   "id": "7ba959d6",
   "metadata": {},
   "source": [
    "<U>Expected Output</U> (for <B>Benter</B>):"
   ]
  },
  {
   "cell_type": "markdown",
   "id": "c7c7f822",
   "metadata": {},
   "source": [
    "<pre style=\"margin: 0; padding=0\"><DIV style=\"font-family: Courier; border: 1px solid #dbdbdb; padding: 7px\">while Ms. Velas provides vision and major deals for\n",
    "Acme.</DIV></pre>"
   ]
  },
  {
   "cell_type": "markdown",
   "id": "4900e114",
   "metadata": {},
   "source": [
    " "
   ]
  },
  {
   "cell_type": "markdown",
   "id": "f1ce735e",
   "metadata": {},
   "source": [
    "ANCHORS"
   ]
  },
  {
   "cell_type": "markdown",
   "id": "2a0ce050",
   "metadata": {},
   "source": [
    "<B>4.3:  <U>Anchors - start of string</U>.  </B>"
   ]
  },
  {
   "cell_type": "markdown",
   "id": "f62fad28",
   "metadata": {},
   "source": [
    "Print only those lines that have 'TEL' at the start:"
   ]
  },
  {
   "cell_type": "code",
   "execution_count": null,
   "id": "fc01f4c5",
   "metadata": {},
   "outputs": [],
   "source": [
    "import re\n",
    "\n",
    "for text_line in ['AURORA HOTEL',\n",
    "                  'OPEN12:00 AM - 11:59 PM',\n",
    "                  '14200 E ALAMEDA AVE AURORA, CO 80012',\n",
    "                  'TEL (303) 344-9901']:\n",
    "    if re.search(r'', text_line):\n",
    "        print(text_line)"
   ]
  },
  {
   "cell_type": "markdown",
   "id": "21781398",
   "metadata": {},
   "source": [
    "<U>Expected Output</U>:"
   ]
  },
  {
   "cell_type": "markdown",
   "id": "f2ab8354",
   "metadata": {},
   "source": [
    "<pre style=\"margin: 0; padding=0\"><DIV style=\"font-family: Courier; border: 1px solid #dbdbdb; padding: 7px\">TEL (303) 344-9901</DIV></pre>"
   ]
  },
  {
   "cell_type": "markdown",
   "id": "983194ef",
   "metadata": {},
   "source": [
    " "
   ]
  },
  {
   "cell_type": "markdown",
   "id": "26ebe465",
   "metadata": {},
   "source": [
    "<B>4.4:  <U>Anchors - end of string</U>.  </B>"
   ]
  },
  {
   "cell_type": "markdown",
   "id": "b885a596",
   "metadata": {},
   "source": [
    "Print only those files that end in .jpg"
   ]
  },
  {
   "cell_type": "code",
   "execution_count": null,
   "id": "08b594ae",
   "metadata": {},
   "outputs": [],
   "source": [
    "import re\n",
    "\n",
    "filenames = ['image.jpg', 'image.png', 'filejpg.txt', 'file2.doc',\n",
    "             'file3.pdf', 'image2.gif', 'image3.jpg', 'image4.jpg']\n",
    "\n",
    "for name in filenames:\n",
    "    if re.search(r'', name):\n",
    "        print(name)"
   ]
  },
  {
   "cell_type": "markdown",
   "id": "26d0f2a6",
   "metadata": {},
   "source": [
    "<U>Expected Output</U>:"
   ]
  },
  {
   "cell_type": "markdown",
   "id": "69934e9b",
   "metadata": {},
   "source": [
    "<pre style=\"margin: 0; padding=0\"><DIV style=\"font-family: Courier; border: 1px solid #dbdbdb; padding: 7px\">image.jpg\n",
    "image3.jpg\n",
    "image4.jpg</DIV></pre>"
   ]
  },
  {
   "cell_type": "markdown",
   "id": "ebe48f33",
   "metadata": {},
   "source": [
    " "
   ]
  },
  {
   "cell_type": "markdown",
   "id": "77aa78d7",
   "metadata": {},
   "source": [
    "BUILT-IN CHARACTER CLASSES"
   ]
  },
  {
   "cell_type": "markdown",
   "id": "fe220a1b",
   "metadata": {},
   "source": [
    "<B>4.5:  <U>\"Digit\" character class</U>.   </B>"
   ]
  },
  {
   "cell_type": "markdown",
   "id": "0a333012",
   "metadata": {},
   "source": [
    "Match on each string that has a digit.\n"
   ]
  },
  {
   "cell_type": "code",
   "execution_count": null,
   "id": "c3e68849",
   "metadata": {},
   "outputs": [],
   "source": [
    "import re\n",
    "\n",
    "match_strings = [\n",
    "    'hello world 00',\n",
    "    'goodbye world    ',\n",
    "    ' 23 bonjour',\n",
    "    'wilkommen23  ',\n",
    "    'aloha',\n",
    "    '99',\n",
    "    '00',\n",
    "    '88557799',\n",
    "    'Que 3 Tal!',\n",
    "    'myfile.jpg',\n",
    "    'yourfile.JPG'\n",
    "]\n",
    "\n",
    "count = 0\n",
    "for string in match_strings:\n",
    "    if re.search(r'', string):\n",
    "        print(string)\n",
    "        count += 1\n",
    "print(f'count:  {count}')"
   ]
  },
  {
   "cell_type": "markdown",
   "id": "26a563dc",
   "metadata": {},
   "source": [
    "<U>Expected Output</U>:"
   ]
  },
  {
   "cell_type": "markdown",
   "id": "2eae5e4a",
   "metadata": {},
   "source": [
    "<pre style=\"margin: 0; padding=0\"><DIV style=\"font-family: Courier; border: 1px solid #dbdbdb; padding: 7px\">hello world 00\n",
    " 23 bonjour\n",
    "wilkommen23\n",
    "99\n",
    "00\n",
    "88557799\n",
    "Que 3 Tal!\n",
    "count: 7</DIV></pre>"
   ]
  },
  {
   "cell_type": "markdown",
   "id": "b2458963",
   "metadata": {},
   "source": [
    " "
   ]
  },
  {
   "cell_type": "markdown",
   "id": "91af00d4",
   "metadata": {},
   "source": [
    "<B>4.6:  <U>\"Word\" character class</U>.  </B>"
   ]
  },
  {
   "cell_type": "markdown",
   "id": "d31ad79a",
   "metadata": {},
   "source": [
    "Match each string that has a letter, number or underscore.\n"
   ]
  },
  {
   "cell_type": "code",
   "execution_count": null,
   "id": "8b4885f1",
   "metadata": {},
   "outputs": [],
   "source": [
    "import re\n",
    "\n",
    "match_strings = [\n",
    "    'hello world 00',\n",
    "    'goodbye world    ',\n",
    "    ' 23 bonjour',\n",
    "    'wilkommen23  ',\n",
    "    'aloha',\n",
    "    '99',\n",
    "    '00',\n",
    "    '88557799',\n",
    "    'Que 3 Tal!',\n",
    "    'myfile.jpg',\n",
    "    'yourfile.JPG'\n",
    "]\n",
    "\n",
    "count = 0\n",
    "for string in match_strings:\n",
    "    if re.search(r'', string):\n",
    "        print(string)\n",
    "        count += 1\n",
    "print(f'count:  {count}')\n"
   ]
  },
  {
   "cell_type": "markdown",
   "id": "8208c89b",
   "metadata": {},
   "source": [
    "<U>Expected Output</U>:"
   ]
  },
  {
   "cell_type": "markdown",
   "id": "50d4af8e",
   "metadata": {},
   "source": [
    "<pre style=\"margin: 0; padding=0\"><DIV style=\"font-family: Courier; border: 1px solid #dbdbdb; padding: 7px\"></DIV></pre>"
   ]
  },
  {
   "cell_type": "markdown",
   "id": "426eebab",
   "metadata": {},
   "source": [
    " "
   ]
  },
  {
   "cell_type": "markdown",
   "id": "467f47a4",
   "metadata": {},
   "source": [
    "<B>4.7:  <U>\"Space\" character class</U>.  </B>"
   ]
  },
  {
   "cell_type": "markdown",
   "id": "9e9a6c72",
   "metadata": {},
   "source": [
    "Match on each line that has a space.\n"
   ]
  },
  {
   "cell_type": "code",
   "execution_count": null,
   "id": "bb344819",
   "metadata": {},
   "outputs": [],
   "source": [
    "import re\n",
    "\n",
    "match_strings = [\n",
    "    'hello world 00',\n",
    "    'goodbye world    ',\n",
    "    ' 23 bonjour',\n",
    "    'wilkommen23  ',\n",
    "    'aloha',\n",
    "    '99',\n",
    "    '00',\n",
    "    '88557799',\n",
    "    'Que 3 Tal!',\n",
    "    'myfile.jpg',\n",
    "    'yourfile.JPG'\n",
    "]\n",
    "\n",
    "count = 0\n",
    "for string in match_strings:\n",
    "    if re.search(r'', string):\n",
    "        print(string)\n",
    "        count += 1\n",
    "print(f'count:  {count}')"
   ]
  },
  {
   "cell_type": "markdown",
   "id": "33597d81",
   "metadata": {},
   "source": [
    "<U>Expected Output</U>:"
   ]
  },
  {
   "cell_type": "markdown",
   "id": "dcb1a4d1",
   "metadata": {},
   "source": [
    "<pre style=\"margin: 0; padding=0\"><DIV style=\"font-family: Courier; border: 1px solid #dbdbdb; padding: 7px\"></DIV></pre>"
   ]
  },
  {
   "cell_type": "markdown",
   "id": "b6be06fd",
   "metadata": {},
   "source": [
    " "
   ]
  },
  {
   "cell_type": "markdown",
   "id": "7fe43841",
   "metadata": {},
   "source": [
    "INVERSE CHARACTER CLASSES"
   ]
  },
  {
   "cell_type": "markdown",
   "id": "48242c9a",
   "metadata": {},
   "source": [
    "<B>4.8:  <U>\"Not a digit\" character class</U>.  </B>"
   ]
  },
  {
   "cell_type": "markdown",
   "id": "100ab5fb",
   "metadata": {},
   "source": [
    "Match on each string that has a character that is not a digit."
   ]
  },
  {
   "cell_type": "code",
   "execution_count": null,
   "id": "f1f8ba71",
   "metadata": {},
   "outputs": [],
   "source": [
    "import re\n",
    "\n",
    "match_strings = [\n",
    "    'hello world 00',\n",
    "    'goodbye world    ',\n",
    "    ' 23 bonjour',\n",
    "    'wilkommen23  ',\n",
    "    'aloha',\n",
    "    '99',\n",
    "    '00',\n",
    "    '88557799',\n",
    "    'Que 3 Tal!',\n",
    "    'myfile.jpg',\n",
    "    'yourfile.JPG'\n",
    "]\n",
    "\n",
    "count = 0\n",
    "for string in match_strings:\n",
    "    if re.search(r'', string):\n",
    "        print(string)\n",
    "        count += 1\n",
    "print(f'count:  {count}')"
   ]
  },
  {
   "cell_type": "markdown",
   "id": "a853629b",
   "metadata": {},
   "source": [
    "<U>Expected Output</U>:"
   ]
  },
  {
   "cell_type": "markdown",
   "id": "0bbf3c7d",
   "metadata": {},
   "source": [
    "<pre style=\"margin: 0; padding=0\"><DIV style=\"font-family: Courier; border: 1px solid #dbdbdb; padding: 7px\">hello world 00\n",
    "goodbye world\n",
    " 23 bonjour\n",
    "wilkommen23\n",
    "aloha\n",
    "Que 3 Tal!\n",
    "myfile.jpg\n",
    "yourfile.JPG\n",
    "count: 8</DIV></pre>"
   ]
  },
  {
   "cell_type": "markdown",
   "id": "cf32e59e",
   "metadata": {},
   "source": [
    " "
   ]
  },
  {
   "cell_type": "markdown",
   "id": "acc62b6d",
   "metadata": {},
   "source": [
    "<B>4.9:  <U>\"Not a space\" character class</U>.  </B>"
   ]
  },
  {
   "cell_type": "markdown",
   "id": "383eeb33",
   "metadata": {},
   "source": [
    "Match on each string that has any non-spaces."
   ]
  },
  {
   "cell_type": "code",
   "execution_count": null,
   "id": "e1b8b6fc",
   "metadata": {},
   "outputs": [],
   "source": [
    "import re\n",
    "\n",
    "match_strings = [\n",
    "    'hello world 00',\n",
    "    'goodbye world    ',\n",
    "    ' 23 bonjour',\n",
    "    'wilkommen23  ',\n",
    "    '    ',\n",
    "    'aloha',\n",
    "    '99',\n",
    "    '00',\n",
    "    '88557799',\n",
    "    'Que 3 Tal!',\n",
    "    'myfile.jpg',\n",
    "    'yourfile.JPG'\n",
    "]\n",
    "\n",
    "count = 0\n",
    "for string in match_strings:\n",
    "    if re.search(r'', string):\n",
    "        print(string)\n",
    "        count += 1\n",
    "print(f'count:  {count}')"
   ]
  },
  {
   "cell_type": "markdown",
   "id": "ee933f52",
   "metadata": {},
   "source": [
    "<U>Expected Output</U>:"
   ]
  },
  {
   "cell_type": "markdown",
   "id": "adce4808",
   "metadata": {},
   "source": [
    "<pre style=\"margin: 0; padding=0\"><DIV style=\"font-family: Courier; border: 1px solid #dbdbdb; padding: 7px\">hello world 00\n",
    "goodbye world\n",
    " 23 bonjour\n",
    "wilkommen23\n",
    "aloha\n",
    "99\n",
    "00\n",
    "88557799\n",
    "Que 3 Tal!\n",
    "myfile.jpg\n",
    "yourfile.JPG\n",
    "count: 11</DIV></pre>"
   ]
  },
  {
   "cell_type": "markdown",
   "id": "ad6cd549",
   "metadata": {},
   "source": [
    " "
   ]
  },
  {
   "cell_type": "markdown",
   "id": "9190bc12",
   "metadata": {},
   "source": [
    "CUSTOM CHARACTER CLASSES"
   ]
  },
  {
   "cell_type": "markdown",
   "id": "257814cc",
   "metadata": {},
   "source": [
    "<B>4.10:  <U>Custom character class</U>.  </B>"
   ]
  },
  {
   "cell_type": "markdown",
   "id": "ca866d52",
   "metadata": {},
   "source": [
    "Match on each string that has a capital letter in it.\n"
   ]
  },
  {
   "cell_type": "code",
   "execution_count": null,
   "id": "67029b19",
   "metadata": {},
   "outputs": [],
   "source": [
    "import re\n",
    "\n",
    "match_strings = [\n",
    "    'hello world 00',\n",
    "    'goodbye world    ',\n",
    "    ' 23 bonjour',\n",
    "    'wilkommen23  ',\n",
    "    'aloha',\n",
    "    '99',\n",
    "    '00',\n",
    "    '88557799',\n",
    "    'Que 3 Tal!',\n",
    "    'myfile.jpg',\n",
    "    'yourfile.JPG'\n",
    "]\n",
    "\n",
    "count = 0\n",
    "for string in match_strings:\n",
    "    if re.search(r'', string):\n",
    "        print(string)\n",
    "        count += 1\n",
    "print(f'count:  {count}')"
   ]
  },
  {
   "cell_type": "markdown",
   "id": "5481b906",
   "metadata": {},
   "source": [
    "<U>Expected Output</U>:"
   ]
  },
  {
   "cell_type": "markdown",
   "id": "9970ce58",
   "metadata": {},
   "source": [
    "<pre style=\"margin: 0; padding=0\"><DIV style=\"font-family: Courier; border: 1px solid #dbdbdb; padding: 7px\">Que 3 Tal!\n",
    "yourfile.JPG\n",
    "count: 2</DIV></pre>"
   ]
  },
  {
   "cell_type": "markdown",
   "id": "7148dacc",
   "metadata": {},
   "source": [
    " "
   ]
  },
  {
   "cell_type": "markdown",
   "id": "fe92d984",
   "metadata": {},
   "source": [
    "<B>4.11:  <U>Using custom character class with built-in character class</U>.  </B>"
   ]
  },
  {
   "cell_type": "markdown",
   "id": "4da9cc0d",
   "metadata": {},
   "source": [
    "Match on each string that has a letter followed by a number.\n"
   ]
  },
  {
   "cell_type": "code",
   "execution_count": null,
   "id": "422cde1b",
   "metadata": {},
   "outputs": [],
   "source": [
    "import re\n",
    "\n",
    "match_strings = [\n",
    "    'hello world 00',\n",
    "    'goodbye world    ',\n",
    "    ' 23 bonjour',\n",
    "    'wilkommen23  ',\n",
    "    'aloha',\n",
    "    '99',\n",
    "    '00',\n",
    "    '88557799',\n",
    "    'Que 3 Tal!',\n",
    "    'myfile.jpg',\n",
    "    'yourfile.JPG'\n",
    "]\n",
    "\n",
    "count = 0\n",
    "for string in match_strings:\n",
    "    if re.search(r'', string):\n",
    "        print(string)\n",
    "        count += 1\n",
    "print(f'count:  {count}')"
   ]
  },
  {
   "cell_type": "markdown",
   "id": "1c24aea4",
   "metadata": {},
   "source": [
    "<U>Expected Output</U>:"
   ]
  },
  {
   "cell_type": "markdown",
   "id": "09a07f55",
   "metadata": {},
   "source": [
    "<pre style=\"margin: 0; padding=0\"><DIV style=\"font-family: Courier; border: 1px solid #dbdbdb; padding: 7px\">wilkommen23\n",
    "count: 1</DIV></pre>"
   ]
  },
  {
   "cell_type": "markdown",
   "id": "85a435e3",
   "metadata": {},
   "source": [
    " "
   ]
  },
  {
   "cell_type": "markdown",
   "id": "88662b7c",
   "metadata": {},
   "source": [
    "INVERSE CUSTOM CHARACTER CLASSES"
   ]
  },
  {
   "cell_type": "markdown",
   "id": "36fc2b7e",
   "metadata": {},
   "source": [
    "<B>4.12:  <U>Inverse Custom Character Class</U>. Match on each string that has any character that is not a letter.</B>"
   ]
  },
  {
   "cell_type": "code",
   "execution_count": null,
   "id": "191f977d",
   "metadata": {},
   "outputs": [],
   "source": [
    "import re\n",
    "\n",
    "match_strings = [\n",
    "    'hello world 00',\n",
    "    'goodbye world    ',\n",
    "    ' 23 bonjour',\n",
    "    'wilkommen23  ',\n",
    "    'aloha',\n",
    "    '99',\n",
    "    '00',\n",
    "    '88557799',\n",
    "    'Que 3 Tal!',\n",
    "    'myfile.jpg',\n",
    "    'yourfile.JPG'\n",
    "]\n",
    "\n",
    "count = 0\n",
    "for string in match_strings:\n",
    "    if re.search(r'', string):\n",
    "        print(string)\n",
    "        count += 1\n",
    "print(f'count:  {count}')"
   ]
  },
  {
   "cell_type": "markdown",
   "id": "719a95ec",
   "metadata": {},
   "source": [
    "<U>Expected Output</U>:"
   ]
  },
  {
   "cell_type": "markdown",
   "id": "93c1d8e8",
   "metadata": {},
   "source": [
    "<pre style=\"margin: 0; padding=0\"><DIV style=\"font-family: Courier; border: 1px solid #dbdbdb; padding: 7px\">hello world 00\n",
    "goodbye world\n",
    " 23 bonjour\n",
    "wilkommen23\n",
    "99\n",
    "00\n",
    "88557799\n",
    "Que 3 Tal!\n",
    "myfile.jpg\n",
    "yourfile.JPG\n",
    "count: 10</DIV></pre>"
   ]
  },
  {
   "cell_type": "markdown",
   "id": "36bf88de",
   "metadata": {},
   "source": [
    " "
   ]
  },
  {
   "cell_type": "markdown",
   "id": "de6484ad",
   "metadata": {},
   "source": [
    "THE WILDCARD"
   ]
  },
  {
   "cell_type": "markdown",
   "id": "9aa14d7d",
   "metadata": {},
   "source": [
    "<B>4.13:  Match on each string that ends with a character that is not a digit.</B>"
   ]
  },
  {
   "cell_type": "code",
   "execution_count": null,
   "id": "49cd8bc2",
   "metadata": {},
   "outputs": [],
   "source": [
    "import re\n",
    "\n",
    "match_strings = [\n",
    "    'hello world 00',\n",
    "    'goodbye world    ',\n",
    "    ' 23 bonjour',\n",
    "    'wilkommen23  ',\n",
    "    'aloha',\n",
    "    '99',\n",
    "    '00',\n",
    "    '88557799',\n",
    "    'Que 3 Tal!',\n",
    "    'myfile.jpg',\n",
    "    'yourfile.JPG'\n",
    "]\n",
    "\n",
    "count = 0\n",
    "for string in match_strings:\n",
    "    if re.search(r'', string):\n",
    "        print(string)\n",
    "        count += 1\n",
    "print(f'count:  {count}')"
   ]
  },
  {
   "cell_type": "markdown",
   "id": "d6012cf7",
   "metadata": {},
   "source": [
    "<U>Expected Output</U>:"
   ]
  },
  {
   "cell_type": "markdown",
   "id": "cc34e1fc",
   "metadata": {},
   "source": [
    "<pre style=\"margin: 0; padding=0\"><DIV style=\"font-family: Courier; border: 1px solid #dbdbdb; padding: 7px\">goodbye world\n",
    " 23 bonjour\n",
    "wilkommen23\n",
    "aloha\n",
    "Que 3 Tal!\n",
    "myfile.jpg\n",
    "yourfile.JPG\n",
    "count: 7</DIV></pre>"
   ]
  },
  {
   "cell_type": "markdown",
   "id": "9d3e2e69",
   "metadata": {},
   "source": [
    " "
   ]
  },
  {
   "cell_type": "markdown",
   "id": "849ad3af",
   "metadata": {},
   "source": [
    "<B>4.14:  <U>Demo:  match on any character</U>. </B>"
   ]
  },
  {
   "cell_type": "markdown",
   "id": "84af51a7",
   "metadata": {},
   "source": [
    "Use the wildcard (., a period) to see which strings match it.\n"
   ]
  },
  {
   "cell_type": "code",
   "execution_count": null,
   "id": "1bdc0a31",
   "metadata": {},
   "outputs": [],
   "source": [
    "import re\n",
    "\n",
    "match_strings = [\n",
    "    'hello world 00',\n",
    "    'goodbye world    ',\n",
    "    ' 23 bonjour',\n",
    "    'wilkommen23  ',\n",
    "    'aloha',\n",
    "    '99',\n",
    "    '00',\n",
    "    '88557799',\n",
    "    'Que 3 Tal!',\n",
    "    'myfile.jpg',\n",
    "    'yourfile.JPG'\n",
    "]\n",
    "\n",
    "count = 0\n",
    "for string in match_strings:\n",
    "    if re.search(r'', string):\n",
    "        print(string)\n",
    "        count += 1\n",
    "print(f'count:  {count}')\n"
   ]
  },
  {
   "cell_type": "markdown",
   "id": "815289e5",
   "metadata": {},
   "source": [
    " "
   ]
  },
  {
   "cell_type": "markdown",
   "id": "ce213137",
   "metadata": {},
   "source": [
    "LAB 1"
   ]
  },
  {
   "cell_type": "markdown",
   "id": "3e336aa4",
   "metadata": {},
   "source": [
    "<div style=\"background-color: #ccffcc; padding: 10px; border: 2px solid green\"><B>4.15:  Match on each string that starts with a digit.   </B></div>"
   ]
  },
  {
   "cell_type": "code",
   "execution_count": null,
   "id": "1b4e23ca",
   "metadata": {},
   "outputs": [],
   "source": [
    "import re\n",
    "\n",
    "match_strings = [\n",
    "    'hello world 00',\n",
    "    'goodbye world    ',\n",
    "    ' 23 bonjour',\n",
    "    'wilkommen23  ',\n",
    "    'aloha',\n",
    "    '99',\n",
    "    '00',\n",
    "    '88557799',\n",
    "    'Que 3 Tal!',\n",
    "    'myfile.jpg',\n",
    "    'yourfile.JPG'\n",
    "]\n",
    "\n",
    "count = 0\n",
    "for string in match_strings:\n",
    "    if re.search(r'', string):\n",
    "        print(string)\n",
    "        count += 1\n",
    "print(f'count:  {count}')"
   ]
  },
  {
   "cell_type": "markdown",
   "id": "5d34c33d",
   "metadata": {},
   "source": [
    "<U>Expected Output</U>:"
   ]
  },
  {
   "cell_type": "markdown",
   "id": "2ac3c5d8",
   "metadata": {},
   "source": [
    "<pre style=\"margin: 0; padding=0\"><DIV style=\"font-family: Courier; border: 1px solid #dbdbdb; padding: 7px\">99\n",
    "00\n",
    "88557799\n",
    "count: 3</DIV></pre>"
   ]
  },
  {
   "cell_type": "markdown",
   "id": "1b065676",
   "metadata": {},
   "source": [
    " "
   ]
  },
  {
   "cell_type": "markdown",
   "id": "43cce1c6",
   "metadata": {},
   "source": [
    "<div style=\"background-color: #ccffcc; padding: 10px; border: 2px solid green\"><B>4.16:  Match on each string that starts with a space.  </B></div>"
   ]
  },
  {
   "cell_type": "code",
   "execution_count": null,
   "id": "0a678a92",
   "metadata": {},
   "outputs": [],
   "source": [
    "import re\n",
    "\n",
    "lines = [  'this is the first line,',\n",
    "           ' and this is the second line and',\n",
    "           ' this is the third line.  '     ]\n",
    "\n",
    "for line in lines:\n",
    "    if re.search(r'', line):\n",
    "        print(line)"
   ]
  },
  {
   "cell_type": "markdown",
   "id": "74e99034",
   "metadata": {},
   "source": [
    "<U>Expected Output</U>:"
   ]
  },
  {
   "cell_type": "markdown",
   "id": "1587c257",
   "metadata": {},
   "source": [
    "<pre style=\"margin: 0; padding=0\"><DIV style=\"font-family: Courier; border: 1px solid #dbdbdb; padding: 7px\"> and this is the second line and',\n",
    " this is the third line.  '     ]</DIV></pre>"
   ]
  },
  {
   "cell_type": "markdown",
   "id": "ab4c70ee",
   "metadata": {},
   "source": [
    " "
   ]
  },
  {
   "cell_type": "markdown",
   "id": "e0bb9121",
   "metadata": {},
   "source": [
    "<div style=\"background-color: #ccffcc; padding: 10px; border: 2px solid green\"><B>4.17:  Loop through and print only lines with some text (not including spaces).  </B></div>"
   ]
  },
  {
   "cell_type": "code",
   "execution_count": null,
   "id": "2b66a2e0",
   "metadata": {},
   "outputs": [],
   "source": [
    "import re\n",
    "\n",
    "text = \"\"\"line 1\n",
    "line 2,\n",
    "\n",
    "line 3...\n",
    "\n",
    "line4!\"\"\"\n",
    "\n",
    "lines = text.splitlines()\n",
    "\n",
    "for line in lines:\n",
    "    if re.search(r'', line):\n",
    "        print(line)"
   ]
  },
  {
   "cell_type": "markdown",
   "id": "f7efa429",
   "metadata": {},
   "source": [
    "<U>Expected Output</U>:"
   ]
  },
  {
   "cell_type": "markdown",
   "id": "4deb79a0",
   "metadata": {},
   "source": [
    "<pre style=\"margin: 0; padding=0\"><DIV style=\"font-family: Courier; border: 1px solid #dbdbdb; padding: 7px\">line 1\n",
    "line 2,\n",
    "line 3...\n",
    "line4!</DIV></pre>"
   ]
  },
  {
   "cell_type": "markdown",
   "id": "121050ae",
   "metadata": {},
   "source": [
    " "
   ]
  },
  {
   "cell_type": "markdown",
   "id": "f54460a5",
   "metadata": {},
   "source": [
    "<div style=\"background-color: #ccffcc; padding: 10px; border: 2px solid green\"><B>4.18:  Match on each string that ends with a digit.</B></div>"
   ]
  },
  {
   "cell_type": "code",
   "execution_count": null,
   "id": "f4e2e5ef",
   "metadata": {},
   "outputs": [],
   "source": [
    "import re\n",
    "\n",
    "match_strings = [\n",
    "    'hello world 00',\n",
    "    'goodbye world    ',\n",
    "    ' 23 bonjour',\n",
    "    'wilkommen23  ',\n",
    "    'aloha',\n",
    "    '99',\n",
    "    '00',\n",
    "    '88557799',\n",
    "    'Que 3 Tal!',\n",
    "    'myfile.jpg',\n",
    "    'yourfile.JPG'\n",
    "]\n",
    "\n",
    "count = 0\n",
    "for string in match_strings:\n",
    "    if re.search(r'', string):\n",
    "        print(string)\n",
    "        count += 1\n",
    "print(f'count:  {count}')"
   ]
  },
  {
   "cell_type": "markdown",
   "id": "f31aabe4",
   "metadata": {},
   "source": [
    "<U>Expected Output</U>:"
   ]
  },
  {
   "cell_type": "markdown",
   "id": "4ff8cf40",
   "metadata": {},
   "source": [
    "<pre style=\"margin: 0; padding=0\"><DIV style=\"font-family: Courier; border: 1px solid #dbdbdb; padding: 7px\">hello world 00\n",
    "99\n",
    "00\n",
    "88557799\n",
    "count: 4</DIV></pre>"
   ]
  },
  {
   "cell_type": "markdown",
   "id": "198d0a6e",
   "metadata": {},
   "source": [
    " "
   ]
  },
  {
   "cell_type": "markdown",
   "id": "c94ad752",
   "metadata": {},
   "source": [
    "<div style=\"background-color: #ccffcc; padding: 10px; border: 2px solid green\"><B>4.19:  Match on each line that ends with a space.</B></div>"
   ]
  },
  {
   "cell_type": "code",
   "execution_count": null,
   "id": "3f771de6",
   "metadata": {},
   "outputs": [],
   "source": [
    "import re\n",
    "\n",
    "lines = [  'this is the first line, ',\n",
    "           'this is the second line and',\n",
    "           'this is the third line.  '     ]\n",
    "\n",
    "for line in lines:\n",
    "    if re.search(r'', line):\n",
    "        print(line)"
   ]
  },
  {
   "cell_type": "markdown",
   "id": "48c8a256",
   "metadata": {},
   "source": [
    "<U>Expected Output</U>:"
   ]
  },
  {
   "cell_type": "markdown",
   "id": "0bd924eb",
   "metadata": {},
   "source": [
    "<pre style=\"margin: 0; padding=0\"><DIV style=\"font-family: Courier; border: 1px solid #dbdbdb; padding: 7px\">this is the first line,\n",
    "this is the third line.</DIV></pre>"
   ]
  },
  {
   "cell_type": "markdown",
   "id": "3fdc0c94",
   "metadata": {},
   "source": [
    " "
   ]
  },
  {
   "cell_type": "markdown",
   "id": "83121718",
   "metadata": {},
   "source": [
    "<div style=\"background-color: #ccffcc; padding: 10px; border: 2px solid green\"><B>4.20:  Match on each string that consists only of a 2-digit number.</B></div>"
   ]
  },
  {
   "cell_type": "code",
   "execution_count": null,
   "id": "bffa6273",
   "metadata": {},
   "outputs": [],
   "source": [
    "import re\n",
    "\n",
    "match_strings = [\n",
    "    'hello world 00',\n",
    "    'goodbye world    ',\n",
    "    ' 23 bonjour',\n",
    "    'wilkommen23  ',\n",
    "    'aloha',\n",
    "    '99',\n",
    "    '00',\n",
    "    '88557799',\n",
    "    'Que 3 Tal!',\n",
    "    'myfile.jpg',\n",
    "    'yourfile.JPG'\n",
    "]\n",
    "\n",
    "count = 0\n",
    "for string in match_strings:\n",
    "    if re.search(r'', string):\n",
    "        print(string)\n",
    "        count += 1\n",
    "print(f'count:  {count}')"
   ]
  },
  {
   "cell_type": "markdown",
   "id": "a5ebc7a6",
   "metadata": {},
   "source": [
    "<U>Expected Output</U>:"
   ]
  },
  {
   "cell_type": "markdown",
   "id": "65f61944",
   "metadata": {},
   "source": [
    "<pre style=\"margin: 0; padding=0\"><DIV style=\"font-family: Courier; border: 1px solid #dbdbdb; padding: 7px\">99\n",
    "00\n",
    "count: 2</DIV></pre>"
   ]
  },
  {
   "cell_type": "markdown",
   "id": "37669979",
   "metadata": {},
   "source": [
    " "
   ]
  },
  {
   "cell_type": "markdown",
   "id": "a10611cb",
   "metadata": {},
   "source": [
    "<div style=\"background-color: #ccffcc; padding: 10px; border: 2px solid green\"><B>4.21:  Match on a capital letter followed by a lowercase letter.  </B></div>"
   ]
  },
  {
   "cell_type": "code",
   "execution_count": null,
   "id": "06d63c7f",
   "metadata": {},
   "outputs": [],
   "source": [
    "import re\n",
    "\n",
    "match_strings = [\n",
    "    'hello world 00',\n",
    "    'goodbye world    ',\n",
    "    ' 23 bonjour',\n",
    "    'wilkommen23  ',\n",
    "    'aloha',\n",
    "    '99',\n",
    "    '00',\n",
    "    '88557799',\n",
    "    'Que 3 Tal!',\n",
    "    'myfile.jpg',\n",
    "    'yourfile.JPG'\n",
    "]\n",
    "\n",
    "count = 0\n",
    "for string in match_strings:\n",
    "    if re.search(r'', string):\n",
    "        print(string)\n",
    "        count += 1\n",
    "print(f'count:  {count}')"
   ]
  },
  {
   "cell_type": "markdown",
   "id": "7ce82607",
   "metadata": {},
   "source": [
    "<U>Expected Output</U>:"
   ]
  },
  {
   "cell_type": "markdown",
   "id": "0529c5d6",
   "metadata": {},
   "source": [
    "<pre style=\"margin: 0; padding=0\"><DIV style=\"font-family: Courier; border: 1px solid #dbdbdb; padding: 7px\">Que 3 Tal!</DIV></pre>"
   ]
  },
  {
   "cell_type": "markdown",
   "id": "da7c6f6e",
   "metadata": {},
   "source": [
    " "
   ]
  },
  {
   "cell_type": "markdown",
   "id": "aaa2c8f6",
   "metadata": {},
   "source": [
    "<div style=\"background-color: #ccffcc; padding: 10px; border: 2px solid green\"><B>4.22:  Match on files with date format YYYY-MM-DD followed by '.txt'.  </B></div>"
   ]
  },
  {
   "cell_type": "code",
   "execution_count": null,
   "id": "bbd53337",
   "metadata": {},
   "outputs": [],
   "source": [
    "import re\n",
    "\n",
    "dirlist = ('.', '..', '2010-12-15.txt', '2010-12-16.txt',\n",
    "           'testfile.txt', '20101-11-03.txt')\n",
    "\n",
    "for item in dirlist:\n",
    "    if re.search(r'', item):\n",
    "        print(item)"
   ]
  },
  {
   "cell_type": "markdown",
   "id": "300ce3ed",
   "metadata": {},
   "source": [
    "<U>Expected Output</U>:"
   ]
  },
  {
   "cell_type": "markdown",
   "id": "acc2771c",
   "metadata": {},
   "source": [
    "<pre style=\"margin: 0; padding=0\"><DIV style=\"font-family: Courier; border: 1px solid #dbdbdb; padding: 7px\">2010-12-15.txt\n",
    "2010-12-16.txt</DIV></pre>"
   ]
  },
  {
   "cell_type": "markdown",
   "id": "986aa4c9",
   "metadata": {},
   "source": [
    " "
   ]
  },
  {
   "cell_type": "markdown",
   "id": "dc304244",
   "metadata": {},
   "source": [
    "<div style=\"background-color: #ccffcc; padding: 10px; border: 2px solid green\"><B>4.23:  Match on date format MM/DD/YY (and not 4-digit year).  </B></div>"
   ]
  },
  {
   "cell_type": "code",
   "execution_count": null,
   "id": "a2e6a5bb",
   "metadata": {},
   "outputs": [],
   "source": [
    "import re\n",
    "\n",
    "dates = ['Jan. 3, 2018', '23-Mar-17', '12/02/98', '12/03/1998', '23.17.2018']\n",
    "for date in dates:\n",
    "    if re.search(r'', date):\n",
    "        print(date)"
   ]
  },
  {
   "cell_type": "markdown",
   "id": "aa1c6a21",
   "metadata": {},
   "source": [
    "<U>Expected Output</U>:"
   ]
  },
  {
   "cell_type": "markdown",
   "id": "3c24be30",
   "metadata": {},
   "source": [
    "<pre style=\"margin: 0; padding=0\"><DIV style=\"font-family: Courier; border: 1px solid #dbdbdb; padding: 7px\">12/02/98</DIV></pre>"
   ]
  },
  {
   "cell_type": "markdown",
   "id": "7086787c",
   "metadata": {},
   "source": [
    " "
   ]
  },
  {
   "cell_type": "markdown",
   "id": "ce6eaa34",
   "metadata": {},
   "source": [
    "<div style=\"background-color: #ccffcc; padding: 10px; border: 2px solid green\"><B>4.24:  Determine whether selected word begins with a vowel.  If so, prepend an 'an' rather an an 'a'.  </B></div>"
   ]
  },
  {
   "cell_type": "code",
   "execution_count": null,
   "id": "a78432b2",
   "metadata": {},
   "outputs": [],
   "source": [
    "import re\n",
    "\n",
    "words = ['apple', 'pear', 'orange', 'kiwi', 'elderberry', 'carrot', 'ugli fruit']\n",
    "for word in words:\n",
    "    if re.search(r'', word):\n",
    "        prepend = 'an'\n",
    "    else:\n",
    "        prepend = 'a'\n",
    "    print(f\"{prepend} {word}\")"
   ]
  },
  {
   "cell_type": "markdown",
   "id": "010345e0",
   "metadata": {},
   "source": [
    "<U>Expected Output</U>:"
   ]
  },
  {
   "cell_type": "markdown",
   "id": "4f558c9c",
   "metadata": {},
   "source": [
    "<pre style=\"margin: 0; padding=0\"><DIV style=\"font-family: Courier; border: 1px solid #dbdbdb; padding: 7px\">an apple\n",
    "a pear\n",
    "an orange\n",
    "a kiwi\n",
    "an elderberry\n",
    "a carrot\n",
    "an ugli fruit</DIV></pre>"
   ]
  },
  {
   "cell_type": "markdown",
   "id": "1e2c65a1",
   "metadata": {},
   "source": [
    " "
   ]
  },
  {
   "cell_type": "markdown",
   "id": "5be9ca0a",
   "metadata": {},
   "source": [
    "BUILT-IN QUANTIFIERS"
   ]
  },
  {
   "cell_type": "markdown",
   "id": "1c1f8b65",
   "metadata": {},
   "source": [
    "<B>4.25:  <U>\"One or more\" quantifier</U>.  Match on each string that has one or more letters in it.</B>"
   ]
  },
  {
   "cell_type": "code",
   "execution_count": null,
   "id": "be72df58",
   "metadata": {},
   "outputs": [],
   "source": [
    "import re\n",
    "\n",
    "match_strings = [\n",
    "    'hello world 00',\n",
    "    'goodbye world    ',\n",
    "    ' 23 bonjour',\n",
    "    'wilkommen23  ',\n",
    "    'aloha',\n",
    "    '99',\n",
    "    '00',\n",
    "    '88557799',\n",
    "    'Que 3 Tal!',\n",
    "    'myfile.jpg',\n",
    "    'yourfile.JPG'\n",
    "]\n",
    "\n",
    "count = 0\n",
    "for string in match_strings:\n",
    "    if re.search(r'', string):\n",
    "        print(string)\n",
    "        count += 1\n",
    "print(f'count:  {count}')"
   ]
  },
  {
   "cell_type": "markdown",
   "id": "c7902b62",
   "metadata": {},
   "source": [
    "<U>Expected Output</U>:"
   ]
  },
  {
   "cell_type": "markdown",
   "id": "2d99291e",
   "metadata": {},
   "source": [
    "<pre style=\"margin: 0; padding=0\"><DIV style=\"font-family: Courier; border: 1px solid #dbdbdb; padding: 7px\">hello world 00\n",
    "goodbye world\n",
    " 23 bonjour\n",
    "wilkommen23\n",
    "aloha\n",
    "Que 3 Tal!\n",
    "myfile.jpg\n",
    "yourfile.JPG\n",
    "count: 8</DIV></pre>"
   ]
  },
  {
   "cell_type": "markdown",
   "id": "4db290b3",
   "metadata": {},
   "source": [
    " "
   ]
  },
  {
   "cell_type": "markdown",
   "id": "37e33eb1",
   "metadata": {},
   "source": [
    "<B>4.26:  <U>\"Zero or one\" quantifier</U>.  </B>"
   ]
  },
  {
   "cell_type": "markdown",
   "id": "103654a2",
   "metadata": {},
   "source": [
    "Without using a character class (or grouped alternates), use a single regex that matches on each string that has 'a' or 'an' followed by a space.\n"
   ]
  },
  {
   "cell_type": "code",
   "execution_count": null,
   "id": "1d3e6846",
   "metadata": {},
   "outputs": [],
   "source": [
    "import re\n",
    "\n",
    "lines = [\n",
    "    'This is a wonderful thing. ',\n",
    "    \"I haven't seen anything like it. \",\n",
    "    \"Isn't it an exceptional experience? \"]\n",
    "\n",
    "for line in lines:\n",
    "    if re.search(r'', line):\n",
    "        print(line)"
   ]
  },
  {
   "cell_type": "markdown",
   "id": "8c3c0aa6",
   "metadata": {},
   "source": [
    "<U>Expected Output</U>:"
   ]
  },
  {
   "cell_type": "markdown",
   "id": "47ed5f38",
   "metadata": {},
   "source": [
    "<pre style=\"margin: 0; padding=0\"><DIV style=\"font-family: Courier; border: 1px solid #dbdbdb; padding: 7px\">This is a wonderful thing.\n",
    "Isn't it an exceptional experience?</DIV></pre>"
   ]
  },
  {
   "cell_type": "markdown",
   "id": "209255d4",
   "metadata": {},
   "source": [
    " "
   ]
  },
  {
   "cell_type": "markdown",
   "id": "116df636",
   "metadata": {},
   "source": [
    "<B>4.27:  <U>\"Zero or more\" quantifier, quantifiers with anchor</U>.  </B>"
   ]
  },
  {
   "cell_type": "markdown",
   "id": "52973427",
   "metadata": {},
   "source": [
    "Match on all strings that consist only of a 1 followed by zero or more digits.\n"
   ]
  },
  {
   "cell_type": "code",
   "execution_count": null,
   "id": "bd024f71",
   "metadata": {},
   "outputs": [],
   "source": [
    "import re\n",
    "\n",
    "numbers = [\n",
    "  '100',\n",
    "  '135',\n",
    "  '31',\n",
    "  '1',\n",
    "  'I think',\n",
    "]\n",
    "\n",
    "for val in numbers:\n",
    "    if re.search(r'', val):\n",
    "        print(val)"
   ]
  },
  {
   "cell_type": "markdown",
   "id": "2417c2dd",
   "metadata": {},
   "source": [
    "<U>Expected Output</U>:"
   ]
  },
  {
   "cell_type": "markdown",
   "id": "34adaa9d",
   "metadata": {},
   "source": [
    "<pre style=\"margin: 0; padding=0\"><DIV style=\"font-family: Courier; border: 1px solid #dbdbdb; padding: 7px\">100\n",
    "135\n",
    "1</DIV></pre>"
   ]
  },
  {
   "cell_type": "markdown",
   "id": "f1056700",
   "metadata": {},
   "source": [
    " "
   ]
  },
  {
   "cell_type": "markdown",
   "id": "1524d565",
   "metadata": {},
   "source": [
    "<B>4.28:  <U>Quantifiers with Anchor</U>.  Match on each string that consists only of one or more digit characters.</B>"
   ]
  },
  {
   "cell_type": "code",
   "execution_count": null,
   "id": "f44227bf",
   "metadata": {},
   "outputs": [],
   "source": [
    "import re\n",
    "\n",
    "match_strings = [\n",
    "    'hello world 00',\n",
    "    'goodbye world    ',\n",
    "    ' 23 bonjour',\n",
    "    'wilkommen23  ',\n",
    "    'aloha',\n",
    "    '99',\n",
    "    '00',\n",
    "    '88557799',\n",
    "    'Que 3 Tal!',\n",
    "    'myfile.jpg',\n",
    "    'yourfile.JPG'\n",
    "]\n",
    "\n",
    "count = 0\n",
    "for string in match_strings:\n",
    "    if re.search(r'', string):\n",
    "        print(string)\n",
    "        count += 1\n",
    "print(f'count:  {count}')"
   ]
  },
  {
   "cell_type": "markdown",
   "id": "14486b58",
   "metadata": {},
   "source": [
    "<U>Expected Output</U>:"
   ]
  },
  {
   "cell_type": "markdown",
   "id": "15032039",
   "metadata": {},
   "source": [
    "<pre style=\"margin: 0; padding=0\"><DIV style=\"font-family: Courier; border: 1px solid #dbdbdb; padding: 7px\">99\n",
    "00\n",
    "88557799\n",
    "count: 3</DIV></pre>"
   ]
  },
  {
   "cell_type": "markdown",
   "id": "e53011db",
   "metadata": {},
   "source": [
    " "
   ]
  },
  {
   "cell_type": "markdown",
   "id": "4af70f3d",
   "metadata": {},
   "source": [
    "<B>4.29:  <U>Quantifiers with Anchor (3)</U>.  Match on each string that consists only of letters.</B>"
   ]
  },
  {
   "cell_type": "code",
   "execution_count": null,
   "id": "86382086",
   "metadata": {},
   "outputs": [],
   "source": [
    "import re\n",
    "\n",
    "match_strings = [\n",
    "    'hello world 00',\n",
    "    'goodbye world    ',\n",
    "    ' 23 bonjour',\n",
    "    'wilkommen23  ',\n",
    "    'aloha',\n",
    "    '99',\n",
    "    '00',\n",
    "    '88557799',\n",
    "    'Que 3 Tal!',\n",
    "    'myfile.jpg',\n",
    "    'yourfile.JPG'\n",
    "]\n",
    "\n",
    "count = 0\n",
    "for string in match_strings:\n",
    "    if re.search(r'', string):\n",
    "        print(string)\n",
    "        count += 1\n",
    "print(f'count:  {count}')"
   ]
  },
  {
   "cell_type": "markdown",
   "id": "420be695",
   "metadata": {},
   "source": [
    "<U>Expected Output</U>:"
   ]
  },
  {
   "cell_type": "markdown",
   "id": "18c50bd0",
   "metadata": {},
   "source": [
    "<pre style=\"margin: 0; padding=0\"><DIV style=\"font-family: Courier; border: 1px solid #dbdbdb; padding: 7px\">aloha\n",
    "count: 1</DIV></pre>"
   ]
  },
  {
   "cell_type": "markdown",
   "id": "a77ad1b9",
   "metadata": {},
   "source": [
    " "
   ]
  },
  {
   "cell_type": "markdown",
   "id": "d2d338e4",
   "metadata": {},
   "source": [
    "<B>4.30:  <U>Quantifiers with custom character class</U>.  </B>"
   ]
  },
  {
   "cell_type": "markdown",
   "id": "78f4f77e",
   "metadata": {},
   "source": [
    "Match each string that has a capital letter followed by one or more lowercase letters.\n"
   ]
  },
  {
   "cell_type": "code",
   "execution_count": null,
   "id": "39cc5b11",
   "metadata": {},
   "outputs": [],
   "source": [
    "import re\n",
    "\n",
    "match_strings = [\n",
    "    'hello World 00',\n",
    "    'goodbye C world    ',\n",
    "    ' 23 bonjour',\n",
    "    'wilkommen23  ',\n",
    "    'Aloha',\n",
    "    '99',\n",
    "    '00',\n",
    "    '88557799',\n",
    "    'Que 3 Tal!',\n",
    "    'myfile.jpg',\n",
    "    'yourfile.JPG'\n",
    "]\n",
    "\n",
    "count = 0\n",
    "for string in match_strings:\n",
    "    if re.search(r'', string):\n",
    "        print(string)\n",
    "        count += 1\n",
    "print(f'count:  {count}')"
   ]
  },
  {
   "cell_type": "markdown",
   "id": "ffeeeb38",
   "metadata": {},
   "source": [
    "<U>Expected Output</U>:"
   ]
  },
  {
   "cell_type": "markdown",
   "id": "2ffacb95",
   "metadata": {},
   "source": [
    "<pre style=\"margin: 0; padding=0\"><DIV style=\"font-family: Courier; border: 1px solid #dbdbdb; padding: 7px\">hello World 00\n",
    "Aloha\n",
    "Que 3 Tal!\n",
    "count: 3</DIV></pre>"
   ]
  },
  {
   "cell_type": "markdown",
   "id": "821b76ba",
   "metadata": {},
   "source": [
    " "
   ]
  },
  {
   "cell_type": "markdown",
   "id": "31d8df9a",
   "metadata": {},
   "source": [
    "<B>4.31:  <U>Quantifiers with anchors</U>.  Match on each string that consists only of letters, numbers or the underscore.</B>"
   ]
  },
  {
   "cell_type": "code",
   "execution_count": null,
   "id": "9bd5016f",
   "metadata": {},
   "outputs": [],
   "source": [
    "import re\n",
    "\n",
    "match_strings = [\n",
    "    'hello world 00',\n",
    "    'goodbye world    ',\n",
    "    ' 23 bonjour',\n",
    "    'wilkommen23  ',\n",
    "    'aloha',\n",
    "    '99',\n",
    "    '00',\n",
    "    '88557799',\n",
    "    'Que 3 Tal!',\n",
    "    'myfile.jpg',\n",
    "    'yourfile.JPG'\n",
    "]\n",
    "\n",
    "count = 0\n",
    "for string in match_strings:\n",
    "    if re.search(r'', string):\n",
    "        print(string)\n",
    "        count += 1\n",
    "print(f'count:  {count}')"
   ]
  },
  {
   "cell_type": "markdown",
   "id": "fd2f2016",
   "metadata": {},
   "source": [
    "<U>Expected Output</U>:"
   ]
  },
  {
   "cell_type": "markdown",
   "id": "ae58d0b1",
   "metadata": {},
   "source": [
    "<pre style=\"margin: 0; padding=0\"><DIV style=\"font-family: Courier; border: 1px solid #dbdbdb; padding: 7px\">aloha\n",
    "99\n",
    "00\n",
    "88557799\n",
    "count: 4</DIV></pre>"
   ]
  },
  {
   "cell_type": "markdown",
   "id": "abb95200",
   "metadata": {},
   "source": [
    " "
   ]
  },
  {
   "cell_type": "markdown",
   "id": "4bd673ba",
   "metadata": {},
   "source": [
    "<B>4.32:  <U>Quantifiers with anchors (2)</U>.  Match on each string that consists only of non-digits.</B>"
   ]
  },
  {
   "cell_type": "code",
   "execution_count": null,
   "id": "b2af3e33",
   "metadata": {},
   "outputs": [],
   "source": [
    "import re\n",
    "\n",
    "match_strings = [\n",
    "    'hello world 00',\n",
    "    'goodbye world    ',\n",
    "    ' 23 bonjour',\n",
    "    'wilkommen23  ',\n",
    "    'aloha',\n",
    "    '99',\n",
    "    '00',\n",
    "    '88557799',\n",
    "    'Que 3 Tal!',\n",
    "    'myfile.jpg',\n",
    "    'yourfile.JPG'\n",
    "]\n",
    "\n",
    "count = 0\n",
    "for string in match_strings:\n",
    "    if re.search(r'', string):\n",
    "        print(string)\n",
    "        count += 1\n",
    "print(f'count:  {count}')"
   ]
  },
  {
   "cell_type": "markdown",
   "id": "4ab73646",
   "metadata": {},
   "source": [
    "<U>Expected Output</U>:"
   ]
  },
  {
   "cell_type": "markdown",
   "id": "3a6511cf",
   "metadata": {},
   "source": [
    "<pre style=\"margin: 0; padding=0\"><DIV style=\"font-family: Courier; border: 1px solid #dbdbdb; padding: 7px\">goodbye world\n",
    "aloha\n",
    "myfile.jpg\n",
    "yourfile.JPG\n",
    "count: 4</DIV></pre>"
   ]
  },
  {
   "cell_type": "markdown",
   "id": "b787b340",
   "metadata": {},
   "source": [
    " "
   ]
  },
  {
   "cell_type": "markdown",
   "id": "b2aff75b",
   "metadata": {},
   "source": [
    "<B>4.33:  <U>Quantifiers with anchors (3)</U>.  Match on each string that consists only of non-spaces.</B>"
   ]
  },
  {
   "cell_type": "code",
   "execution_count": null,
   "id": "3d5c975e",
   "metadata": {},
   "outputs": [],
   "source": [
    "import re\n",
    "\n",
    "match_strings = [\n",
    "    'hello world 00',\n",
    "    'goodbye world    ',\n",
    "    ' 23 bonjour',\n",
    "    'wilkommen23  ',\n",
    "    'aloha',\n",
    "    '99',\n",
    "    '00',\n",
    "    '88557799',\n",
    "    'Que 3 Tal!',\n",
    "    'myfile.jpg',\n",
    "    'yourfile.JPG'\n",
    "]\n",
    "\n",
    "count = 0\n",
    "for string in match_strings:\n",
    "    if re.search(r'', string):\n",
    "        print(string)\n",
    "        count += 1\n",
    "print(f'count:  {count}')"
   ]
  },
  {
   "cell_type": "markdown",
   "id": "37de20bf",
   "metadata": {},
   "source": [
    "<U>Expected Output</U>:"
   ]
  },
  {
   "cell_type": "markdown",
   "id": "0ef03af1",
   "metadata": {},
   "source": [
    "<pre style=\"margin: 0; padding=0\"><DIV style=\"font-family: Courier; border: 1px solid #dbdbdb; padding: 7px\">aloha\n",
    "99\n",
    "00\n",
    "88557799\n",
    "myfile.jpg\n",
    "yourfile.JPG\n",
    "count: 6</DIV></pre>"
   ]
  },
  {
   "cell_type": "markdown",
   "id": "d403306b",
   "metadata": {},
   "source": [
    " "
   ]
  },
  {
   "cell_type": "markdown",
   "id": "458f1b86",
   "metadata": {},
   "source": [
    "CUSTOM QUANTIFIERS"
   ]
  },
  {
   "cell_type": "markdown",
   "id": "87dcb637",
   "metadata": {},
   "source": [
    "<B>4.34:  <U>Custom quantifier</U>.  </B>"
   ]
  },
  {
   "cell_type": "markdown",
   "id": "d265e13f",
   "metadata": {},
   "source": [
    "Match on each string that has two or more spaces at the end.\n"
   ]
  },
  {
   "cell_type": "code",
   "execution_count": null,
   "id": "4cac22af",
   "metadata": {},
   "outputs": [],
   "source": [
    "import re\n",
    "\n",
    "match_strings = [\n",
    "    'hello world 00',\n",
    "    'goodbye world    ',\n",
    "    ' 23 bonjour',\n",
    "    'wilkommen23  ',\n",
    "    'aloha',\n",
    "    '99',\n",
    "    '00',\n",
    "    '88557799',\n",
    "    'Que 3 Tal!',\n",
    "    'myfile.jpg',\n",
    "    'yourfile.JPG'\n",
    "]\n",
    "\n",
    "count = 0\n",
    "for string in match_strings:\n",
    "    if re.search(r'', string):\n",
    "        print(string)\n",
    "        count += 1\n",
    "print(f'count:  {count}')"
   ]
  },
  {
   "cell_type": "markdown",
   "id": "8761a322",
   "metadata": {},
   "source": [
    "<U>Expected Output</U>:"
   ]
  },
  {
   "cell_type": "markdown",
   "id": "9711672a",
   "metadata": {},
   "source": [
    "<pre style=\"margin: 0; padding=0\"><DIV style=\"font-family: Courier; border: 1px solid #dbdbdb; padding: 7px\">goodbye world\n",
    "wilkommen23\n",
    "count: 2</DIV></pre>"
   ]
  },
  {
   "cell_type": "markdown",
   "id": "48386fd9",
   "metadata": {},
   "source": [
    " "
   ]
  },
  {
   "cell_type": "markdown",
   "id": "9bd28410",
   "metadata": {},
   "source": [
    "<B>4.35:  <U>Custom quantifier</U>.  </B>"
   ]
  },
  {
   "cell_type": "markdown",
   "id": "b64c041a",
   "metadata": {},
   "source": [
    "Match on strings that have a capital letter followed by two or more lowercase letters.\n"
   ]
  },
  {
   "cell_type": "code",
   "execution_count": null,
   "id": "23b015cc",
   "metadata": {},
   "outputs": [],
   "source": [
    "import re\n",
    "\n",
    "match_strings = [\n",
    "    'hello World 00',\n",
    "    'goodbye As world    ',\n",
    "    'To 23 bonjour',\n",
    "    'wilkommen23  ',\n",
    "    'Aloha',\n",
    "    '99',\n",
    "    '00',\n",
    "    '88557799',\n",
    "    'Que 3 Tal!',\n",
    "    'myfile.jpg',\n",
    "    'yourfile.JPG'\n",
    "]\n",
    "\n",
    "count = 0\n",
    "for string in match_strings:\n",
    "    if re.search(r'', string):\n",
    "        print(string)\n",
    "        count += 1\n",
    "print(f'count:  {count}')"
   ]
  },
  {
   "cell_type": "markdown",
   "id": "ef97b8bf",
   "metadata": {},
   "source": [
    "<U>Expected Output</U>:"
   ]
  },
  {
   "cell_type": "markdown",
   "id": "af0d5681",
   "metadata": {},
   "source": [
    "<pre style=\"margin: 0; padding=0\"><DIV style=\"font-family: Courier; border: 1px solid #dbdbdb; padding: 7px\">hello World 00\n",
    "Aloha\n",
    "Que 3 Tal!\n",
    "count: 3</DIV></pre>"
   ]
  },
  {
   "cell_type": "markdown",
   "id": "c5a4a608",
   "metadata": {},
   "source": [
    " "
   ]
  },
  {
   "cell_type": "markdown",
   "id": "9640a3ee",
   "metadata": {},
   "source": [
    "<B>4.36:  <U>Custom quantifier</U>.  </B>"
   ]
  },
  {
   "cell_type": "markdown",
   "id": "638dd8f4",
   "metadata": {},
   "source": [
    "Print those numbers that are in the millions (i.e., 7 or more digits)."
   ]
  },
  {
   "cell_type": "code",
   "execution_count": null,
   "id": "25ffe78c",
   "metadata": {},
   "outputs": [],
   "source": [
    "import re\n",
    "\n",
    "nums = [\n",
    "  '1',\n",
    "  '10',\n",
    "  '100',\n",
    "  '1000',\n",
    "  '10000',\n",
    "  '100000',\n",
    "  '1000000',\n",
    "  '10000000'\n",
    "]\n",
    "\n",
    "for num in nums:\n",
    "    if re.search(r'', num):\n",
    "        print(num)"
   ]
  },
  {
   "cell_type": "markdown",
   "id": "5b9732bd",
   "metadata": {},
   "source": [
    "<U>Expected Output</U>:"
   ]
  },
  {
   "cell_type": "markdown",
   "id": "4ef3c181",
   "metadata": {},
   "source": [
    "<pre style=\"margin: 0; padding=0\"><DIV style=\"font-family: Courier; border: 1px solid #dbdbdb; padding: 7px\">1000000\n",
    "10000000</DIV></pre>"
   ]
  },
  {
   "cell_type": "markdown",
   "id": "cfe7cc50",
   "metadata": {},
   "source": [
    " "
   ]
  },
  {
   "cell_type": "markdown",
   "id": "924d3832",
   "metadata": {},
   "source": [
    "<B>4.37:  <U>Custom quantifier</U>.  Having split the text into words, show those words that are greater than 7 characters in size.  </B>"
   ]
  },
  {
   "cell_type": "code",
   "execution_count": null,
   "id": "77979e97",
   "metadata": {},
   "outputs": [],
   "source": [
    "import re\n",
    "\n",
    "text = \"\"\"This is the 1000th story, regarding a duck\n",
    "named Quack.  It was unlikely that Quack could have been\n",
    "given a name like that by his mother, so we can only conclude\n",
    "that he was named by the author, who has a cuteness problem.\"\"\"\n",
    "\n",
    "\n",
    "words = text.split()\n",
    "stripped = [ word.rstrip('.,') for word in words ]\n",
    "\n",
    "for word in stripped:\n",
    "    if re.search(r'', word):\n",
    "        print(word)"
   ]
  },
  {
   "cell_type": "markdown",
   "id": "9899e1a6",
   "metadata": {},
   "source": [
    "<U>Expected Output</U>:"
   ]
  },
  {
   "cell_type": "markdown",
   "id": "d3d616c2",
   "metadata": {},
   "source": [
    "<pre style=\"margin: 0; padding=0\"><DIV style=\"font-family: Courier; border: 1px solid #dbdbdb; padding: 7px\">regarding\n",
    "unlikely\n",
    "conclude\n",
    "cuteness\n",
    "problem</DIV></pre>"
   ]
  },
  {
   "cell_type": "markdown",
   "id": "03042fc4",
   "metadata": {},
   "source": [
    " "
   ]
  },
  {
   "cell_type": "markdown",
   "id": "fb9ba6d0",
   "metadata": {},
   "source": [
    "<B>4.38:  <U>Custom Quantifier</U>.  </B>"
   ]
  },
  {
   "cell_type": "markdown",
   "id": "eab4f203",
   "metadata": {},
   "source": [
    "A password must be 3-8 characters in length (letters, numbers and underscores are permitted).  Validate the below password attempts.\n"
   ]
  },
  {
   "cell_type": "code",
   "execution_count": null,
   "id": "a6dbbbbe",
   "metadata": {},
   "outputs": [],
   "source": [
    "import re\n",
    "\n",
    "attempts = [\n",
    "    '1234',\n",
    "    'hello_there',\n",
    "    'password',\n",
    "    'ok',\n",
    "    'what?',\n",
    "    'supercalifrag']\n",
    "\n",
    "for password in attempts:\n",
    "    if re.search(r'', password):\n",
    "        print(f'{password}:  validated')"
   ]
  },
  {
   "cell_type": "markdown",
   "id": "cb6b48dc",
   "metadata": {},
   "source": [
    "<U>Expected Output</U>:"
   ]
  },
  {
   "cell_type": "markdown",
   "id": "c8b0fdec",
   "metadata": {},
   "source": [
    "<pre style=\"margin: 0; padding=0\"><DIV style=\"font-family: Courier; border: 1px solid #dbdbdb; padding: 7px\">1234:  validated\n",
    "password:  validated</DIV></pre>"
   ]
  },
  {
   "cell_type": "markdown",
   "id": "8ec4bb5d",
   "metadata": {},
   "source": [
    " "
   ]
  },
  {
   "cell_type": "markdown",
   "id": "1d520eb4",
   "metadata": {},
   "source": [
    "ESCAPING SPECIAL CHARACTERS"
   ]
  },
  {
   "cell_type": "markdown",
   "id": "84326030",
   "metadata": {},
   "source": [
    "<B>4.39:  <U>Escape wildcard (aka period)</U>.  Match on each string that has a letter, number or underscore followed by a period.</B>"
   ]
  },
  {
   "cell_type": "code",
   "execution_count": null,
   "id": "c5081ad5",
   "metadata": {},
   "outputs": [],
   "source": [
    "import re\n",
    "\n",
    "match_strings = [\n",
    "    'hello world 00',\n",
    "    'goodbye world    ',\n",
    "    ' 23 bonjour',\n",
    "    'wilkommen23  ',\n",
    "    'aloha',\n",
    "    '99',\n",
    "    '00',\n",
    "    '88557799',\n",
    "    'Que 3 Tal!',\n",
    "    'myfile.jpg',\n",
    "    'yourfile.JPG'\n",
    "]\n",
    "\n",
    "count = 0\n",
    "for string in match_strings:\n",
    "    if re.search(r'', string):\n",
    "        print(string)\n",
    "        count += 1\n",
    "print(f'count:  {count}')"
   ]
  },
  {
   "cell_type": "markdown",
   "id": "d3657135",
   "metadata": {},
   "source": [
    "<U>Expected Output</U>:"
   ]
  },
  {
   "cell_type": "markdown",
   "id": "6c60e825",
   "metadata": {},
   "source": [
    "<pre style=\"margin: 0; padding=0\"><DIV style=\"font-family: Courier; border: 1px solid #dbdbdb; padding: 7px\">myfile.jpg\n",
    "yourfile.JPG\n",
    "count: 2</DIV></pre>"
   ]
  },
  {
   "cell_type": "markdown",
   "id": "43d1e62c",
   "metadata": {},
   "source": [
    "Note:  why would this work without escaping the period?  Because"
   ]
  },
  {
   "cell_type": "markdown",
   "id": "6decca0f",
   "metadata": {},
   "source": [
    " "
   ]
  },
  {
   "cell_type": "markdown",
   "id": "1fd505f4",
   "metadata": {},
   "source": [
    "<B>4.40:  <U>Escape end anchor (aka dollar sign)</U>.  </B>"
   ]
  },
  {
   "cell_type": "markdown",
   "id": "ba947941",
   "metadata": {},
   "source": [
    "Match on strings that have a dollar amount, including two decimal places ($23.53).\n"
   ]
  },
  {
   "cell_type": "code",
   "execution_count": null,
   "id": "53518beb",
   "metadata": {},
   "outputs": [],
   "source": [
    "import re\n",
    "\n",
    "lines = [\n",
    "    'The coat cost $239.50.',\n",
    "    'The candy cost $1.93',\n",
    "    \"I didn't buy anything today.\",\n",
    "    '$1 sale',\n",
    "    'I dream of $$$'\n",
    "]\n",
    "\n",
    "for line in lines:\n",
    "    if re.search(r'', line):\n",
    "        print(line)\n"
   ]
  },
  {
   "cell_type": "markdown",
   "id": "7edee904",
   "metadata": {},
   "source": [
    "<U>Expected Output</U>:"
   ]
  },
  {
   "cell_type": "markdown",
   "id": "7dec23df",
   "metadata": {},
   "source": [
    "<pre style=\"margin: 0; padding=0\"><DIV style=\"font-family: Courier; border: 1px solid #dbdbdb; padding: 7px\">The coat cost $239.50.\n",
    "The candy cost $1.93</DIV></pre>"
   ]
  },
  {
   "cell_type": "markdown",
   "id": "7e3f0c94",
   "metadata": {},
   "source": [
    " "
   ]
  },
  {
   "cell_type": "markdown",
   "id": "3b2cf360",
   "metadata": {},
   "source": [
    "<B>4.41:  <U>Escape quantifier character +</U>.  </B>"
   ]
  },
  {
   "cell_type": "markdown",
   "id": "67006dd8",
   "metadata": {},
   "source": [
    "Match on all lines with positive numbers.\n"
   ]
  },
  {
   "cell_type": "code",
   "execution_count": null,
   "id": "a64881a4",
   "metadata": {},
   "outputs": [],
   "source": [
    "import re\n",
    "\n",
    "numbers = [\n",
    "    'Amount:  -23.9',\n",
    "    'Amount:  +43.8',\n",
    "    'Amount:  -9.03',\n",
    "    'Amount:  +99.9',\n",
    "    'Amount:  +22.0'\n",
    "]\n",
    "for num in numbers:\n",
    "    if re.search(r'', num):\n",
    "        print(num)"
   ]
  },
  {
   "cell_type": "markdown",
   "id": "835aed94",
   "metadata": {},
   "source": [
    "<U>Expected Output</U>:"
   ]
  },
  {
   "cell_type": "markdown",
   "id": "0ea4c220",
   "metadata": {},
   "source": [
    "<pre style=\"margin: 0; padding=0\"><DIV style=\"font-family: Courier; border: 1px solid #dbdbdb; padding: 7px\">Amount:  +43.8\n",
    "Amount:  +99.9\n",
    "Amount:  +22.0</DIV></pre>"
   ]
  },
  {
   "cell_type": "markdown",
   "id": "7988ce12",
   "metadata": {},
   "source": [
    " "
   ]
  },
  {
   "cell_type": "markdown",
   "id": "bc6181ba",
   "metadata": {},
   "source": [
    "<B>4.42:  <U>Escape quantifier character *</U>.  </B>"
   ]
  },
  {
   "cell_type": "markdown",
   "id": "732467fc",
   "metadata": {},
   "source": [
    "Match on all lines with asterisked footnotes.\n"
   ]
  },
  {
   "cell_type": "code",
   "execution_count": null,
   "id": "a9011887",
   "metadata": {},
   "outputs": [],
   "source": [
    "import re\n",
    "\n",
    "numbers = [\n",
    "    'As Ibid* said,',\n",
    "    'there should be no greater good ',\n",
    "    'than compassion*, love, ',\n",
    "    'mutual benefit*',\n",
    "    'and the profit-making motive.',\n",
    "]\n",
    "for num in numbers:\n",
    "    if re.search(r'', num):\n",
    "        print(num)"
   ]
  },
  {
   "cell_type": "markdown",
   "id": "873d2e01",
   "metadata": {},
   "source": [
    "<U>Expected Output</U>:"
   ]
  },
  {
   "cell_type": "markdown",
   "id": "94831790",
   "metadata": {},
   "source": [
    "<pre style=\"margin: 0; padding=0\"><DIV style=\"font-family: Courier; border: 1px solid #dbdbdb; padding: 7px\">As Ibid* said,\n",
    "than compasssion*, love,\n",
    "mutual benefit*</DIV></pre>"
   ]
  },
  {
   "cell_type": "markdown",
   "id": "97e6dc35",
   "metadata": {},
   "source": [
    " "
   ]
  },
  {
   "cell_type": "markdown",
   "id": "d9e71775",
   "metadata": {},
   "source": [
    "LAB 2"
   ]
  },
  {
   "cell_type": "markdown",
   "id": "68358a54",
   "metadata": {},
   "source": [
    "<div style=\"background-color: #ccffcc; padding: 10px; border: 2px solid green\"><B>4.43:  Match on each string that has one or more \"word\" characters, followed by one or more spaces, followed by one or more \"word\" characters.</B></div>"
   ]
  },
  {
   "cell_type": "code",
   "execution_count": null,
   "id": "781fdb92",
   "metadata": {},
   "outputs": [],
   "source": [
    "import re\n",
    "\n",
    "match_strings = [\n",
    "    'hello world 00',\n",
    "    'goodbye world    ',\n",
    "    ' 23 bonjour',\n",
    "    'wilkommen23  ',\n",
    "    'aloha',\n",
    "    '99',\n",
    "    '00',\n",
    "    '88557799',\n",
    "    'Que 3 Tal!',\n",
    "    'myfile.jpg',\n",
    "    'yourfile.JPG'\n",
    "]\n",
    "\n",
    "count = 0\n",
    "for string in match_strings:\n",
    "    if re.search(r'', string):\n",
    "        print(string)\n",
    "        count += 1\n",
    "print(f'count:  {count}')"
   ]
  },
  {
   "cell_type": "markdown",
   "id": "c7dbff01",
   "metadata": {},
   "source": [
    "<U>Expected Output</U>:"
   ]
  },
  {
   "cell_type": "markdown",
   "id": "d6b9167a",
   "metadata": {},
   "source": [
    "<pre style=\"margin: 0; padding=0\"><DIV style=\"font-family: Courier; border: 1px solid #dbdbdb; padding: 7px\">hello world 00\n",
    "goodbye world\n",
    " 23 bonjour\n",
    "Que 3 Tal!\n",
    "count: 4</DIV></pre>"
   ]
  },
  {
   "cell_type": "markdown",
   "id": "c1435e78",
   "metadata": {},
   "source": [
    " "
   ]
  },
  {
   "cell_type": "markdown",
   "id": "b778ed12",
   "metadata": {},
   "source": [
    "<div style=\"background-color: #ccffcc; padding: 10px; border: 2px solid green\"><B>4.44:  Ignore comment lines:  print only those lines that don't start with a comment (the first non-space character is a hash mark).  </B></div>"
   ]
  },
  {
   "cell_type": "code",
   "execution_count": null,
   "id": "e0ca2df4",
   "metadata": {},
   "outputs": [],
   "source": [
    "import re\n",
    "\n",
    "text = \"\"\"\n",
    "# this is a program to do stuff\n",
    "a = 5\n",
    "b = 10              # an int\n",
    "if True:\n",
    "    # multiply them\n",
    "    c = a * b\n",
    "\"\"\"\n",
    "\n",
    "for line in text.splitlines():\n",
    "    if not re.search(r'', line):\n",
    "        print(line)\n"
   ]
  },
  {
   "cell_type": "markdown",
   "id": "8fe02b21",
   "metadata": {},
   "source": [
    "<U>Expected Output</U>:"
   ]
  },
  {
   "cell_type": "markdown",
   "id": "888c80f3",
   "metadata": {},
   "source": [
    "<pre style=\"margin: 0; padding=0\"><DIV style=\"font-family: Courier; border: 1px solid #dbdbdb; padding: 7px\">a = 5\n",
    "b = 10              # an int\n",
    "if True:\n",
    "    c = a * b</DIV></pre>"
   ]
  },
  {
   "cell_type": "markdown",
   "id": "a169b92a",
   "metadata": {},
   "source": [
    " "
   ]
  },
  {
   "cell_type": "markdown",
   "id": "85ddac40",
   "metadata": {},
   "source": [
    "<div style=\"background-color: #ccffcc; padding: 10px; border: 2px solid green\"><B>4.45:  Match those lines that contain a 7-digit hex number (a-fA-F0-9).  </B></div>"
   ]
  },
  {
   "cell_type": "code",
   "execution_count": null,
   "id": "4a6448df",
   "metadata": {},
   "outputs": [],
   "source": [
    "import re\n",
    "\n",
    "lines = [\n",
    "    'The color code is #ABF2307.',\n",
    "    'Mr. Mxyzptlk is 999 years old today.',\n",
    "    'The memory address is fc9d223.'\n",
    "]\n",
    "\n",
    "for line in lines:\n",
    "    if re.search(r'', line):\n",
    "        print(line)"
   ]
  },
  {
   "cell_type": "markdown",
   "id": "2ee71633",
   "metadata": {},
   "source": [
    "<U>Expected Output</U>:"
   ]
  },
  {
   "cell_type": "markdown",
   "id": "417ce5bb",
   "metadata": {},
   "source": [
    "<pre style=\"margin: 0; padding=0\"><DIV style=\"font-family: Courier; border: 1px solid #dbdbdb; padding: 7px\">The color code is #ABF2307.\n",
    "The memory address is fc9d223.</DIV></pre>"
   ]
  },
  {
   "cell_type": "markdown",
   "id": "b555d14e",
   "metadata": {},
   "source": [
    " "
   ]
  },
  {
   "cell_type": "markdown",
   "id": "327fe9dd",
   "metadata": {},
   "source": [
    "<div style=\"background-color: #ccffcc; padding: 10px; border: 2px solid green\"><B>4.46:  Show those lines that contain two capitalized words (as in a name).  </B></div>"
   ]
  },
  {
   "cell_type": "code",
   "execution_count": null,
   "id": "db1e7c30",
   "metadata": {},
   "outputs": [],
   "source": [
    "import re\n",
    "\n",
    "lines = [\n",
    "    'The owner is Gwen Harstridge.',\n",
    "    \"There aren't a lot of stores like this one.\",\n",
    "    'Paris is not a lot like Rome.',\n",
    "    'I hail from Los Angeles, California.'\n",
    "]\n",
    "\n",
    "for line in lines:\n",
    "    if re.search(r'', line):\n",
    "        print(line)"
   ]
  },
  {
   "cell_type": "markdown",
   "id": "c2960b6f",
   "metadata": {},
   "source": [
    "<U>Expected Output</U>:"
   ]
  },
  {
   "cell_type": "markdown",
   "id": "0bf671b6",
   "metadata": {},
   "source": [
    "<pre style=\"margin: 0; padding=0\"><DIV style=\"font-family: Courier; border: 1px solid #dbdbdb; padding: 7px\">    The owner is Gwen Harstridge.\n",
    "    I hail from Los Angeles, California.</DIV></pre>"
   ]
  },
  {
   "cell_type": "markdown",
   "id": "7f9f7ea1",
   "metadata": {},
   "source": [
    " "
   ]
  },
  {
   "cell_type": "markdown",
   "id": "b319eacc",
   "metadata": {},
   "source": [
    "re.IGNORECASE"
   ]
  },
  {
   "cell_type": "markdown",
   "id": "bea3b726",
   "metadata": {},
   "source": [
    " "
   ]
  },
  {
   "cell_type": "markdown",
   "id": "31db538f",
   "metadata": {},
   "source": [
    "<div style=\"background-color: #ccffcc; padding: 10px; border: 2px solid green\"><B>4.47:  Without using a character class, match on each string that ends in .jpg or .JPG (try this another way).</B></div>"
   ]
  },
  {
   "cell_type": "markdown",
   "id": "72258d59",
   "metadata": {},
   "source": [
    "(hint: use the flag argument (the optional 3rd argument) to re.search())\n"
   ]
  },
  {
   "cell_type": "code",
   "execution_count": null,
   "id": "394def1f",
   "metadata": {},
   "outputs": [],
   "source": [
    "import re\n",
    "\n",
    "match_strings = [\n",
    "    'hello world 00',\n",
    "    'goodbye world    ',\n",
    "    ' 23 bonjour',\n",
    "    'wilkommen23  ',\n",
    "    'aloha',\n",
    "    '99',\n",
    "    '00',\n",
    "    '88557799',\n",
    "    'Que 3 Tal!',\n",
    "    'myfile.jpg',\n",
    "    'yourfile.JPG'\n",
    "]\n",
    "\n",
    "count = 0\n",
    "for string in match_strings:\n",
    "    if re.search(r'', string):\n",
    "        print(string)\n",
    "        count += 1\n",
    "print(f'count:  {count}')"
   ]
  },
  {
   "cell_type": "markdown",
   "id": "26bf5cd5",
   "metadata": {},
   "source": [
    "<U>Expected Output</U>:"
   ]
  },
  {
   "cell_type": "markdown",
   "id": "e1ab4334",
   "metadata": {},
   "source": [
    "<pre style=\"margin: 0; padding=0\"><DIV style=\"font-family: Courier; border: 1px solid #dbdbdb; padding: 7px\">myfile.jpg\n",
    "yourfile.JPG\n",
    "count: 2</DIV></pre>"
   ]
  },
  {
   "cell_type": "markdown",
   "id": "e5cef9aa",
   "metadata": {},
   "source": [
    " "
   ]
  },
  {
   "cell_type": "markdown",
   "id": "01e90d70",
   "metadata": {},
   "source": [
    "<div style=\"background-color: #ccffcc; padding: 10px; border: 2px solid green\"><B>4.48:  Print only those files that start with 'image#' ('image' plus a <I>possible</I> number) and end in any of these image extensions:  '.jpg', '.png', '.gif'</B></div>"
   ]
  },
  {
   "cell_type": "code",
   "execution_count": null,
   "id": "a1bbffc1",
   "metadata": {},
   "outputs": [],
   "source": [
    "import re\n",
    "\n",
    "filenames = ['image2.jpg', 'image.png', 'file.txt', 'file2.doc',\n",
    "             'file3.pdf', 'image2.gif', 'image3.jpg', 'image4.jpg',\n",
    "             'advert.jpg', 'advert.png']\n",
    "\n",
    "for name in filenames:\n",
    "    if re.search(r'', name):\n",
    "        print(name)"
   ]
  },
  {
   "cell_type": "markdown",
   "id": "5f699275",
   "metadata": {},
   "source": [
    "<U>Expected Output</U>:"
   ]
  },
  {
   "cell_type": "markdown",
   "id": "b4e499b8",
   "metadata": {},
   "source": [
    "<pre style=\"margin: 0; padding=0\"><DIV style=\"font-family: Courier; border: 1px solid #dbdbdb; padding: 7px\">image2.jpg\n",
    "image.png\n",
    "image2.gif\n",
    "image3.jpg\n",
    "image4.jpg</DIV></pre>"
   ]
  },
  {
   "cell_type": "markdown",
   "id": "55984117",
   "metadata": {},
   "source": [
    " "
   ]
  },
  {
   "cell_type": "markdown",
   "id": "7eda7837",
   "metadata": {},
   "source": [
    "<div style=\"background-color: #ccffcc; padding: 10px; border: 2px solid green\"><B>4.49:  Match on each string that ends in .jpg or .JPG</B></div>"
   ]
  },
  {
   "cell_type": "code",
   "execution_count": null,
   "id": "fd05fabd",
   "metadata": {},
   "outputs": [],
   "source": [
    "import re\n",
    "\n",
    "match_strings = [\n",
    "    'hello world 00',\n",
    "    'goodbye world    ',\n",
    "    ' 23 bonjour',\n",
    "    'wilkommen23  ',\n",
    "    'aloha',\n",
    "    '99',\n",
    "    '00',\n",
    "    '88557799',\n",
    "    'Que 3 Tal!',\n",
    "    'myfile.jpg',\n",
    "    'yourfile.JPG'\n",
    "]\n",
    "\n",
    "count = 0\n",
    "for string in match_strings:\n",
    "    if re.search(r'', string):\n",
    "        print(string)\n",
    "        count += 1\n",
    "print(f'count:  {count}')"
   ]
  },
  {
   "cell_type": "markdown",
   "id": "a3a8dc29",
   "metadata": {},
   "source": [
    "<U>Expected Output</U>:"
   ]
  },
  {
   "cell_type": "markdown",
   "id": "23f98060",
   "metadata": {},
   "source": [
    "<pre style=\"margin: 0; padding=0\"><DIV style=\"font-family: Courier; border: 1px solid #dbdbdb; padding: 7px\">myfile.jpg\n",
    "yourfile.JPG\n",
    "count: 2</DIV></pre>"
   ]
  },
  {
   "cell_type": "markdown",
   "id": "0c25f07a",
   "metadata": {},
   "source": [
    " "
   ]
  },
  {
   "cell_type": "markdown",
   "id": "62178174",
   "metadata": {},
   "source": [
    "GROUPING FOR QUANTIFYING and ALTERNATES"
   ]
  },
  {
   "cell_type": "markdown",
   "id": "7bf8f844",
   "metadata": {},
   "source": [
    " "
   ]
  },
  {
   "cell_type": "markdown",
   "id": "f9498597",
   "metadata": {},
   "source": [
    "<B>4.50:  <U>Quantifying a group</U>.  Match on a number with two decimal places and possible thousandths separator (3.95, 3,200.95, etc.)</B>"
   ]
  },
  {
   "cell_type": "markdown",
   "id": "9bec2061",
   "metadata": {},
   "source": [
    "First create a pattern that is 1 or more digits with comma separator (i.e. matching on <B>0,</B>, </B>00,</B> <B>000,</B>) and group the number with parentheses; quantify the group to say that there is zero or more of these, followed by one or more digits, a period and 2 digits.  (Do not use a custom character class for this purpose.)"
   ]
  },
  {
   "cell_type": "code",
   "execution_count": null,
   "id": "02d5046c",
   "metadata": {},
   "outputs": [],
   "source": [
    "import re\n",
    "\n",
    "values = ['23.9', '18.2', '23.95', '2,238,000.00', '15,382.92', 'joe', '6.05']  # list of str\n",
    "for value in values:\n",
    "    matchobj = re.search(r'', value)\n",
    "    if matchobj:\n",
    "        print(value)"
   ]
  },
  {
   "cell_type": "markdown",
   "id": "fa5beb2f",
   "metadata": {},
   "source": [
    "<U>Expected Output</U>:"
   ]
  },
  {
   "cell_type": "markdown",
   "id": "92353011",
   "metadata": {},
   "source": [
    "<pre style=\"margin: 0; padding=0\"><DIV style=\"font-family: Courier; border: 1px solid #dbdbdb; padding: 7px\">23.95\n",
    "2,238,000.00\n",
    "15,382.92</DIV></pre>"
   ]
  },
  {
   "cell_type": "markdown",
   "id": "7d27cfc2",
   "metadata": {},
   "source": [
    "Note that if you see the message <B>AttributeError: 'NoneType' object has no attribute 'group'</B>, this means that the search did not find a match and returned <B>None</B>, and the code attempted to call <B>.group()</B> on <B>None</B>.  Check the string and pattern to determine why it did not match."
   ]
  },
  {
   "cell_type": "markdown",
   "id": "7fcddd62",
   "metadata": {},
   "source": [
    " "
   ]
  },
  {
   "cell_type": "markdown",
   "id": "ce24623b",
   "metadata": {},
   "source": [
    "<B>4.51:  <U>Quantifying a Group (2)</U>.  Write a single regex that matches on q, Q, quit, Quit, QUIT.  Do this without a character class and without the alternate vertical bar.  </B>"
   ]
  },
  {
   "cell_type": "code",
   "execution_count": null,
   "id": "96d23101",
   "metadata": {},
   "outputs": [],
   "source": [
    "import re\n",
    "\n",
    "x = input('Do you want to quit? ')     # str, 'QuIt' (sample input)\n",
    "\n",
    "if re.search(r'', x):\n",
    "    print(\"you're quitting!\")\n",
    "else:\n",
    "    print(\"you failed to quit.\")"
   ]
  },
  {
   "cell_type": "markdown",
   "id": "6de3741b",
   "metadata": {},
   "source": [
    "<U>Expected Output</U>:"
   ]
  },
  {
   "cell_type": "markdown",
   "id": "4febb401",
   "metadata": {},
   "source": [
    "<pre style=\"margin: 0; padding=0\"><DIV style=\"font-family: Courier; border: 1px solid #dbdbdb; padding: 7px\">Do you want to quit? QuIt\n",
    "you're quitting!</DIV></pre>"
   ]
  },
  {
   "cell_type": "markdown",
   "id": "0c9cafa9",
   "metadata": {},
   "source": [
    " "
   ]
  },
  {
   "cell_type": "markdown",
   "id": "6d9caca3",
   "metadata": {},
   "source": [
    "GROUPING FOR EXTRACTION"
   ]
  },
  {
   "cell_type": "markdown",
   "id": "e92197a6",
   "metadata": {},
   "source": [
    "<B>4.52:  <U>Group for extraction</U>.  </B>"
   ]
  },
  {
   "cell_type": "markdown",
   "id": "ab410f8d",
   "metadata": {},
   "source": [
    "Use a parenthetical grouping to extract the number from this text."
   ]
  },
  {
   "cell_type": "code",
   "execution_count": null,
   "id": "285312f7",
   "metadata": {},
   "outputs": [],
   "source": [
    "import re\n",
    "\n",
    "line = '34:  this is a line of text'\n",
    "\n",
    "matchobj = re.search(r'', line)\n",
    "print(matchobj.group(1))"
   ]
  },
  {
   "cell_type": "markdown",
   "id": "17eeb3a7",
   "metadata": {},
   "source": [
    "<U>Expected Output</U>:"
   ]
  },
  {
   "cell_type": "markdown",
   "id": "187baee1",
   "metadata": {},
   "source": [
    "<pre style=\"margin: 0; padding=0\"><DIV style=\"font-family: Courier; border: 1px solid #dbdbdb; padding: 7px\">34</DIV></pre>"
   ]
  },
  {
   "cell_type": "markdown",
   "id": "7eda6662",
   "metadata": {},
   "source": [
    "Note that if you see the message <B>AttributeError: 'NoneType' object has no attribute 'group'</B>, this means that the search did not find a match and returned <B>None</B>, and the code attempted to call <B>.group()</B> on <B>None</B>.  Check the string and pattern to determine why it did not match."
   ]
  },
  {
   "cell_type": "markdown",
   "id": "5fbd6390",
   "metadata": {},
   "source": [
    " "
   ]
  },
  {
   "cell_type": "markdown",
   "id": "63073e8d",
   "metadata": {},
   "source": [
    "<B>4.53:  <U>Group for extraction</U>.  Extract the Catalog ID and Publication Date from the text line.</B>"
   ]
  },
  {
   "cell_type": "code",
   "execution_count": null,
   "id": "33267e25",
   "metadata": {},
   "outputs": [],
   "source": [
    "import re\n",
    "\n",
    "rs_row = 'Catalog ID: 2839-587    Pub. Date: 2019-09-03'\n",
    "\n",
    "matchobj = re.search(r'', rs_row)\n",
    "\n",
    "if matchobj:\n",
    "    print(matchobj.group(1))\n",
    "    print(matchobj.group(2))"
   ]
  },
  {
   "cell_type": "markdown",
   "id": "16216c20",
   "metadata": {},
   "source": [
    "<U>Expected Output</U>:"
   ]
  },
  {
   "cell_type": "markdown",
   "id": "98db7270",
   "metadata": {},
   "source": [
    "<pre style=\"margin: 0; padding=0\"><DIV style=\"font-family: Courier; border: 1px solid #dbdbdb; padding: 7px\">2839-587\n",
    "2019-09-03</DIV></pre>"
   ]
  },
  {
   "cell_type": "markdown",
   "id": "f52f6e51",
   "metadata": {},
   "source": [
    "Note that if you see the message <B>AttributeError: 'NoneType' object has no attribute 'group'</B>, this means that the search did not find a match and returned <B>None</B>, and the code attempted to call <B>.group()</B> on <B>None</B>.  Check the string and pattern to determine why it did not match."
   ]
  },
  {
   "cell_type": "markdown",
   "id": "d0f1c046",
   "metadata": {},
   "source": [
    " "
   ]
  },
  {
   "cell_type": "markdown",
   "id": "c9a6bbce",
   "metadata": {},
   "source": [
    "<B>4.54:  <U>Group for extraction</U>.  In one regex match, extract the IP address from this log line.</B>"
   ]
  },
  {
   "cell_type": "code",
   "execution_count": null,
   "id": "fdabc11f",
   "metadata": {},
   "outputs": [],
   "source": [
    "import re\n",
    "\n",
    "line = '172.26.93.208 - - [28/Jun/2012:21:00:17 -0400] \"GET /~cmk380/pythondata/image2b.txt HTTP/1.1\" 200 30'\n",
    "\n",
    "matchobj = re.search(r'', line)\n",
    "\n",
    "if matchobj:\n",
    "    print(matchobj.group(1))"
   ]
  },
  {
   "cell_type": "markdown",
   "id": "5831396a",
   "metadata": {},
   "source": [
    "<U>Expected Output</U>:"
   ]
  },
  {
   "cell_type": "markdown",
   "id": "aff89902",
   "metadata": {},
   "source": [
    "<pre style=\"margin: 0; padding=0\"><DIV style=\"font-family: Courier; border: 1px solid #dbdbdb; padding: 7px\">172.26.93.208</DIV></pre>"
   ]
  },
  {
   "cell_type": "markdown",
   "id": "fdbbc440",
   "metadata": {},
   "source": [
    "Note that if you see the message <B>AttributeError: 'NoneType' object has no attribute 'group'</B>, this means that the search did not find a match and returned <B>None</B>, and the code attempted to call <B>.group()</B> on <B>None</B>.  Check the string and pattern to determine why it did not match."
   ]
  },
  {
   "cell_type": "markdown",
   "id": "04f9bb26",
   "metadata": {},
   "source": [
    " "
   ]
  },
  {
   "cell_type": "markdown",
   "id": "f92786b0",
   "metadata": {},
   "source": [
    "'MINIMAL MATCH' QUANTIFIER"
   ]
  },
  {
   "cell_type": "markdown",
   "id": "3aa7cd4c",
   "metadata": {},
   "source": [
    "<B>4.55:  <U>Demonstration:  \"minimal\" match</U>.  </B>"
   ]
  },
  {
   "cell_type": "markdown",
   "id": "5e03553f",
   "metadata": {},
   "source": [
    "The below regex grabs the word <B>Python</B> from the text.  Run the code once to observe this.\n",
    "\n",
    "Now add a question mark <B>?</B> as the character directly after the \"one or more\" plus sign and run again - you should see that the \"one or more word characters\" pattern is now matching on as few characters as possible."
   ]
  },
  {
   "cell_type": "code",
   "execution_count": null,
   "id": "bef3fff1",
   "metadata": {},
   "outputs": [],
   "source": [
    "import re\n",
    "\n",
    "text = 'My language is Python'\n",
    "\n",
    "matchobj = re.search(r'', text)\n",
    "\n",
    "print(matchobj.group(1))"
   ]
  },
  {
   "cell_type": "markdown",
   "id": "7344e51c",
   "metadata": {},
   "source": [
    "<U>Expected Output</U>:"
   ]
  },
  {
   "cell_type": "markdown",
   "id": "3a2c5bf7",
   "metadata": {},
   "source": [
    "<pre style=\"margin: 0; padding=0\"><DIV style=\"font-family: Courier; border: 1px solid #dbdbdb; padding: 7px\">P</DIV></pre>"
   ]
  },
  {
   "cell_type": "markdown",
   "id": "4882b828",
   "metadata": {},
   "source": [
    "Note that if you see the message <B>AttributeError: 'NoneType' object has no attribute 'group'</B>, this means that the search did not find a match and returned <B>None</B>, and the code attempted to call <B>.group()</B> on <B>None</B>.  Check the string and pattern to determine why it did not match."
   ]
  },
  {
   "cell_type": "markdown",
   "id": "92ac1ef9",
   "metadata": {},
   "source": [
    " "
   ]
  },
  {
   "cell_type": "markdown",
   "id": "535ee1cf",
   "metadata": {},
   "source": [
    "<B>4.56:  <U>Work with wildcard and minimal match</U>.  </B>"
   ]
  },
  {
   "cell_type": "markdown",
   "id": "e8e85f69",
   "metadata": {},
   "source": [
    "Use the wildcard to match everything between the first two brackets.  Note carefully what was printed.  (Don't forget that square brackets must be escaped with a backslash, and that extraction requires grouping parentheses.)\n"
   ]
  },
  {
   "cell_type": "code",
   "execution_count": null,
   "id": "0d51277a",
   "metadata": {},
   "outputs": [],
   "source": [
    "import re\n",
    "\n",
    "text = 'Discussion of terms <TO COME> after something <PLEASE REVIEW>.'\n",
    "\n",
    "matchobj = re.search(r'', text)\n",
    "\n",
    "print(matchobj.group(1))"
   ]
  },
  {
   "cell_type": "markdown",
   "id": "d4d738e1",
   "metadata": {},
   "source": [
    "<U>Expected Output</U>:"
   ]
  },
  {
   "cell_type": "markdown",
   "id": "b0495084",
   "metadata": {},
   "source": [
    "<pre style=\"margin: 0; padding=0\"><DIV style=\"font-family: Courier; border: 1px solid #dbdbdb; padding: 7px\">TO COME</DIV></pre>"
   ]
  },
  {
   "cell_type": "markdown",
   "id": "0c38d164",
   "metadata": {},
   "source": [
    "Note that if you see the message <B>AttributeError: 'NoneType' object has no attribute 'group'</B>, this means that the search did not find a match and returned <B>None</B>, and the code attempted to call <B>.group()</B> on <B>None</B>.  Check the string and pattern to determine why it did not match."
   ]
  },
  {
   "cell_type": "markdown",
   "id": "fa9bf6f0",
   "metadata": {},
   "source": [
    " "
   ]
  },
  {
   "cell_type": "markdown",
   "id": "18b92fb0",
   "metadata": {},
   "source": [
    "<B>4.57:  <U>Match on non-search character</U>.  </B>"
   ]
  },
  {
   "cell_type": "markdown",
   "id": "5df96db1",
   "metadata": {},
   "source": [
    "Perform the same extraction on the below text by searching for a bracket followed by one or more non-brackets.  Text extracted should be the same.\n"
   ]
  },
  {
   "cell_type": "code",
   "execution_count": null,
   "id": "d339328d",
   "metadata": {},
   "outputs": [],
   "source": [
    "import re\n",
    "\n",
    "text = 'Discussion of terms <TO COME> after something <PLEASE REVIEW>.'\n",
    "\n",
    "matchobj = re.search(r'', text)\n",
    "\n",
    "print(matchobj.group(1))"
   ]
  },
  {
   "cell_type": "markdown",
   "id": "826e50e6",
   "metadata": {},
   "source": [
    "<U>Expected Output</U>:"
   ]
  },
  {
   "cell_type": "markdown",
   "id": "55b6c9ba",
   "metadata": {},
   "source": [
    "<pre style=\"margin: 0; padding=0\"><DIV style=\"font-family: Courier; border: 1px solid #dbdbdb; padding: 7px\">TO COME</DIV></pre>"
   ]
  },
  {
   "cell_type": "markdown",
   "id": "8a528c4f",
   "metadata": {},
   "source": [
    "Note that if you see the message <B>AttributeError: 'NoneType' object has no attribute 'group'</B>, this means that the search did not find a match and returned <B>None</B>, and the code attempted to call <B>.group()</B> on <B>None</B>.  Check the string and pattern to determine why it did not match."
   ]
  },
  {
   "cell_type": "markdown",
   "id": "e578355f",
   "metadata": {},
   "source": [
    " "
   ]
  },
  {
   "cell_type": "markdown",
   "id": "dccec438",
   "metadata": {},
   "source": [
    "GROUPING with .groups()"
   ]
  },
  {
   "cell_type": "markdown",
   "id": "f86eeb7d",
   "metadata": {},
   "source": [
    " "
   ]
  },
  {
   "cell_type": "markdown",
   "id": "67511cdb",
   "metadata": {},
   "source": [
    "<B>4.58:  <U>Retrieve a grouping with <B>.groups()</B></U>.  </B>"
   ]
  },
  {
   "cell_type": "markdown",
   "id": "143825b3",
   "metadata": {},
   "source": [
    "In one regex match, extract the status code and bytes downloaded (last 2 integers on the line) from this log line.  Call <B>.groups()</B> the match object to reveal the extracted values.\n"
   ]
  },
  {
   "cell_type": "code",
   "execution_count": null,
   "id": "22f17ed7",
   "metadata": {},
   "outputs": [],
   "source": [
    "import re\n",
    "\n",
    "line = '172.26.93.208 - - [28/Jun/2012:21:00:17 -0400] \"GET /~cmk380/pythondata/image2b.txt HTTP/1.1\" 200 30'\n",
    "\n",
    "matchobj = re.search(r'', line)\n",
    "\n",
    "if matchobj:\n",
    "    print(matchobj.groups())"
   ]
  },
  {
   "cell_type": "markdown",
   "id": "6577fff2",
   "metadata": {},
   "source": [
    "<U>Expected Output</U>:"
   ]
  },
  {
   "cell_type": "markdown",
   "id": "a0b56853",
   "metadata": {},
   "source": [
    "<pre style=\"margin: 0; padding=0\"><DIV style=\"font-family: Courier; border: 1px solid #dbdbdb; padding: 7px\">('200', '30')</DIV></pre>"
   ]
  },
  {
   "cell_type": "markdown",
   "id": "dffc21d4",
   "metadata": {},
   "source": [
    "Note that if you see the message <B>AttributeError: 'NoneType' object has no attribute 'group'</B>, this means that the search did not find a match and returned <B>None</B>, and the code attempted to call <B>.group()</B> on <B>None</B>.  Check the string and pattern to determine why it did not match."
   ]
  },
  {
   "cell_type": "markdown",
   "id": "41436bf3",
   "metadata": {},
   "source": [
    " "
   ]
  },
  {
   "cell_type": "markdown",
   "id": "f0851a15",
   "metadata": {},
   "source": [
    "<B>4.59:  <U>Retrieve a grouping with <B>.groups()</B></U>.  </B>"
   ]
  },
  {
   "cell_type": "markdown",
   "id": "42496b2b",
   "metadata": {},
   "source": [
    "Extract city, state zip from line."
   ]
  },
  {
   "cell_type": "code",
   "execution_count": null,
   "id": "35d4897d",
   "metadata": {},
   "outputs": [],
   "source": [
    "import re\n",
    "\n",
    "line = 'Los Angeles, CA  91604'\n",
    "matchobj = re.search(r'', line)\n",
    "print(matchobj.groups())"
   ]
  },
  {
   "cell_type": "markdown",
   "id": "a39672dd",
   "metadata": {},
   "source": [
    "<U>Expected Output</U>:"
   ]
  },
  {
   "cell_type": "markdown",
   "id": "7c1a41fd",
   "metadata": {},
   "source": [
    "<pre style=\"margin: 0; padding=0\"><DIV style=\"font-family: Courier; border: 1px solid #dbdbdb; padding: 7px\">('Los Angeles', 'CA', '91604')</DIV></pre>"
   ]
  },
  {
   "cell_type": "markdown",
   "id": "fb98dcb9",
   "metadata": {},
   "source": [
    "Note that if you see the message <B>AttributeError: 'NoneType' object has no attribute 'group'</B>, this means that the search did not find a match and returned <B>None</B>, and the code attempted to call <B>.group()</B> on <B>None</B>.  Check the string and pattern to determine why it did not match."
   ]
  },
  {
   "cell_type": "markdown",
   "id": "cb571bc0",
   "metadata": {},
   "source": [
    " "
   ]
  },
  {
   "cell_type": "markdown",
   "id": "ec240765",
   "metadata": {},
   "source": [
    "<B>4.60:  <U>Quantify for an optional group</U>.  </B>"
   ]
  },
  {
   "cell_type": "markdown",
   "id": "e81b9c9f",
   "metadata": {},
   "source": [
    "Pull out all the info about each person (Favorite Color may not be there).\n"
   ]
  },
  {
   "cell_type": "code",
   "execution_count": null,
   "id": "26e230ef",
   "metadata": {},
   "outputs": [],
   "source": [
    "import re\n",
    "\n",
    "results = [ 'Name: Joe;  Favorite Color:  Blue;  Employee ID: 2395',\n",
    "            'Name:  Marie;  Employee ID: 2321',\n",
    "            'Name:  Teneski; Favorite Color: Green;  Employee ID:  1913' ]\n",
    "\n",
    "for row in results:\n",
    "    matchobj = re.search(r'', row)\n",
    "    print(matchobj.groups())"
   ]
  },
  {
   "cell_type": "markdown",
   "id": "03b5b502",
   "metadata": {},
   "source": [
    "<U>Expected Output</U>:"
   ]
  },
  {
   "cell_type": "markdown",
   "id": "b65d5f19",
   "metadata": {},
   "source": [
    "<pre style=\"margin: 0; padding=0\"><DIV style=\"font-family: Courier; border: 1px solid #dbdbdb; padding: 7px\">('Joe', 'Favorite Color:  Blue;  ', 'Blue', '2395')\n",
    "('Marie', None, None, '2321')\n",
    "('Teneski', 'Favorite Color: Green;  ', 'Green', '1913')</DIV></pre>"
   ]
  },
  {
   "cell_type": "markdown",
   "id": "18090fe2",
   "metadata": {},
   "source": [
    "Note that if you see the message <B>AttributeError: 'NoneType' object has no attribute 'group'</B>, this means that the search did not find a match and returned <B>None</B>, and the code attempted to call <B>.group()</B> on <B>None</B>.  Check the string and pattern to determine why it did not match."
   ]
  },
  {
   "cell_type": "markdown",
   "id": "32d57843",
   "metadata": {},
   "source": [
    " "
   ]
  },
  {
   "cell_type": "markdown",
   "id": "9c604ee5",
   "metadata": {},
   "source": [
    "findall() FOR MULTIPLE MATCHES"
   ]
  },
  {
   "cell_type": "markdown",
   "id": "f36fb770",
   "metadata": {},
   "source": [
    " "
   ]
  },
  {
   "cell_type": "markdown",
   "id": "602cdfbf",
   "metadata": {},
   "source": [
    "<B>4.61:  <U>Group and extract with <B>findall()</B></U>.  </B>"
   ]
  },
  {
   "cell_type": "markdown",
   "id": "adf62d4b",
   "metadata": {},
   "source": [
    "Extract email addresses only for nyu.edu."
   ]
  },
  {
   "cell_type": "code",
   "execution_count": null,
   "id": "57336803",
   "metadata": {},
   "outputs": [],
   "source": [
    "import re\n",
    "\n",
    "text = \"\"\"There are many ways to contact us.  Use the\n",
    "general email contact@nyu.edu, or email our public\n",
    "liason at help@nyu.edu.  If you need tech support you\n",
    "can reach us at askits@nyu.edu.\n",
    "Author:  Joe Wilson joe@wilson.com\"\"\"\n",
    "\n",
    "emails = re.findall(r'', text)\n",
    "print(emails)"
   ]
  },
  {
   "cell_type": "markdown",
   "id": "8fd98f39",
   "metadata": {},
   "source": [
    "<U>Expected Output</U>:"
   ]
  },
  {
   "cell_type": "markdown",
   "id": "0f066cdd",
   "metadata": {},
   "source": [
    "<pre style=\"margin: 0; padding=0\"><DIV style=\"font-family: Courier; border: 1px solid #dbdbdb; padding: 7px\">['contact@nyu.edu', 'help@nyu.edu', 'askits@nyu.edu']</DIV></pre>"
   ]
  },
  {
   "cell_type": "markdown",
   "id": "257c90bb",
   "metadata": {},
   "source": [
    " "
   ]
  },
  {
   "cell_type": "markdown",
   "id": "0ee1a1a9",
   "metadata": {},
   "source": [
    "re.sub() FOR SUBSTITUTIONS"
   ]
  },
  {
   "cell_type": "markdown",
   "id": "fb2e3717",
   "metadata": {},
   "source": [
    " "
   ]
  },
  {
   "cell_type": "markdown",
   "id": "71e20373",
   "metadata": {},
   "source": [
    "<B>4.62:  <U>Regex substitution</U>.  Replace space-separated with comma separated</B>"
   ]
  },
  {
   "cell_type": "code",
   "execution_count": null,
   "id": "a13443be",
   "metadata": {},
   "outputs": [],
   "source": [
    "import re\n",
    "\n",
    "args = 'this that   other  and  some  other'\n",
    "args2 = re.sub(r'', \",\", args)\n",
    "print(args2)"
   ]
  },
  {
   "cell_type": "markdown",
   "id": "7e07f916",
   "metadata": {},
   "source": [
    "<U>Expected Output</U>:"
   ]
  },
  {
   "cell_type": "markdown",
   "id": "697ee47f",
   "metadata": {},
   "source": [
    "<pre style=\"margin: 0; padding=0\"><DIV style=\"font-family: Courier; border: 1px solid #dbdbdb; padding: 7px\">this,that,other,and,some,other</DIV></pre>"
   ]
  },
  {
   "cell_type": "markdown",
   "id": "28a5f7b8",
   "metadata": {},
   "source": [
    " "
   ]
  },
  {
   "cell_type": "markdown",
   "id": "feea7a7f",
   "metadata": {},
   "source": [
    "re.split() FOR PATTERN-BASED DELIMITERS"
   ]
  },
  {
   "cell_type": "markdown",
   "id": "4978a8f2",
   "metadata": {},
   "source": [
    " "
   ]
  },
  {
   "cell_type": "markdown",
   "id": "a8215ba7",
   "metadata": {},
   "source": [
    "<B>4.63:  <U>Regex split</U>.  Split the user-input comma-separated values string into separate digit values.  </B>"
   ]
  },
  {
   "cell_type": "code",
   "execution_count": null,
   "id": "ed4dadd3",
   "metadata": {},
   "outputs": [],
   "source": [
    "import re\n",
    "\n",
    "ui = '23, 14, 7,3,9'\n",
    "numbers = re.split(r'', ui)\n",
    "print(numbers)"
   ]
  },
  {
   "cell_type": "markdown",
   "id": "f2c98a7c",
   "metadata": {},
   "source": [
    "<U>Expected Output</U>:"
   ]
  },
  {
   "cell_type": "markdown",
   "id": "6b3f919d",
   "metadata": {},
   "source": [
    "<pre style=\"margin: 0; padding=0\"><DIV style=\"font-family: Courier; border: 1px solid #dbdbdb; padding: 7px\">['23', '14', '7', '3', '9']</DIV></pre>"
   ]
  },
  {
   "cell_type": "markdown",
   "id": "ed8757d0",
   "metadata": {},
   "source": [
    " "
   ]
  },
  {
   "cell_type": "markdown",
   "id": "77ca16ae",
   "metadata": {},
   "source": [
    "<B>4.64:  <U>DOTALL wildcard match</U>.  </B>"
   ]
  },
  {
   "cell_type": "markdown",
   "id": "e178a5c2",
   "metadata": {},
   "source": [
    "Extract everything between <B>=code start=</B> and <B>= code end =</B>.  Use the <B>re.DOTALL</B> switch to use the wildcard (<B>.</B>) to match on a newline.\n"
   ]
  },
  {
   "cell_type": "code",
   "execution_count": null,
   "id": "c155870b",
   "metadata": {},
   "outputs": [],
   "source": [
    "import re\n",
    "\n",
    "text = \"\"\"Title of This Text\n",
    "\n",
    "This is some description...\n",
    "\n",
    "=code start=\n",
    "a = 5\n",
    "b = 5.0\n",
    "if a == b:\n",
    "    print('yes')\n",
    "=code end=\n",
    "\n",
    "This is some discussion...\n",
    "\"\"\"\n",
    "\n",
    "matchobj = re.search(r'', text)\n",
    "\n",
    "print(matchobj.group(1))"
   ]
  },
  {
   "cell_type": "markdown",
   "id": "14b9867c",
   "metadata": {},
   "source": [
    "<U>Expected Output</U>:"
   ]
  },
  {
   "cell_type": "markdown",
   "id": "779baf7f",
   "metadata": {},
   "source": [
    "<pre style=\"margin: 0; padding=0\"><DIV style=\"font-family: Courier; border: 1px solid #dbdbdb; padding: 7px\">a = 5\n",
    "b = 5.0\n",
    "if a == b:\n",
    "    print('yes')</DIV></pre>"
   ]
  },
  {
   "cell_type": "markdown",
   "id": "b24fa895",
   "metadata": {},
   "source": [
    " "
   ]
  },
  {
   "cell_type": "markdown",
   "id": "d01eded9",
   "metadata": {},
   "source": [
    "<B>4.65:  <U>Multiline anchors</U>.  </B>"
   ]
  },
  {
   "cell_type": "markdown",
   "id": "f048ef65",
   "metadata": {},
   "source": [
    "Use <B>findall()</B> to extra numbers from only the start of each line of the text.  Use <B>re.MULTILINE</B> to allow the carrot (<B>^</B>) to match at the start of any line.\n"
   ]
  },
  {
   "cell_type": "code",
   "execution_count": null,
   "id": "bbbc7f3e",
   "metadata": {},
   "outputs": [],
   "source": [
    "import re\n",
    "\n",
    "text = \"\"\"Title of This Text\n",
    "\n",
    "23 we want to grab some 99 numbers\n",
    "12 but not others, 17 and then some\n",
    "5  so we just get 1 the ones\n",
    "on the left side\n",
    "\n",
    "93 and me and 23 too\n",
    "\n",
    "\"\"\"\n",
    "\n",
    "matches = re.findall(r'', text)\n",
    "\n",
    "print(matches)"
   ]
  },
  {
   "cell_type": "markdown",
   "id": "b481a0f8",
   "metadata": {},
   "source": [
    "<U>Expected Output</U>:"
   ]
  },
  {
   "cell_type": "markdown",
   "id": "1d3e718a",
   "metadata": {},
   "source": [
    "<pre style=\"margin: 0; padding=0\"><DIV style=\"font-family: Courier; border: 1px solid #dbdbdb; padding: 7px\">['23', '12', '5', '93']</DIV></pre>"
   ]
  },
  {
   "cell_type": "markdown",
   "id": "14e2489c",
   "metadata": {},
   "source": [
    " "
   ]
  }
 ],
 "metadata": {},
 "nbformat": 4,
 "nbformat_minor": 5
}
