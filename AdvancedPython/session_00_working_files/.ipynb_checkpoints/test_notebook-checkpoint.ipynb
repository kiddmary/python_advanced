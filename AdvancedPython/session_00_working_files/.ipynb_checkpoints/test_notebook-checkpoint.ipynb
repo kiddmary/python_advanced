{
 "cells": [
  {
   "cell_type": "code",
   "execution_count": 1,
   "id": "ad78ac06",
   "metadata": {},
   "outputs": [
    {
     "name": "stdout",
     "output_type": "stream",
     "text": [
      "hello, jupyter!\n"
     ]
    }
   ],
   "source": [
    "print('hello, jupyter!')"
   ]
  },
  {
   "cell_type": "code",
   "execution_count": 2,
   "id": "e7684457",
   "metadata": {},
   "outputs": [
    {
     "name": "stdout",
     "output_type": "stream",
     "text": [
      "the number is 5\n"
     ]
    }
   ],
   "source": [
    "a = 5\n",
    "\n",
    "print(f'the number is {a}')"
   ]
  },
  {
   "cell_type": "code",
   "execution_count": 3,
   "id": "6144fa41",
   "metadata": {},
   "outputs": [
    {
     "data": {
      "text/plain": [
       "50"
      ]
     },
     "execution_count": 3,
     "metadata": {},
     "output_type": "execute_result"
    }
   ],
   "source": [
    "b = a * 10\n",
    "\n",
    "b"
   ]
  },
  {
   "cell_type": "code",
   "execution_count": null,
   "id": "0c221feb-7af7-4902-8084-2cb3334b9068",
   "metadata": {},
   "outputs": [],
   "source": []
  }
 ],
 "metadata": {
  "kernelspec": {
   "display_name": "Python 3 (ipykernel)",
   "language": "python",
   "name": "python3"
  },
  "language_info": {
   "codemirror_mode": {
    "name": "ipython",
    "version": 3
   },
   "file_extension": ".py",
   "mimetype": "text/x-python",
   "name": "python",
   "nbconvert_exporter": "python",
   "pygments_lexer": "ipython3",
   "version": "3.12.3"
  }
 },
 "nbformat": 4,
 "nbformat_minor": 5
}
