{
 "cells": [
  {
   "cell_type": "markdown",
   "id": "886370f1",
   "metadata": {},
   "source": [
    "# In-Class Exercises, Session 3"
   ]
  },
  {
   "cell_type": "markdown",
   "id": "22ac7edd",
   "metadata": {},
   "source": [
    "<U>Notes if you are using Jupyter Notebook</U>:  to call <B>exit()</B> from a notebook, please use <B>sys.exit()</B> (requires <B>import sys</B>).\n",
    "\n",
    "If a strange error occurs, it may be because Jupyter retains variables from all executed cells.  To reset the notebook, click 'Restart Kernel' (the circular arrow) -- this will reset variables, but will not undo any changes made."
   ]
  },
  {
   "cell_type": "markdown",
   "id": "c684c88d",
   "metadata": {},
   "source": [
    " "
   ]
  },
  {
   "cell_type": "markdown",
   "id": "51e51b8c",
   "metadata": {},
   "source": [
    "REQUESTS:  VIEWING RESPONSE"
   ]
  },
  {
   "cell_type": "markdown",
   "id": "af35ab8d",
   "metadata": {},
   "source": [
    "<B>3.1:  <U>Issue a GET request, view response text with .text</U>.  Use <B>requests.get()</B> with a url to retrieve a response from the weather service.  Print the <B>.text</B> attribute to see the body of the response.  </B>"
   ]
  },
  {
   "cell_type": "code",
   "execution_count": null,
   "id": "8715bcb8",
   "metadata": {},
   "outputs": [],
   "source": [
    "import requests\n",
    "\n",
    "url = 'https://forecast.weather.gov/product.php?site=NWS&issuedby=CTP&product=AFD'\n",
    "\n",
    "response = requests.get()\n"
   ]
  },
  {
   "cell_type": "markdown",
   "id": "c16cbc16",
   "metadata": {},
   "source": [
    " "
   ]
  },
  {
   "cell_type": "markdown",
   "id": "1832c6bc",
   "metadata": {},
   "source": [
    "<B>3.2:  <U>Issue a GET request, view headers</U>.  Print the <B>.headers</B> attribute of the response to see the headers sent back by the weather server.  </B>"
   ]
  },
  {
   "cell_type": "markdown",
   "id": "757ad9fe",
   "metadata": {},
   "source": [
    "You can also loop through the dict-like <B>response.headers</B> to see each key/value pair clearly."
   ]
  },
  {
   "cell_type": "code",
   "execution_count": null,
   "id": "e398f39e",
   "metadata": {},
   "outputs": [],
   "source": [
    "import requests\n",
    "\n",
    "url = 'https://forecast.weather.gov/product.php?site=NWS&issuedby=CTP&product=AFD'\n",
    "\n",
    "response = requests.get(url)\n"
   ]
  },
  {
   "cell_type": "markdown",
   "id": "891ad515",
   "metadata": {},
   "source": [
    " "
   ]
  },
  {
   "cell_type": "markdown",
   "id": "6244a258",
   "metadata": {},
   "source": [
    "<B>3.3:  <U>Issue a GET request, view status code</U>.  Print the <B>.status\\_code</B> attribute from the response, </B>"
   ]
  },
  {
   "cell_type": "markdown",
   "id": "f69ec32d",
   "metadata": {},
   "source": [
    "Next, change one of the parameters to see how the code changes; also, change the spelling of the word 'product'.\n",
    "\n",
    "In addition, use <B>requests.status\\_codes.\\_codes[response.status\\_code]</B> with the status code to see the meaning of the response code.\n"
   ]
  },
  {
   "cell_type": "code",
   "execution_count": null,
   "id": "4128fa39",
   "metadata": {},
   "outputs": [],
   "source": [
    "import requests\n",
    "\n",
    "url = 'https://forecast.weather.gov/product.php?site=NWS&issuedby=CTP&product=AFD'\n",
    "\n",
    "response = requests.get(url)\n",
    "\n",
    "\n",
    "# print(requestH.status_codes._codes[])"
   ]
  },
  {
   "cell_type": "markdown",
   "id": "f4506bc0",
   "metadata": {},
   "source": [
    " "
   ]
  },
  {
   "cell_type": "markdown",
   "id": "754b59da",
   "metadata": {},
   "source": [
    "REQUESTS:  ENCODED (text) and UNENCODED (bytes) RESPONSE"
   ]
  },
  {
   "cell_type": "markdown",
   "id": "fab64252",
   "metadata": {},
   "source": [
    " "
   ]
  },
  {
   "cell_type": "markdown",
   "id": "d4549b5d",
   "metadata": {},
   "source": [
    "<B>3.4:  <U>Issue a web request, view response.text (decoded) and response.content (undecoded)</U>.</B>"
   ]
  },
  {
   "cell_type": "markdown",
   "id": "7ead6f16",
   "metadata": {},
   "source": [
    "With the first URL, check the type of <B>response.text</B> and the type of <B>response.content</B>.  Each contains the response content, but one is <I>decoded</I> as a string and the other is <I>encoded</I> as bytes.\n",
    "\n",
    "Next, check the value of <B>response.encoding</B> to see what encoding the yahoo page uses.  The check the same with the Microsoft English page and the Microsoft French page."
   ]
  },
  {
   "cell_type": "code",
   "execution_count": null,
   "id": "15105292",
   "metadata": {},
   "outputs": [],
   "source": [
    "import requests\n",
    "\n",
    "url = 'http://www.yahoo.com'\n",
    "\n",
    "# url = 'https://www.microsoft.com/en-us/'      # Microsoft in English\n",
    "# url = 'https://www.microsoft.com/fr-fr/'      # Microsoft in French\n",
    "\n",
    "response = requests.get(url)\n",
    "\n"
   ]
  },
  {
   "cell_type": "markdown",
   "id": "2d76f526",
   "metadata": {},
   "source": [
    " "
   ]
  },
  {
   "cell_type": "markdown",
   "id": "cc1406e8",
   "metadata": {},
   "source": [
    "<B>3.5:  <U>Saving an image, sound or zip file</U>.  Issue the below web request, open a local file with 'wb' (meaning, \"write as bytes\") and write the unencoded text to the file.  (To access unencoded text, use <B>response.content</B> instead of <B>reponse.text</B>)</U>.</B>"
   ]
  },
  {
   "cell_type": "code",
   "execution_count": null,
   "id": "59e27cde",
   "metadata": {},
   "outputs": [],
   "source": [
    "import requests\n",
    "\n",
    "url = 'https://davidbpython.com/advanced_python/supplementary/python.png'   # a URL to an image\n",
    "\n",
    "response = requests.get(url)\n"
   ]
  },
  {
   "cell_type": "markdown",
   "id": "2019997b",
   "metadata": {},
   "source": [
    "Check the folder where this script or notebook is located; you should find the image file there."
   ]
  },
  {
   "cell_type": "markdown",
   "id": "c0382d46",
   "metadata": {},
   "source": [
    " "
   ]
  },
  {
   "cell_type": "markdown",
   "id": "c8379b21",
   "metadata": {},
   "source": [
    "LAB"
   ]
  },
  {
   "cell_type": "markdown",
   "id": "b5b4e3d2",
   "metadata": {},
   "source": [
    "<div style=\"background-color: #ccffcc; padding: 10px; border: 2px solid green\"><B>3.6:  <U>Retrieve a page and save to disk</U>.  </B></div>"
   ]
  },
  {
   "cell_type": "markdown",
   "id": "f2648f8a",
   "metadata": {},
   "source": [
    "Download the following page and save to disk in a new file (write <B>response.text</B> to the file).  Make sure to close the file.\n",
    "\n",
    "After writing the file, please open the file in a browser (use your browser's <B>File > Open File</B> menu command).\n",
    "\n",
    "In another tab on your browser, open the url directly.  Compate the two pages.\n",
    "\n",
    "(The locally saved file will not have correct formatting or colors - this is because these are supplied by a separate CSS file that was not downloaded.)"
   ]
  },
  {
   "cell_type": "code",
   "execution_count": null,
   "id": "99221eee",
   "metadata": {},
   "outputs": [],
   "source": [
    "import requests\n",
    "\n",
    "url = 'https://pycoders.com/'\n"
   ]
  },
  {
   "cell_type": "markdown",
   "id": "ab964f30",
   "metadata": {},
   "source": [
    " "
   ]
  },
  {
   "cell_type": "markdown",
   "id": "006516cd",
   "metadata": {},
   "source": [
    "<div style=\"background-color: #ccffcc; padding: 10px; border: 2px solid green\"><B>3.7:  <U>View response status code</U>.  </B></div>"
   ]
  },
  {
   "cell_type": "markdown",
   "id": "1778841c",
   "metadata": {},
   "source": [
    "Continuing the previous exercise, use the <B>.status\\_code</B> attribute to view the response status.  Now change the URL to something you wouldn't expect to be correct, run and view the status code."
   ]
  },
  {
   "cell_type": "markdown",
   "id": "9983e70a",
   "metadata": {},
   "source": [
    " "
   ]
  },
  {
   "cell_type": "markdown",
   "id": "5e0828b4",
   "metadata": {},
   "source": [
    "<div style=\"background-color: #ccffcc; padding: 10px; border: 2px solid green\"><B>3.8:  <U>View response headers</U>.  </B></div>"
   ]
  },
  {
   "cell_type": "markdown",
   "id": "4d700a97",
   "metadata": {},
   "source": [
    "Continuing the previous exercise, use the <B>.headers</B> attribute to retrieve the headers coming back as a dict from the response.  Loop through and print each key/value pair in the dict."
   ]
  },
  {
   "cell_type": "markdown",
   "id": "d5b0d99b",
   "metadata": {},
   "source": [
    " "
   ]
  },
  {
   "cell_type": "markdown",
   "id": "7236cf7a",
   "metadata": {},
   "source": [
    "<div style=\"background-color: #ccffcc; padding: 10px; border: 2px solid green\"><B>3.9:  <U>Retrieve and save an image</U>.  </B></div>"
   ]
  },
  {
   "cell_type": "markdown",
   "id": "872eef99",
   "metadata": {},
   "source": [
    "Use the below URL to retrieve an image from the internet, and save it locally to a filename of your choice (make sure it has a <B>.jpg</B> file extension so it is recognized properly by your image viewer).\n",
    "\n",
    "The data must be read and written as binary data (i.e., not plaintext).  Therefore when writing, use 'wb' (write binary) instead of 'w'.\n"
   ]
  },
  {
   "cell_type": "code",
   "execution_count": null,
   "id": "7b59189b",
   "metadata": {},
   "outputs": [],
   "source": [
    "import requests\n",
    "\n",
    "url = 'https://cdn.vox-cdn.com/uploads/chorus_image/image/32167377/monty-python-3by2.0.jpg'\n"
   ]
  },
  {
   "cell_type": "markdown",
   "id": "404f5b3b",
   "metadata": {},
   "source": [
    " "
   ]
  },
  {
   "cell_type": "markdown",
   "id": "d21001dc",
   "metadata": {},
   "source": [
    "REQUESTS:  CONFIGURING THE REQUEST"
   ]
  },
  {
   "cell_type": "markdown",
   "id": "33790019",
   "metadata": {},
   "source": [
    "<B>3.10:  <U>Demo exercise:  issue a request and view elements of the request</U>.</B>"
   ]
  },
  {
   "cell_type": "markdown",
   "id": "abc55fe0",
   "metadata": {},
   "source": [
    "First, issue the following request and view the headers reflected back.\n",
    "\n",
    "Next, uncomment the 'headers' lines to see how http\\_reflect \"sees\" you (i.e., what browser and platform it thinks you are requesting from).\n",
    "\n",
    "Finally, change 'text/plain' to 'text/html' and see http\\_reflect respond with HTML instead of plain text."
   ]
  },
  {
   "cell_type": "code",
   "execution_count": null,
   "id": "1c3b6363",
   "metadata": {},
   "outputs": [],
   "source": [
    "import requests\n",
    "\n",
    "spoof_browser = \"Mozilla/5.0 (X11; Linux x86_64) AppleWebKit/537.36 (KHTML, like Gecko) Chrome/106.0.0.0 Safari/537.36\"\n",
    "\n",
    "response = requests.get('http://davidbpython.com/cgi-bin/http_reflect'\n",
    "                        #, headers={\n",
    "                        #         'User-Agent':  spoof_browser,\n",
    "                        #         'Accept':      'text/plain',\n",
    "                        #         }\n",
    "                        )\n",
    "\n",
    "print(response.text)"
   ]
  },
  {
   "cell_type": "markdown",
   "id": "330cdb9a",
   "metadata": {},
   "source": [
    " "
   ]
  },
  {
   "cell_type": "markdown",
   "id": "fd224fac",
   "metadata": {},
   "source": [
    "<B>3.11:  <U>Demo exercise:  issue a request and send parameters with .get()</U>.</B>"
   ]
  },
  {
   "cell_type": "markdown",
   "id": "17f0be03",
   "metadata": {},
   "source": [
    "In the below program, add the <B>params=</B> argument with the dict 'my\\_params' to send key/value pairs to the <B>http\\_reflect</B> service as part of the query string.  In the response, find the parameters you sent.\n"
   ]
  },
  {
   "cell_type": "code",
   "execution_count": null,
   "id": "257442a3",
   "metadata": {},
   "outputs": [],
   "source": [
    "import requests\n",
    "\n",
    "my_params = {'a': 1, 'b': 'hello'}\n",
    "\n",
    "response = requests.get('http://davidbpython.com/cgi-bin/http_reflect')\n",
    "\n",
    "print(response.text)"
   ]
  },
  {
   "cell_type": "markdown",
   "id": "b58f2524",
   "metadata": {},
   "source": [
    " "
   ]
  },
  {
   "cell_type": "markdown",
   "id": "a76982a7",
   "metadata": {},
   "source": [
    "<B>3.12:  <U>Issue a request and send parameters with .post()</U>.</B>"
   ]
  },
  {
   "cell_type": "markdown",
   "id": "ab4ec7a8",
   "metadata": {},
   "source": [
    "In the below program, add the <B>data=</B> argument with the dict 'my\\_data' to send key/value pairs to the <B>http\\_reflect</B> service as part of the body of the request.  In the response, find the parameters you sent.\n"
   ]
  },
  {
   "cell_type": "code",
   "execution_count": null,
   "id": "598b8328",
   "metadata": {},
   "outputs": [],
   "source": [
    "import requests\n",
    "\n",
    "my_data = {'a': 1, 'b': 'hello'}\n",
    "\n",
    "response = requests.post('http://davidbpython.com/cgi-bin/http_reflect')\n",
    "\n",
    "print(response.text)"
   ]
  },
  {
   "cell_type": "markdown",
   "id": "9994e6f2",
   "metadata": {},
   "source": [
    " "
   ]
  },
  {
   "cell_type": "markdown",
   "id": "f09fe041",
   "metadata": {},
   "source": [
    "REQUESTS:  UPLOADING A FILE"
   ]
  },
  {
   "cell_type": "markdown",
   "id": "6ef4dd06",
   "metadata": {},
   "source": [
    "<B>3.13:  <U>Upload a file to a server program</U>.  Add the <B>files=</B> parameter to <B>.post()</B> to upload the below file.</B>"
   ]
  },
  {
   "cell_type": "markdown",
   "id": "77353db0",
   "metadata": {},
   "source": [
    "Note that the file has been opened with 'rb', which stands for 'read binary':  we are uploading encoded bytes."
   ]
  },
  {
   "cell_type": "code",
   "execution_count": null,
   "id": "d0aa7a90",
   "metadata": {},
   "outputs": [],
   "source": [
    "import requests\n",
    "\n",
    "# open file for reading without decoding (returns a bytestring)\n",
    "file_bytes = open('../test_file.txt', 'rb')\n",
    "\n",
    "file_dict = { 'file':  ('test_file.txt', file_bytes,\n",
    "                        'text/plain') }\n",
    "\n",
    "response = requests.post('https://davidbpython.com/cgi-bin/http_reflect')\n",
    "\n",
    "print(response.text)"
   ]
  },
  {
   "cell_type": "markdown",
   "id": "27cc8df2",
   "metadata": {},
   "source": [
    " "
   ]
  },
  {
   "cell_type": "markdown",
   "id": "9477505e",
   "metadata": {},
   "source": [
    "LAB"
   ]
  },
  {
   "cell_type": "markdown",
   "id": "c1f01f70",
   "metadata": {},
   "source": [
    "<div style=\"background-color: #ccffcc; padding: 10px; border: 2px solid green\"><B>3.14:  <U>Demo exercise:  issue request with headers, parameters and data</U>.</B></div>"
   ]
  },
  {
   "cell_type": "markdown",
   "id": "70c9d2be",
   "metadata": {},
   "source": [
    "Please note below the approach for setting <B>headers</B>, <B>parameters</B> and <B>data</B> in a request, and note that each have been successfully sent to (and reflected back from) the server."
   ]
  },
  {
   "cell_type": "code",
   "execution_count": null,
   "id": "15f29d89",
   "metadata": {},
   "outputs": [],
   "source": [
    "import requests\n",
    "\n",
    "# link to my reflection program\n",
    "url = 'http://davidbpython.com/cgi-bin/http_reflect'\n",
    "\n",
    "div_bar = '=' * 10\n",
    "\n",
    "\n",
    "# headers, parameters and message data to be passed to request\n",
    "# change to 'text/html' for an HTML response\n",
    "header_dict =  { 'Accept': 'text/plain' }\n",
    "param_dict =   { 'key1': 'val1', 'key2': 'val2' }\n",
    "data_dict =    { 'text1': \"We're all out of gouda.\" }\n",
    "\n",
    "\n",
    "# a GET request (change to .post for a POST request)\n",
    "response = requests.get(url, headers=header_dict,\n",
    "                             params=param_dict,\n",
    "                             data = data_dict)\n",
    "\n",
    "\n",
    "# status of the response (OK, Not Found, etc.)\n",
    "response_status = response.status_code\n",
    "\n",
    "# headers sent by the server\n",
    "response_headers = response.headers\n",
    "\n",
    "# body sent by server\n",
    "response_text = response.text\n",
    "\n",
    "\n",
    "# outputting response elements (status, headers, body)\n",
    "\n",
    "# response status\n",
    "print(f'{div_bar} response status {div_bar}\\n')\n",
    "print(response_status)\n",
    "print(); print()\n",
    "\n",
    "# response headers\n",
    "print(f'{div_bar} response headers {div_bar}\\n')\n",
    "for key in response_headers:\n",
    "    print(f'{key}:  {response_headers[key]}\\n')\n",
    "print()\n",
    "\n",
    "# response body\n",
    "print(f'{div_bar} response body {div_bar}\\n')\n",
    "print(response_text)"
   ]
  },
  {
   "cell_type": "markdown",
   "id": "196ddb73",
   "metadata": {},
   "source": [
    " "
   ]
  },
  {
   "cell_type": "markdown",
   "id": "51516e11",
   "metadata": {},
   "source": [
    "<div style=\"background-color: #ccffcc; padding: 10px; border: 2px solid green\"><B>3.15:  <U>Use a parameter to configure a web API request</U>.  </B></div>"
   ]
  },
  {
   "cell_type": "markdown",
   "id": "6736104c",
   "metadata": {},
   "source": [
    "Complete a request from the below URL by using the parameter <B>term</B> with a value that is a term you would like to search on <B>urbandictionary.com</B>.\n",
    "\n",
    "(<U>Warning</U>:  <B>urbandictionary.com</B> definitions can use offensive language.  For a \"clean\" set of definitions, try the defition for <B>squee</B> as shown below.)\n",
    "\n",
    "Read and save the resulting JSON text to a file."
   ]
  },
  {
   "cell_type": "code",
   "execution_count": null,
   "id": "2ad4dfbf",
   "metadata": {},
   "outputs": [],
   "source": [
    "import requests\n",
    "\n",
    "url = 'http://api.urbandictionary.com/v0/define'\n",
    "\n"
   ]
  },
  {
   "cell_type": "markdown",
   "id": "50c90bcc",
   "metadata": {},
   "source": [
    " "
   ]
  },
  {
   "cell_type": "markdown",
   "id": "2f4e4dfd",
   "metadata": {},
   "source": [
    "<div style=\"background-color: #ccffcc; padding: 10px; border: 2px solid green\"><B>3.16:  <U>Read and parse JSON data</U>.  </B></div>"
   ]
  },
  {
   "cell_type": "markdown",
   "id": "8c942cb9",
   "metadata": {},
   "source": [
    "Continue the previous program by using the <B>.json()</B> method of the <B>response</B> object to read the data as a JSON object.\n",
    "\n",
    "You should find that the object is a <B>dict</B>, that it has one key <B>list</B> with a value that is a list, and that if you loop through this list of dicts, the key <B>author</B> is the author's name, and <B>definition</B> is the definition."
   ]
  },
  {
   "cell_type": "markdown",
   "id": "a22765fc",
   "metadata": {},
   "source": [
    " "
   ]
  },
  {
   "cell_type": "markdown",
   "id": "90372ab8",
   "metadata": {},
   "source": [
    "<div style=\"background-color: #ccffcc; padding: 10px; border: 2px solid green\"><B>3.17:  <U>Read and parse CSV data</U>.  </B></div>"
   ]
  },
  {
   "cell_type": "markdown",
   "id": "f3e3bae5",
   "metadata": {},
   "source": [
    "Request the following data and retrieve as text.  Load the text as a <B>csv.reader</B> object, then read line-by-line and print out each parsed line.\n",
    "\n",
    "(Hint:  to load the data into text into <B>csv.reader</B>, split the text using <B>.splitlines()</B> first, and pass this list to <B>csv.reader()</B>.)\n"
   ]
  },
  {
   "cell_type": "code",
   "execution_count": null,
   "id": "d5bb038f",
   "metadata": {},
   "outputs": [],
   "source": [
    "import csv\n",
    "import requests\n",
    "\n",
    "url = 'http://davidbpython.com/advanced_python/supplementary/dated_file.csv'\n",
    "\n"
   ]
  },
  {
   "cell_type": "markdown",
   "id": "67da0b3d",
   "metadata": {},
   "source": [
    " "
   ]
  },
  {
   "cell_type": "markdown",
   "id": "62f01a0b",
   "metadata": {},
   "source": [
    "WEB SCRAPING"
   ]
  },
  {
   "cell_type": "markdown",
   "id": "1adfa031",
   "metadata": {},
   "source": [
    "<B>3.18:  <U>BeautifulSoup object</U>:  the below code reads a string read from an html file and parses the file and its tags into a <B>BeautifulSoup</B> object.  </B>"
   ]
  },
  {
   "cell_type": "markdown",
   "id": "b57767a1",
   "metadata": {},
   "source": [
    "Explore the following attributes of the object named 'soup':\n",
    "<UL>\n",
    "  <LI> print the type of the object</LI>\n",
    "  <LI> print the object itself</LI>\n",
    "  <LI> print the <B>.text</B> attribute</LI>\n",
    "</UL>"
   ]
  },
  {
   "cell_type": "code",
   "execution_count": null,
   "id": "2b058918",
   "metadata": {},
   "outputs": [],
   "source": [
    "from bs4 import BeautifulSoup\n",
    "\n",
    "scrapee = '../dormouse.html'\n",
    "\n",
    "text = open(scrapee).read()\n",
    "soup = BeautifulSoup(text, 'html.parser')\n"
   ]
  },
  {
   "cell_type": "markdown",
   "id": "e82b2e48",
   "metadata": {},
   "source": [
    "Note that you may occasionally encounter a <B>UnicodeDecodeError</B> when you attempt to read a file from the internet.  In these cases you should tell Python which encoding to use:"
   ]
  },
  {
   "cell_type": "code",
   "execution_count": null,
   "id": "614ed519",
   "metadata": {},
   "outputs": [],
   "source": [
    "text = open(scrapee, encoding='utf-8')"
   ]
  },
  {
   "cell_type": "markdown",
   "id": "e51e656d",
   "metadata": {},
   "source": [
    " "
   ]
  },
  {
   "cell_type": "markdown",
   "id": "d59b1424",
   "metadata": {},
   "source": [
    "<B>3.19:  <U>\"first tag\" attribute access; <B>.text</B> attribute</U>:  access the object for <B>soup.title</B>, <B>soup.body</B>, <B>soup.p</B>, <B>soup.meta</B>.  </B>"
   ]
  },
  {
   "cell_type": "markdown",
   "id": "3e5e5091",
   "metadata": {},
   "source": [
    "Print the type of 1 of these objects.\n",
    "\n",
    "Print the .text attribute of each of these objects.\n"
   ]
  },
  {
   "cell_type": "code",
   "execution_count": null,
   "id": "9819edfd",
   "metadata": {},
   "outputs": [],
   "source": [
    "from bs4 import BeautifulSoup\n",
    "\n",
    "scrapee = '../dormouse.html'\n",
    "\n",
    "text = open(scrapee).read()\n",
    "\n",
    "soup = BeautifulSoup(text, 'html.parser')"
   ]
  },
  {
   "cell_type": "markdown",
   "id": "cd07bb92",
   "metadata": {},
   "source": [
    " "
   ]
  },
  {
   "cell_type": "markdown",
   "id": "569f59da",
   "metadata": {},
   "source": [
    "<B>3.20:  <U>Access tag by parameter using a dict</U>.  Use a dict with <B>.find()</B> to specify a 'class' parameter value (e.g. <B>attrs={'class': 'story\\_title'}</B>)</B>"
   ]
  },
  {
   "cell_type": "code",
   "execution_count": null,
   "id": "348855e1",
   "metadata": {},
   "outputs": [],
   "source": [
    "from bs4 import BeautifulSoup\n",
    "\n",
    "scrapee = '../dormouse.html'\n",
    "\n",
    "text = open(scrapee).read()\n",
    "\n",
    "soup = BeautifulSoup(text, 'html.parser')"
   ]
  },
  {
   "cell_type": "markdown",
   "id": "65013115",
   "metadata": {},
   "source": [
    " "
   ]
  },
  {
   "cell_type": "markdown",
   "id": "15cc8297",
   "metadata": {},
   "source": [
    "<B>3.21:  <U>individual parameter values</U>:  for a tag that has them, use a subscript to access parameter values of a tag (e.g. <B>tag['value']</b> for the first meta tag)</B>"
   ]
  },
  {
   "cell_type": "code",
   "execution_count": null,
   "id": "1888909e",
   "metadata": {},
   "outputs": [],
   "source": [
    "from bs4 import BeautifulSoup\n",
    "\n",
    "scrapee = '../dormouse.html'\n",
    "\n",
    "text = open(scrapee).read()\n",
    "\n",
    "soup = BeautifulSoup(text, 'html.parser')"
   ]
  },
  {
   "cell_type": "markdown",
   "id": "4b234204",
   "metadata": {},
   "source": [
    " "
   ]
  },
  {
   "cell_type": "markdown",
   "id": "d9762020",
   "metadata": {},
   "source": [
    "<B>3.22:  <U>Find all parameter values</U>:  for those tags that have them, use <B>.find\\_all()</B> to access multiple tags with the same criteria.  </B>"
   ]
  },
  {
   "cell_type": "code",
   "execution_count": null,
   "id": "86e5050c",
   "metadata": {},
   "outputs": [],
   "source": [
    "from bs4 import BeautifulSoup\n",
    "\n",
    "scrapee = '../dormouse.html'\n",
    "\n",
    "text = open(scrapee).read()\n",
    "\n",
    "soup = BeautifulSoup(text, 'html.parser')"
   ]
  },
  {
   "cell_type": "markdown",
   "id": "091c6896",
   "metadata": {},
   "source": [
    " "
   ]
  },
  {
   "cell_type": "markdown",
   "id": "68494cc3",
   "metadata": {},
   "source": [
    "LAB"
   ]
  },
  {
   "cell_type": "markdown",
   "id": "404d40c6",
   "metadata": {},
   "source": [
    "The following exercises will parse the <B>test\\_scrape.html</B> page in this week's session folder.\n"
   ]
  },
  {
   "cell_type": "markdown",
   "id": "b226a2ae",
   "metadata": {},
   "source": [
    "<pre style=\"margin: 0; padding=0\"><DIV style=\"font-family: Courier; border: 1px solid #dbdbdb; padding: 7px\">&lt;html&gt;\n",
    "  &lt;head&gt;\n",
    "    &lt;title&gt;This is a page title.&lt;/title&gt;\n",
    "  &lt;/head&gt;\n",
    "  &lt;body&gt;\n",
    "    &lt;h3 class=\"heading\"&gt;This is a page heading.&lt;/h3&gt;\n",
    "    &lt;p&gt;This is some text.&lt;/p&gt;\n",
    "    &lt;p&gt;This is some more text.&lt;/p&gt;\n",
    "    &lt;h3 class=\"midpage\"&gt;This is a midpage heading.&lt;/h3&gt;\n",
    "    &lt;p&gt;This is even more text.&lt;/p&gt;\n",
    "    &lt;div content=\"Some div parameter content we want!\"&gt;\n",
    "    Some div text!\n",
    "    &lt;/div&gt;\n",
    "  &lt;/body&gt;\n",
    "&lt;/html&gt;</DIV></pre>"
   ]
  },
  {
   "cell_type": "markdown",
   "id": "9d5cba67",
   "metadata": {},
   "source": [
    " "
   ]
  },
  {
   "cell_type": "markdown",
   "id": "b8886d24",
   "metadata": {},
   "source": [
    "<div style=\"background-color: #ccffcc; padding: 10px; border: 2px solid green\"><B>3.23:  In <B>test\\_scrape.html</B>, scrape the page title (the title within the &lt;title&gt; tags) and print it.</B></div>"
   ]
  },
  {
   "cell_type": "code",
   "execution_count": null,
   "id": "ab87a8c5",
   "metadata": {},
   "outputs": [],
   "source": [
    "from bs4 import BeautifulSoup\n",
    "\n",
    "fname = '../test_scrape.html'\n",
    "\n",
    "fh = open(fname)\n",
    "text = fh.read()\n",
    "\n",
    "soup = BeautifulSoup(text, 'html.parser')"
   ]
  },
  {
   "cell_type": "markdown",
   "id": "1128bfef",
   "metadata": {},
   "source": [
    "<U>Expected output</U>:"
   ]
  },
  {
   "cell_type": "code",
   "execution_count": null,
   "id": "6c90dced",
   "metadata": {},
   "outputs": [],
   "source": [
    "This is a page title."
   ]
  },
  {
   "cell_type": "markdown",
   "id": "4661ff52",
   "metadata": {},
   "source": [
    "Note that you may occasionally encounter a <B>UnicodeDecodeError</B> when you attempt to read a file from the internet.  In these cases you should tell Python which encoding to use:"
   ]
  },
  {
   "cell_type": "code",
   "execution_count": null,
   "id": "45f29b65",
   "metadata": {},
   "outputs": [],
   "source": [
    "text = open(scrapee, encoding='utf-8')"
   ]
  },
  {
   "cell_type": "markdown",
   "id": "1a497ab2",
   "metadata": {},
   "source": [
    " "
   ]
  },
  {
   "cell_type": "markdown",
   "id": "3c64a4c4",
   "metadata": {},
   "source": [
    "<div style=\"background-color: #ccffcc; padding: 10px; border: 2px solid green\"><B>3.24:  Scrape and print the &lt;h3&gt; tag in the middle of the page (not the first <B>&lt;h3&gt;</B> tag)</B></div>"
   ]
  },
  {
   "cell_type": "code",
   "execution_count": null,
   "id": "59188a27",
   "metadata": {},
   "outputs": [],
   "source": [
    "from bs4 import BeautifulSoup\n",
    "\n",
    "fname = '../test_scrape.html'\n",
    "\n",
    "fh = open(fname)\n",
    "text = fh.read()\n",
    "\n",
    "soup = BeautifulSoup(text, 'html.parser')"
   ]
  },
  {
   "cell_type": "markdown",
   "id": "99f2182e",
   "metadata": {},
   "source": [
    "<U>Expected Output</U>:"
   ]
  },
  {
   "cell_type": "markdown",
   "id": "4d264423",
   "metadata": {},
   "source": [
    "<pre style=\"margin: 0; padding=0\"><DIV style=\"font-family: Courier; border: 1px solid #dbdbdb; padding: 7px\">This is a midpage heading.</DIV></pre>"
   ]
  },
  {
   "cell_type": "markdown",
   "id": "c6d8402c",
   "metadata": {},
   "source": [
    " "
   ]
  },
  {
   "cell_type": "markdown",
   "id": "65042f08",
   "metadata": {},
   "source": [
    "<div style=\"background-color: #ccffcc; padding: 10px; border: 2px solid green\"><B>3.25:  Scrape and print the &lt;div&gt; text as well as the <B>\"content\"</B> parameter value.  </B></div>"
   ]
  },
  {
   "cell_type": "code",
   "execution_count": null,
   "id": "b15cf629",
   "metadata": {},
   "outputs": [],
   "source": [
    "from bs4 import BeautifulSoup\n",
    "\n",
    "fname = '../test_scrape.html'\n",
    "\n",
    "fh = open(fname)\n",
    "text = fh.read()\n",
    "\n",
    "soup = BeautifulSoup(text, 'html.parser')"
   ]
  },
  {
   "cell_type": "markdown",
   "id": "a0ab5405",
   "metadata": {},
   "source": [
    "<U>Expected Output</U>:"
   ]
  },
  {
   "cell_type": "markdown",
   "id": "7817fadf",
   "metadata": {},
   "source": [
    "<pre style=\"margin: 0; padding=0\"><DIV style=\"font-family: Courier; border: 1px solid #dbdbdb; padding: 7px\">Some div parameter content we want!\n",
    "\n",
    "    Some div text!\n",
    "</DIV></pre>"
   ]
  },
  {
   "cell_type": "markdown",
   "id": "4f78d96d",
   "metadata": {},
   "source": [
    " "
   ]
  },
  {
   "cell_type": "markdown",
   "id": "b3ed9315",
   "metadata": {},
   "source": [
    "<div style=\"background-color: #ccffcc; padding: 10px; border: 2px solid green\"><B>3.26:  Scrape and print each of the &lt;p&gt; tag texts.  </B></div>"
   ]
  },
  {
   "cell_type": "code",
   "execution_count": null,
   "id": "ffedd380",
   "metadata": {},
   "outputs": [],
   "source": [
    "from bs4 import BeautifulSoup\n",
    "\n",
    "fname = '../test_scrape.html'\n",
    "\n",
    "fh = open(fname)\n",
    "text = fh.read()\n",
    "\n",
    "soup = BeautifulSoup(text, 'html.parser')"
   ]
  },
  {
   "cell_type": "markdown",
   "id": "d7d76b1b",
   "metadata": {},
   "source": [
    "<U>Expected Output</U>:"
   ]
  },
  {
   "cell_type": "markdown",
   "id": "f7a3dbe4",
   "metadata": {},
   "source": [
    "<pre style=\"margin: 0; padding=0\"><DIV style=\"font-family: Courier; border: 1px solid #dbdbdb; padding: 7px\">This is some text.\n",
    "This is some more text.\n",
    "This is even more text.</DIV></pre>"
   ]
  },
  {
   "cell_type": "markdown",
   "id": "8a1c974e",
   "metadata": {},
   "source": [
    " "
   ]
  },
  {
   "cell_type": "markdown",
   "id": "d8fd12e3",
   "metadata": {},
   "source": [
    "WORKING WITH ENCODINGS AND UNICODE"
   ]
  },
  {
   "cell_type": "markdown",
   "id": "fba7637c",
   "metadata": {},
   "source": [
    "<B>3.27:  <U>Use ord() and chr() to encode characters to integers and decode integers to characters</U>.</B>"
   ]
  },
  {
   "cell_type": "markdown",
   "id": "6783cfe8",
   "metadata": {},
   "source": [
    "Use the <B>ord()</B> function to convert this character to an integer; then use the <B>chr()</B> function to convert back from integer to character."
   ]
  },
  {
   "cell_type": "code",
   "execution_count": null,
   "id": "31c89ecd",
   "metadata": {},
   "outputs": [],
   "source": [
    "char = 'A'\n",
    "\n"
   ]
  },
  {
   "cell_type": "markdown",
   "id": "6779c50e",
   "metadata": {},
   "source": [
    " "
   ]
  },
  {
   "cell_type": "markdown",
   "id": "fe5db4a1",
   "metadata": {},
   "source": [
    "<B>3.28:  <U>Demonstratin:  note how you can use integers to retrieve characters</U>.  </B>"
   ]
  },
  {
   "cell_type": "markdown",
   "id": "e548d546",
   "metadata": {},
   "source": [
    "You can use integers to retrieve characters.  Run the following program:"
   ]
  },
  {
   "cell_type": "code",
   "execution_count": null,
   "id": "11d9c778",
   "metadata": {},
   "outputs": [],
   "source": [
    "for idx in range(65, 70):\n",
    "    print(chr(idx))\n"
   ]
  },
  {
   "cell_type": "markdown",
   "id": "c62908e5",
   "metadata": {},
   "source": [
    " "
   ]
  },
  {
   "cell_type": "markdown",
   "id": "9894dc0f",
   "metadata": {},
   "source": [
    "<B>3.29:  <U>Use str.encode() and bytes.decode() to convert a string to a bytestring and back to string</U>.</B>"
   ]
  },
  {
   "cell_type": "markdown",
   "id": "da7aa859",
   "metadata": {},
   "source": [
    "<B>greet.encode()</B> should include an encoding ('ascii', 'latin-1' or 'utf-8'):"
   ]
  },
  {
   "cell_type": "code",
   "execution_count": null,
   "id": "e0aee3b9",
   "metadata": {},
   "outputs": [],
   "source": [
    "greet = 'Hello, world!'\n",
    "\n",
    "bytestr = greet.encode(# add encoding here)\n",
    "print(bytestr)\n",
    "\n",
    "# subscript the bytestring to see individual characters\n",
    "\n",
    "\n",
    "\n",
    "# now call bytestr.decode() with the same encoding to see the string again\n"
   ]
  },
  {
   "cell_type": "markdown",
   "id": "507431d3",
   "metadata": {},
   "source": [
    " "
   ]
  },
  {
   "cell_type": "markdown",
   "id": "78ecc3bc",
   "metadata": {},
   "source": [
    "<B>3.30:  <U>Encode a latin-1 string to bytes and back to string, then try to encode as ascii</U></B>"
   ]
  },
  {
   "cell_type": "markdown",
   "id": "1c1b53a6",
   "metadata": {},
   "source": [
    "The below string contains a non-ascii character.  Encode into the following encodings:  'latin-1', 'utf-8' and 'ascii'.\n"
   ]
  },
  {
   "cell_type": "code",
   "execution_count": null,
   "id": "db99f880",
   "metadata": {},
   "outputs": [],
   "source": [
    "string = 'voilà'\n",
    "\n",
    "bytestr = string.encode(# add encoding here)\n",
    "\n",
    "print(bytestr)"
   ]
  },
  {
   "cell_type": "markdown",
   "id": "0e9a370a",
   "metadata": {},
   "source": [
    " "
   ]
  },
  {
   "cell_type": "markdown",
   "id": "7e7498e4",
   "metadata": {},
   "source": [
    "<B>3.31:  <U>Open a file in various encodings</U>.  The text of the following file is French, and we are opening it in utf-8 (Python's default).  Try to open the file with <B>encoding='latin-1'</B> and <B>encoding='ascii'</B>.  </B>"
   ]
  },
  {
   "cell_type": "code",
   "execution_count": null,
   "id": "a093abe1",
   "metadata": {},
   "outputs": [],
   "source": [
    "filename = '../la_vie.txt'\n",
    "\n",
    "fh = open(filename, encoding='utf-8')\n",
    "\n",
    "print(fh.read())"
   ]
  },
  {
   "cell_type": "markdown",
   "id": "e906d81d",
   "metadata": {},
   "source": [
    " "
   ]
  },
  {
   "cell_type": "markdown",
   "id": "a757faef",
   "metadata": {},
   "source": [
    "<B>3.32:  <U>Use the <B>chardet</B> library to \"sniff\" an encoding</U>.  Given the below strings, use <B>chardet.detect()</B> with each of the two bytestring to get Python's best guess as to its encoding.  Print the resulting dict from <B>.detect()</B>.  </B>"
   ]
  },
  {
   "cell_type": "code",
   "execution_count": null,
   "id": "62b4e574",
   "metadata": {},
   "outputs": [],
   "source": [
    "import chardet\n",
    "\n",
    "bytestr1 = 'voilà'.encode('utf-8')\n",
    "\n",
    "bytestr2 = 'hello'.encode('utf-8')\n",
    "\n"
   ]
  },
  {
   "cell_type": "markdown",
   "id": "8c581d13",
   "metadata": {},
   "source": [
    " "
   ]
  },
  {
   "cell_type": "markdown",
   "id": "b5cc8650",
   "metadata": {},
   "source": [
    "optional:  FLASK"
   ]
  },
  {
   "cell_type": "markdown",
   "id": "a55bc42a",
   "metadata": {},
   "source": [
    " "
   ]
  },
  {
   "cell_type": "markdown",
   "id": "70245765",
   "metadata": {},
   "source": [
    "In these exercises, we'll re-create a Flask application that takes form input and displays an image.\n",
    "\n",
    "You can supplement these instructions with your own application idea -- one that uses user input to choose and display images."
   ]
  },
  {
   "cell_type": "markdown",
   "id": "1eae26bd",
   "metadata": {},
   "source": [
    " "
   ]
  },
  {
   "cell_type": "markdown",
   "id": "b9f54d8c",
   "metadata": {},
   "source": [
    "<B>3.33:  Create a simple Flask 'hello world' app that greets the user, and start the application.</B>"
   ]
  },
  {
   "cell_type": "markdown",
   "id": "c02fb5f6",
   "metadata": {},
   "source": [
    "Use the basic <B>hello\\_flask.py</B> example.\n",
    "\n",
    "Start the application by running it from the command line (the Terminal or Command Prompt window).\n",
    "\n",
    "<U>Expected Output</U>:"
   ]
  },
  {
   "cell_type": "markdown",
   "id": "87c1f4d0",
   "metadata": {},
   "source": [
    "<pre style=\"margin: 0; padding=0\"><DIV style=\"font-family: Courier; border: 1px solid #dbdbdb; padding: 7px\">$ ./hello.py\n",
    " * Running on http://127.0.0.1:5000/ (Press CTRL+C to quit)\n",
    " * Restarting with stat\n",
    " * Debugger is active!\n",
    " * Debugger PIN: 323-629-461</DIV></pre>"
   ]
  },
  {
   "cell_type": "markdown",
   "id": "35b21544",
   "metadata": {},
   "source": [
    " "
   ]
  },
  {
   "cell_type": "markdown",
   "id": "980daebc",
   "metadata": {},
   "source": [
    "<B>3.34:  Call the application from a browser.</B>"
   ]
  },
  {
   "cell_type": "markdown",
   "id": "54e2689b",
   "metadata": {},
   "source": [
    "Call the application from a browser with the following URL; you should see \"Hello, World!\" displayed in the browser.\n"
   ]
  },
  {
   "cell_type": "markdown",
   "id": "a0bd7710",
   "metadata": {},
   "source": [
    "<pre style=\"margin: 0; padding=0\"><DIV style=\"font-family: Courier; border: 1px solid #dbdbdb; padding: 7px\">http://localhost:5000/hello</DIV></pre>"
   ]
  },
  {
   "cell_type": "markdown",
   "id": "2d38e80b",
   "metadata": {},
   "source": [
    "<U>Expected Output</U>:"
   ]
  },
  {
   "cell_type": "markdown",
   "id": "1ce8506d",
   "metadata": {},
   "source": [
    "<pre style=\"margin: 0; padding=0\"><DIV style=\"font-family: Courier; border: 1px solid #dbdbdb; padding: 7px\">Hello, world!</DIV></pre>"
   ]
  },
  {
   "cell_type": "markdown",
   "id": "d58569de",
   "metadata": {},
   "source": [
    " "
   ]
  },
  {
   "cell_type": "markdown",
   "id": "856d7a04",
   "metadata": {},
   "source": [
    "<B>3.35:  (Exploratory exercise):  view log messages at command line.  </B>"
   ]
  },
  {
   "cell_type": "markdown",
   "id": "e1787ee9",
   "metadata": {},
   "source": [
    "The sample code from the <B>hello world</B> app contains a <B>print()</B> statement.  Look in the Terminal or Command Prompt window to see the print output displayed.\n",
    "\n",
    "Refresh the page several times so you can see that the log message is displayed.\n",
    "<U>Sample program run</U>:"
   ]
  },
  {
   "cell_type": "markdown",
   "id": "b853e8df",
   "metadata": {},
   "source": [
    "<pre style=\"margin: 0; padding=0\"><DIV style=\"font-family: Courier; border: 1px solid #dbdbdb; padding: 7px\">*** DEBUG:  inside hello_world() ***\n",
    "127.0.0.1 - - [24/Mar/2018 13:45:59] \"GET /hello HTTP/1.1\" 200 -\n",
    "*** DEBUG:  inside hello_world() ***\n",
    "127.0.0.1 - - [24/Mar/2018 13:45:59] \"GET /hello HTTP/1.1\" 200 -\n",
    "*** DEBUG:  inside hello_world() ***\n",
    "127.0.0.1 - - [24/Mar/2018 13:46:00] \"GET /hello HTTP/1.1\" 200 -</DIV></pre>"
   ]
  },
  {
   "cell_type": "markdown",
   "id": "ad5ed713",
   "metadata": {},
   "source": [
    " "
   ]
  },
  {
   "cell_type": "markdown",
   "id": "8ce098f5",
   "metadata": {},
   "source": [
    "<B>3.36:  Add another <B>@app.route()</B> function. </B>"
   ]
  },
  {
   "cell_type": "markdown",
   "id": "32d7229c",
   "metadata": {},
   "source": [
    "Add another <B>@app.route()</B> function that says \"Goodbye, now!  Come on back, y'hear?\".  This function should be called when the user adds <B>/goodbye</B> to the URL.\n",
    "\n",
    "Call the new URL:"
   ]
  },
  {
   "cell_type": "markdown",
   "id": "d4bb34f8",
   "metadata": {},
   "source": [
    "<pre style=\"margin: 0; padding=0\"><DIV style=\"font-family: Courier; border: 1px solid #dbdbdb; padding: 7px\">http://localhost:5000/goodbye</DIV></pre>"
   ]
  },
  {
   "cell_type": "markdown",
   "id": "b2bdd3b7",
   "metadata": {},
   "source": [
    "<U>Expected Output</U>:"
   ]
  },
  {
   "cell_type": "markdown",
   "id": "282801f2",
   "metadata": {},
   "source": [
    "<pre style=\"margin: 0; padding=0\"><DIV style=\"font-family: Courier; border: 1px solid #dbdbdb; padding: 7px\">Goodbye, now!  Come on back, y'hear?</DIV></pre>"
   ]
  },
  {
   "cell_type": "markdown",
   "id": "eec2ff0d",
   "metadata": {},
   "source": [
    " "
   ]
  },
  {
   "cell_type": "markdown",
   "id": "03391ce1",
   "metadata": {},
   "source": [
    "<B>3.37:  Add templates for <B>/hello</B> and <B>/goodbye</B> so that when the user visits, it returns a template rather than a string.  </B>"
   ]
  },
  {
   "cell_type": "markdown",
   "id": "135f5827",
   "metadata": {},
   "source": [
    "The templates must be placed within a folder called <B>template/</B> that is in the same directory as the script.\n",
    "\n",
    "Here is the template to add for hello (<B>hello.html</B>, included in this session's files):"
   ]
  },
  {
   "cell_type": "markdown",
   "id": "d1e507ed",
   "metadata": {},
   "source": [
    "<pre style=\"margin: 0; padding=0\"><DIV style=\"font-family: Courier; border: 1px solid #dbdbdb; padding: 7px\">&lt;html&gt;\n",
    "  &lt;head&gt;&lt;title&gt;A Greeting&lt;/title&gt;&lt;/head&gt;\n",
    "  &lt;body&gt;\n",
    "      &lt;h1&gt;Hello, Template!&lt;/h1&gt;\n",
    "  &lt;/body&gt;\n",
    "&lt;/html&gt;</DIV></pre>"
   ]
  },
  {
   "cell_type": "markdown",
   "id": "c4b05b4c",
   "metadata": {},
   "source": [
    "<U>Expected Output</U>:"
   ]
  },
  {
   "cell_type": "markdown",
   "id": "9f065b2b",
   "metadata": {},
   "source": [
    "<pre style=\"margin: 0; padding=0\"><DIV style=\"font-family: Courier; border: 1px solid #dbdbdb; padding: 7px\">Hello, Template!</DIV></pre>"
   ]
  },
  {
   "cell_type": "markdown",
   "id": "a7ab1659",
   "metadata": {},
   "source": [
    "Here is the template to add for goodbye (<B>goodbye.html</B>, included in this session's files):"
   ]
  },
  {
   "cell_type": "markdown",
   "id": "e36cf7c7",
   "metadata": {},
   "source": [
    "<pre style=\"margin: 0; padding=0\"><DIV style=\"font-family: Courier; border: 1px solid #dbdbdb; padding: 7px\">&lt;html&gt;\n",
    "  &lt;head&gt;&lt;title&gt;A Farewell&lt;/title&gt;&lt;/head&gt;\n",
    "  &lt;body&gt;\n",
    "      &lt;h1&gt;Goodbye, now!  Come on back, y'hear?!&lt;/h1&gt;\n",
    "  &lt;/body&gt;\n",
    "&lt;/html&gt;</DIV></pre>"
   ]
  },
  {
   "cell_type": "markdown",
   "id": "5c6dfba1",
   "metadata": {},
   "source": [
    "<U>Expected Output</U>:"
   ]
  },
  {
   "cell_type": "markdown",
   "id": "d44fbc3a",
   "metadata": {},
   "source": [
    "<pre style=\"margin: 0; padding=0\"><DIV style=\"font-family: Courier; border: 1px solid #dbdbdb; padding: 7px\">Goodbye, now!  Come on back, y'hear?!</DIV></pre>"
   ]
  },
  {
   "cell_type": "markdown",
   "id": "5907d211",
   "metadata": {},
   "source": [
    " "
   ]
  },
  {
   "cell_type": "markdown",
   "id": "8f0e8cb5",
   "metadata": {},
   "source": [
    "<B>3.38:  Add a \"static\" HTML page with a link that calls the <B>hello/</B> function, and another link that calls the <B>goodbye/</B> function.  </B>"
   ]
  },
  {
   "cell_type": "markdown",
   "id": "55ebad6d",
   "metadata": {},
   "source": [
    "This page has been added as <B>launch.html</B>, also in the <B>templates/</B> directory.\n"
   ]
  },
  {
   "cell_type": "markdown",
   "id": "ca0e6143",
   "metadata": {},
   "source": [
    "<pre style=\"margin: 0; padding=0\"><DIV style=\"font-family: Courier; border: 1px solid #dbdbdb; padding: 7px\">&lt;html&gt;\n",
    "  &lt;head&gt;&lt;title&gt;Launch&lt;/title&gt;&lt;/head&gt;\n",
    "  &lt;body&gt;\n",
    "    &lt;h1&gt;Launch!&lt;/h1&gt;\n",
    "    &lt;A HREF=\"http://localhost:5000/hello\"&gt;say hello&lt;/A&gt;&lt;br&gt;&lt;br&gt;\n",
    "    &lt;A HREF=\"http://localhost:5000/goodbye\"&gt;say goodbye&lt;/A&gt;\n",
    "  &lt;/body&gt;\n",
    "&lt;/html&gt;</DIV></pre>"
   ]
  },
  {
   "cell_type": "markdown",
   "id": "f7be0fb6",
   "metadata": {},
   "source": [
    "As you can see, each link points to another place in the app.\n",
    "\n",
    "After saving this page as <B>launch.html</B>, use your browser's <B>File > Open File...</B> to navigate to the page and display it.  You'll see the two links displayed.\n",
    "\n",
    "<U>Expected output</U>:\n",
    "Click on each one to see that the page calls the Flask app and displays the proper template."
   ]
  },
  {
   "cell_type": "markdown",
   "id": "d9184292",
   "metadata": {},
   "source": [
    " "
   ]
  },
  {
   "cell_type": "markdown",
   "id": "5fe216f4",
   "metadata": {},
   "source": [
    "<B>3.39:  Add a link on the <B>hello/</B> page that calls the <B>goodbye/</B> page, and one on the <B>goodbye/</B> page that calls the <B>hello/</B> page.</B>"
   ]
  },
  {
   "cell_type": "markdown",
   "id": "c82c81ad",
   "metadata": {},
   "source": [
    "However, don't use the <B>&lt;A HREF=</B> URL as was done in the launch page.  Instead, use the <B>flask.url\\_for()</B> function and allow Flask to build the URL for you:"
   ]
  },
  {
   "cell_type": "markdown",
   "id": "d921d954",
   "metadata": {},
   "source": [
    "<pre style=\"margin: 0; padding=0\"><DIV style=\"font-family: Courier; border: 1px solid #dbdbdb; padding: 7px\">&lt;A HREF=\"{{ url_for('hello_world') }}\"&gt;say goodbye&lt;/A&gt;</DIV></pre>"
   ]
  },
  {
   "cell_type": "markdown",
   "id": "3d732bcd",
   "metadata": {},
   "source": [
    "Also make special note that the argument to <B>url\\_for()</B> is <I>the name of the function</I>, not the <B>@app.route()</B> URL string.\n",
    "\n",
    "<U>Expected output</U>:\n",
    "You should be able to click back and forth between one page and another by clicking the link on each page."
   ]
  },
  {
   "cell_type": "markdown",
   "id": "13a1c126",
   "metadata": {},
   "source": [
    " "
   ]
  },
  {
   "cell_type": "markdown",
   "id": "034b151b",
   "metadata": {},
   "source": [
    "<B>3.40:  Add the following form to the <B>hello.html</B> template, which features a <B>&lt;select&gt;</B> dropdown and and an <B>&lt;input&gt;</B> field.  Call the app through the form by submitting the form.  </B>"
   ]
  },
  {
   "cell_type": "markdown",
   "id": "5945adaf",
   "metadata": {},
   "source": [
    "<pre style=\"margin: 0; padding=0\"><DIV style=\"font-family: Courier; border: 1px solid #dbdbdb; padding: 7px\">    &lt;form action=\"<B>http://localhost:5000/goodbye</B>\"&gt;\n",
    "\n",
    "    Please enter a caption:  &lt;input type=\"text\" name=\"caption\"&gt;\n",
    "    &lt;br&gt;\n",
    "\n",
    "    Please select a mood:\n",
    "    &lt;select name=\"mood\"&gt;\n",
    "        &lt;option&gt;happy&lt;/option&gt;\n",
    "        &lt;option&gt;sad&lt;/option&gt;\n",
    "    &lt;/select&gt;\n",
    "    &lt;br&gt;\n",
    "\n",
    "        &lt;input type=\"submit\"&gt;\n",
    "    &lt;/form&gt;</DIV></pre>"
   ]
  },
  {
   "cell_type": "markdown",
   "id": "b30cdf04",
   "metadata": {},
   "source": [
    " "
   ]
  },
  {
   "cell_type": "markdown",
   "id": "d1fb8896",
   "metadata": {},
   "source": [
    "<B>3.41:  Read the <B>caption</B> and <B>mood</B> field values and include them in the <B>goodbye.html</B> template.  </B>"
   ]
  },
  {
   "cell_type": "markdown",
   "id": "f9535fdb",
   "metadata": {},
   "source": [
    "The form sends field values for \"caption\" and \"mood\" to the app when it calls the <B>goodbye/</B> URL; retrieve these values using <B>flask.request.args.get('caption')</B> and <B>flask.request.args.get('mood')</B>.\n",
    "\n",
    "Use the <B>{{ [token name] }}</B> token (where <B>[token\\_name]</B> is the token name) to insert a value into the template.  Add parameter arguments (for example <B>caption=[caption variable]</B>, where <B>[caption variable]</B> is whatever variable you used to retrieve the value from the form) to <B>render\\_template()</B> to insert the value.\n",
    "\n",
    "<U>Expected Output</U>:"
   ]
  },
  {
   "cell_type": "markdown",
   "id": "ce000f24",
   "metadata": {},
   "source": [
    "<pre style=\"margin: 0; padding=0\"><DIV style=\"font-family: Courier; border: 1px solid #dbdbdb; padding: 7px\">Goodbye, now! Come on back, y'hear?!\n",
    "\n",
    "caption: Hi there (or whatever you typed into form)\n",
    "mood: happy (or whichever mood you chose)\n",
    "say hello</DIV></pre>"
   ]
  },
  {
   "cell_type": "markdown",
   "id": "8a3b661b",
   "metadata": {},
   "source": [
    "Note that <B>Hi there</B> and <B>happy</B> are values that I entered into the form when I submitted it."
   ]
  },
  {
   "cell_type": "markdown",
   "id": "608df0b0",
   "metadata": {},
   "source": [
    " "
   ]
  },
  {
   "cell_type": "markdown",
   "id": "50eaf892",
   "metadata": {},
   "source": [
    "<B>3.42:  Add an image to the <B>goodbye</B> page.  </B>"
   ]
  },
  {
   "cell_type": "markdown",
   "id": "5865df37",
   "metadata": {},
   "source": [
    "Add the <B>happup.jpg</B> image to the <B>goodbye.html</B> template.\n",
    "\n",
    "In order to reference images in an HTML page served by flask, we must put the images in <B>static/images</B> and reference them using <B>&lt;IMG SRC=\"{{ url\\_for('static', filename='images/[name of image file]') }}\"&gt;</B>.\n",
    "\n",
    "<U>Expected Output</U>:\n",
    "You should see the <B>happup.jpg</B> image along with the form input values"
   ]
  },
  {
   "cell_type": "markdown",
   "id": "65aaac7d",
   "metadata": {},
   "source": [
    " "
   ]
  },
  {
   "cell_type": "markdown",
   "id": "dd4f579b",
   "metadata": {},
   "source": [
    "<B>3.43:  Choose an image based on the user's dropdown choice.  </B>"
   ]
  },
  {
   "cell_type": "markdown",
   "id": "2b69e55c",
   "metadata": {},
   "source": [
    "Now add the <B>sadpup.jpg</B> image to the <B>static/images/</B> directory and modify the script so that it sends either image name to the template based on the user's \"mood\" choice.\n",
    "\n",
    "Use the <B>{% if [varname] == [value] %}  {% else %}  {% endif %}</B> construct to have the template show either the <B>happup.jpg</B> or <B>sadpup.jpg</B> image.\n",
    "\n",
    "Also, place the <B>caption</B> string beneath the image.\n",
    "\n",
    "<U>Expected Output</U>:\n",
    "You should see the <B>happup.jpg</B> or <B>sadpup.jpg</B> image displayed along with a caption beneath."
   ]
  },
  {
   "cell_type": "markdown",
   "id": "98c569d5",
   "metadata": {},
   "source": [
    " "
   ]
  }
 ],
 "metadata": {},
 "nbformat": 4,
 "nbformat_minor": 5
}
