{
 "cells": [
  {
   "cell_type": "markdown",
   "id": "edccf7ef",
   "metadata": {},
   "source": [
    "# In-Class Exercises, Session 1"
   ]
  },
  {
   "cell_type": "markdown",
   "id": "c70353fd",
   "metadata": {},
   "source": [
    "COMMAND LINE"
   ]
  },
  {
   "cell_type": "markdown",
   "id": "2cf2870e",
   "metadata": {},
   "source": [
    "<B>1.1:  Open a Anaconda Prompt (Windows) or a Terminal window (Mac).  (To reach the Anaconda prompt, do a search for <B>Anaconda</B> and click <B>Anaconda Prompt</B>.)</B>"
   ]
  },
  {
   "cell_type": "markdown",
   "id": "e49252e8",
   "metadata": {},
   "source": [
    "<UL>\n",
    "  <LI> (Unix only) Use <B>pwd</B> to see the \"present working directory\"</LI>\n",
    "  <LI> Use <B>ls</B> (Mac) or <B>dir</B> (Windows) to see a listing of the files and directories in this directory</LI>\n",
    "  <LI> Use <B>cd</B> to move into a directory you see listed in the present working directory (for example <B>cd Downloads</B>)</LI>\n",
    "  <LI> Use <B>cd ..</B> to move into the \"parent\" directory of the one you are in (this will take you back to the parent of <B>Downlaods</B></LI>\n",
    "  <LI> Use <B>cd /Users/[yourhomedir]/Desktop</B> to move into the <B>Desktop</B> directory</LI>\n",
    "  <LI> Use <B>cd ../Downloads</B> to move from the <B>Desktop</B> directory to the <B>Downloads</B> directory</LI>\n",
    "  <LI> Use <B>cd</B> (Mac) or <B>cd %HOMEPATH%</B> (Windows) to move back into the home directory</LI>\n",
    "</UL>"
   ]
  },
  {
   "cell_type": "markdown",
   "id": "1db6e0de",
   "metadata": {},
   "source": [
    " "
   ]
  },
  {
   "cell_type": "markdown",
   "id": "01dd784a",
   "metadata": {},
   "source": [
    "ARGPARSE MODULE"
   ]
  },
  {
   "cell_type": "markdown",
   "id": "134f352a",
   "metadata": {},
   "source": [
    "<B>1.2:  <U>Use <B>argparse</B> to accept a required argument from the command line</U>.  </B>"
   ]
  },
  {
   "cell_type": "markdown",
   "id": "963c3681",
   "metadata": {},
   "source": [
    "Starting with the below code, use <B>parser.add\\_argument()</B> to add argument 'name'.  The argument should expect either <B>-n</B> or <B>--name</B> as identifier at the command line.  Include a <B>required=True</B> argument to make the argument required.\n",
    "\n",
    "Call <B>.parse\\_args()</B> on the <B>parser</B> object.  The program should then print the value of the 'name' argument.\n",
    "\n",
    "Test the program by running it from a Terminal or Command Prompt.\n",
    "\n",
    "Then, test it a second time by omitting the argument, and note that the <B>required=True</B> causes the program to output an error message.\n"
   ]
  },
  {
   "cell_type": "code",
   "execution_count": null,
   "id": "2560d87b",
   "metadata": {},
   "outputs": [],
   "source": [
    "import argparse\n",
    "import os\n",
    "import sys\n",
    "\n",
    "parser = argparse.ArgumentParser(\n",
    "                    prog=os.path.basename(sys.argv[0]))\n"
   ]
  },
  {
   "cell_type": "markdown",
   "id": "d9d20e23",
   "metadata": {},
   "source": [
    "Sample Run (note that the '%' represents your command prompt - yours will look different)."
   ]
  },
  {
   "cell_type": "markdown",
   "id": "f5a65c5d",
   "metadata": {},
   "source": [
    "<pre style=\"margin: 0; padding=0\"><DIV style=\"font-family: Courier; border: 1px solid #dbdbdb; padding: 7px\">% python inclass_ex.py --name David\n",
    "David\n",
    "%  python inclass_ex.py\n",
    "usage: inclass_ex.py [-h] -n NAME\n",
    "inclass_ex.py: error: the following arguments are required: -n/--name</DIV></pre>"
   ]
  },
  {
   "cell_type": "markdown",
   "id": "cf0d7b56",
   "metadata": {},
   "source": [
    " "
   ]
  },
  {
   "cell_type": "markdown",
   "id": "e5e7bab6",
   "metadata": {},
   "source": [
    "<B>1.3:  <U>View the help message</U>.  Starting with the above solution, add a <B>description=</B> argument to <B>ArgumentParser</B>; the value should be a string explaining what the program does.</B>"
   ]
  },
  {
   "cell_type": "markdown",
   "id": "6dd80912",
   "metadata": {},
   "source": [
    "Call the same program with the <B>--help</B> or <B>-h</B> flag.  Note the automated output explaining how the program works.\n"
   ]
  },
  {
   "cell_type": "code",
   "execution_count": null,
   "id": "776d10d7",
   "metadata": {},
   "outputs": [],
   "source": [
    "import argparse\n",
    "import os\n",
    "import sys\n",
    "\n",
    "parser = argparse.ArgumentParser(\n",
    "                    prog=os.path.basename(sys.argv[0]))\n",
    "\n",
    "\n",
    "parser.add_argument('-n', '--name', required=True)\n",
    "\n",
    "args = parser.parse_args()\n",
    "\n",
    "print(args.name)"
   ]
  },
  {
   "cell_type": "markdown",
   "id": "691c4b26",
   "metadata": {},
   "source": [
    "<U>Sample program run</U>:  "
   ]
  },
  {
   "cell_type": "markdown",
   "id": "1bd9db77",
   "metadata": {},
   "source": [
    "<pre style=\"margin: 0; padding=0\"><DIV style=\"font-family: Courier; border: 1px solid #dbdbdb; padding: 7px\">% python inclass_ex.py --help\n",
    "usage: inclass_ex.py [-h] -n NAME\n",
    "\n",
    "prints your name!\n",
    "\n",
    "options:\n",
    "  -h, --help            show this help message and exit\n",
    "  -n NAME, --name NAME</DIV></pre>"
   ]
  },
  {
   "cell_type": "markdown",
   "id": "205dacc3",
   "metadata": {},
   "source": [
    " "
   ]
  },
  {
   "cell_type": "markdown",
   "id": "b9e141c2",
   "metadata": {},
   "source": [
    "<B>1.4:  <U>Add an argument restricted to specific choices</U>.  </B>"
   ]
  },
  {
   "cell_type": "markdown",
   "id": "a0056f68",
   "metadata": {},
   "source": [
    "Continue the same program; add an argument 'color' with the <B>choices=</B> argument.  Restrict the choices to blue, green or red.\n",
    "\n",
    "Print the value of the color argument.\n",
    "\n",
    "Call the program with a <B>--color</B> argument and one of the valid colors; then call the program with <B>--color</B> and an invalid choice; note that it is rejected.\n"
   ]
  },
  {
   "cell_type": "code",
   "execution_count": null,
   "id": "be90c4cb",
   "metadata": {},
   "outputs": [],
   "source": [
    "import argparse\n",
    "import os\n",
    "import sys\n",
    "\n",
    "parser = argparse.ArgumentParser(\n",
    "                    prog=os.path.basename(sys.argv[0]),\n",
    "                    description='prints your name!')\n",
    "\n",
    "\n",
    "parser.add_argument('-n', '--name', required=True)\n",
    "\n",
    "args = parser.parse_args()\n",
    "\n",
    "print(args.name)"
   ]
  },
  {
   "cell_type": "markdown",
   "id": "90537e90",
   "metadata": {},
   "source": [
    "<U>Sample program run</U>:  "
   ]
  },
  {
   "cell_type": "markdown",
   "id": "f9a178f4",
   "metadata": {},
   "source": [
    "<pre style=\"margin: 0; padding=0\"><DIV style=\"font-family: Courier; border: 1px solid #dbdbdb; padding: 7px\">% python inclass_ex.py --name David --color red\n",
    "David\n",
    "red\n",
    "% python inclass_ex.py --name David --color purple\n",
    "usage: inclass_ex.py [-h] -n NAME [-c {red,blue,green}]\n",
    "inclass_ex.py: error: argument -c/--color: invalid choice: 'purple' (choose from 'red', 'blue', 'green')\n",
    "%</DIV></pre>"
   ]
  },
  {
   "cell_type": "markdown",
   "id": "7756981d",
   "metadata": {},
   "source": [
    " "
   ]
  },
  {
   "cell_type": "markdown",
   "id": "fe8619af",
   "metadata": {},
   "source": [
    "<B>1.5:  <U>Add an argument allowing multiple values</U>.  </B>"
   ]
  },
  {
   "cell_type": "markdown",
   "id": "008e2e56",
   "metadata": {},
   "source": [
    "Continue the same program; add argument <B>--cities</B> and add the <B>nargs='+'</B> argument to allow multiple values.\n",
    "\n",
    "Call the program with the <B>--cities</B> argument and a couple of city values.\n"
   ]
  },
  {
   "cell_type": "code",
   "execution_count": null,
   "id": "8d878dcd",
   "metadata": {},
   "outputs": [],
   "source": [
    "import argparse\n",
    "import os\n",
    "import sys\n",
    "\n",
    "parser = argparse.ArgumentParser(\n",
    "                    prog=os.path.basename(sys.argv[0]),\n",
    "                    description='prints your name!')\n",
    "\n",
    "\n",
    "parser.add_argument('-n', '--name', required=True)\n",
    "parser.add_argument('-c', '--color', choices=['red', 'blue', 'green'])\n",
    "\n",
    "args = parser.parse_args()\n",
    "\n",
    "print(args.name)\n",
    "print(args.color)"
   ]
  },
  {
   "cell_type": "markdown",
   "id": "b2896f44",
   "metadata": {},
   "source": [
    "<U>Sample program run</U>:  "
   ]
  },
  {
   "cell_type": "markdown",
   "id": "0c9513cc",
   "metadata": {},
   "source": [
    "<pre style=\"margin: 0; padding=0\"><DIV style=\"font-family: Courier; border: 1px solid #dbdbdb; padding: 7px\">% python inclass_ex.py --name David --color red --cities Chicago 'New York'\n",
    "David\n",
    "red\n",
    "['Chicago', 'New York']\n",
    "%</DIV></pre>"
   ]
  },
  {
   "cell_type": "markdown",
   "id": "75add2a0",
   "metadata": {},
   "source": [
    " "
   ]
  },
  {
   "cell_type": "markdown",
   "id": "f96bc115",
   "metadata": {},
   "source": [
    "CSV MODULE"
   ]
  },
  {
   "cell_type": "markdown",
   "id": "2705f1d9",
   "metadata": {},
   "source": [
    "<B>1.6:  <U>Use <B>csv.reader</B> to read a file</U>.  Take the following steps, testing as you go:</B>"
   ]
  },
  {
   "cell_type": "markdown",
   "id": "143f523c",
   "metadata": {},
   "source": [
    "<OL>\n",
    "  <LI>Open a file and pass the file object to <B>csv.reader()</B></LI>\n",
    "  <LI>Loop through the <B>reader</B> object line by line, printing each line.  Note the type of the object representing each row.</LI>\n",
    "  <LI>Subscript the float value from each list and convert to float.</LI>\n",
    "  <LI>Initialize a float variable <B>0.0</B> at the top and add each float value to it inside the loop, producing a sum.\n",
    "</OL>"
   ]
  },
  {
   "cell_type": "code",
   "execution_count": null,
   "id": "f2c4b6d1",
   "metadata": {},
   "outputs": [],
   "source": [
    "import csv\n",
    "\n",
    "fh = open('../revenue.csv')\n"
   ]
  },
  {
   "cell_type": "markdown",
   "id": "8fb89850",
   "metadata": {},
   "source": [
    " "
   ]
  },
  {
   "cell_type": "markdown",
   "id": "3970c123",
   "metadata": {},
   "source": [
    "<B>1.7:  <U>Use <B>csv.reader</B> to read the header of a file</U>.  Using the code solution from the previous exercise, before the <B>for</B> block, use a call to <B>next(reader)</B> to retrieve and print the header of the file, noting that the loop then begins on the next line of the file.  </B>"
   ]
  },
  {
   "cell_type": "code",
   "execution_count": null,
   "id": "ab976fb9",
   "metadata": {},
   "outputs": [],
   "source": [
    "import csv\n",
    "\n",
    "fh = open('../revenue.csv')        # 'file' object\n",
    "\n",
    "reader = csv.reader(fh)            # csv.reader object\n",
    "\n",
    "fsum = 0.0                         # float, 0.0\n",
    "\n",
    "for row in reader:                 # list, [\"Haddad's\", 'PA', '239.5']\n",
    "    fval = floatrow[-1])           # float, 239.5\n",
    "    fsum = fsum + fval             # float, 239.5\n",
    "\n",
    "print(fsum)"
   ]
  },
  {
   "cell_type": "markdown",
   "id": "1801a275",
   "metadata": {},
   "source": [
    " "
   ]
  },
  {
   "cell_type": "markdown",
   "id": "3dab921b",
   "metadata": {},
   "source": [
    "<B>1.8:  <U>Write individual rows to a CSV file using <B>csv.writer</B></U>.  Take the following steps, testing as you go:</B>"
   ]
  },
  {
   "cell_type": "markdown",
   "id": "81c72fde",
   "metadata": {},
   "source": [
    "<OL>\n",
    "  <LI>Open a file for writing and pass the filehandle to <B>csv.writer()</B> (when opening the file for writing, include the <B>newline=''</B> argument to <B>open()</B> so newlines will be written properly).</LI>\n",
    "  <LI>Use <B>.writerow()</B> on the writer object to write each list to the file, starting with the <B>header</B> list.</LI>\n",
    "  <LI>Close the file, then open and view <B>newfile.csv</B> in the session directory.</LI>\n",
    "</OL>"
   ]
  },
  {
   "cell_type": "code",
   "execution_count": null,
   "id": "7cdbf4ab",
   "metadata": {},
   "outputs": [],
   "source": [
    "import csv\n",
    "\n",
    "header = ['name', 'address', 'state', 'zip']\n",
    "\n",
    "row1 = ['Joe', '123 Main', 'CA', '91603']\n",
    "row2 = ['Marie', '234 Camarino', 'NJ', '92325']\n",
    "\n",
    "fname = '../newfile.csv'     # a new file, or replacing old if exists\n",
    "\n",
    "wfh = open(fname, 'w', newline='')\n"
   ]
  },
  {
   "cell_type": "markdown",
   "id": "a630a8f7",
   "metadata": {},
   "source": [
    " "
   ]
  },
  {
   "cell_type": "markdown",
   "id": "dbe5bd8e",
   "metadata": {},
   "source": [
    "<B>1.9:  <U>Write multiple rows to a CSV file using <B>csv.writer</B></U>.  Follow the same steps as above, but use <B>.writerows()</B> to write the entire list of lists to the file.  Close the file, then look for <B>newfile2.csv</B> in the session directory.  </B>"
   ]
  },
  {
   "cell_type": "code",
   "execution_count": null,
   "id": "fa837c63",
   "metadata": {},
   "outputs": [],
   "source": [
    "rows = [\n",
    "         [ 'date', 'temp', 'wind' ],\n",
    "         [ '2020-06-13', '78.3', '6' ],\n",
    "         [ '2020-06-14', '77.0', '8' ],\n",
    "       ]\n",
    "\n",
    "fname = '../newfile2.csv'\n",
    "\n",
    "wfh = open(fname, 'w', newline='')\n",
    "\n",
    "writer = csv.writer(wfh)\n",
    "\n"
   ]
  },
  {
   "cell_type": "markdown",
   "id": "5137ea12",
   "metadata": {},
   "source": [
    " "
   ]
  },
  {
   "cell_type": "markdown",
   "id": "a2f40b11",
   "metadata": {},
   "source": [
    "<B>1.10:  <U>Use <B>csv.writer</B> to selectively write rows to a CSV</U>.  Loop through the list of lists and write only the <B>US</B> rows to the file.  Also write the header as the first row.  Close the file, then look for <B>newfile3.csv</B> in the session directory.  </B>"
   ]
  },
  {
   "cell_type": "code",
   "execution_count": null,
   "id": "ef9c743a",
   "metadata": {},
   "outputs": [],
   "source": [
    "rows = [\n",
    "         [ 'company', 'state/province', 'country' ],\n",
    "         [ 'Acme', 'Caliornia', 'US' ],\n",
    "         [ 'Bento', 'Toledo', 'SP' ],\n",
    "         [ 'OuiOui', 'Bourges', 'FR' ],\n",
    "         [ 'Beta', 'New York', 'US' ]\n",
    "       ]\n",
    "\n",
    "fname = '../newfile3.csv'\n",
    "\n",
    "wfh = open(fname, 'w', newline='')\n",
    "writer = csv.writer(wfh)\n",
    "\n"
   ]
  },
  {
   "cell_type": "markdown",
   "id": "a50022df",
   "metadata": {},
   "source": [
    " "
   ]
  },
  {
   "cell_type": "markdown",
   "id": "640b60d7",
   "metadata": {},
   "source": [
    "<B>1.11:  <U>Use <B>csv.writer</B> to selectively write columns to a CSV</U>.  Loop through the list of lists and write only the <B>company</B> and <B>country</B> columns to the file.  Include the header.  Close the file, then look for <B>newfile4.csv</B> in the session directory.  </B>"
   ]
  },
  {
   "cell_type": "code",
   "execution_count": null,
   "id": "b2a8adba",
   "metadata": {},
   "outputs": [],
   "source": [
    "rows = [\n",
    "         [ 'company', 'state/province', 'country' ],\n",
    "         [ 'Acme', 'Caliornia', 'US' ],\n",
    "         [ 'Bento', 'Toledo', 'SP' ],\n",
    "         [ 'OuiOui', 'Bourges', 'FR' ],\n",
    "         [ 'Beta', 'New York', 'US' ]\n",
    "       ]\n",
    "\n",
    "fname = '../newfile4.csv'\n",
    "\n",
    "wfh = open(fname, 'w', newline='')\n",
    "writer = csv.writer(wfh)\n"
   ]
  },
  {
   "cell_type": "markdown",
   "id": "3401a80f",
   "metadata": {},
   "source": [
    " "
   ]
  },
  {
   "cell_type": "markdown",
   "id": "c3dec2ac",
   "metadata": {},
   "source": [
    "<B>1.12:  <U>Use <B>csv.DictReader</B> to read a file line-by-line, each line a dict</U>.  </B>"
   ]
  },
  {
   "cell_type": "markdown",
   "id": "71ea8beb",
   "metadata": {},
   "source": [
    "As you loop through the <B>DictReader</B> object, print each row dict.\n"
   ]
  },
  {
   "cell_type": "code",
   "execution_count": null,
   "id": "5d3b6a2d",
   "metadata": {},
   "outputs": [],
   "source": [
    "import csv\n",
    "\n",
    "fname = '../revenue.csv'\n",
    "\n",
    "fh = open(fname)\n"
   ]
  },
  {
   "cell_type": "markdown",
   "id": "422030f1",
   "metadata": {},
   "source": [
    "<U>Expected Output</U>:  "
   ]
  },
  {
   "cell_type": "markdown",
   "id": "32fe0cde",
   "metadata": {},
   "source": [
    "<pre style=\"margin: 0; padding=0\"><DIV style=\"font-family: Courier; border: 1px solid #dbdbdb; padding: 7px\">{'company': \"Haddad's, Inc.\", 'state': 'PA', 'price': '239.5'}\n",
    "{'company': 'Westfield', 'state': 'NJ', 'price': '53.9'}\n",
    "{'company': 'The Store', 'state': 'NJ', 'price': '211.5'}\n",
    "{'company': \"Hipster's\", 'state': 'NY', 'price': '11.98'}\n",
    "{'company': 'Dothraki Fashions', 'state': 'NY', 'price': '5.98'}\n",
    "{'company': \"Awful's\", 'state': 'PA', 'price': '23.95'}\n",
    "{'company': 'The Clothiers', 'state': 'NY', 'price': '115.2'}</DIV></pre>"
   ]
  },
  {
   "cell_type": "markdown",
   "id": "0f4289c8",
   "metadata": {},
   "source": [
    " "
   ]
  },
  {
   "cell_type": "markdown",
   "id": "e7659e9c",
   "metadata": {},
   "source": [
    "<B>1.13:  <U>Use <B>csv.DictReader</B> to read the header line of a file</U>.  </B>"
   ]
  },
  {
   "cell_type": "markdown",
   "id": "d01eecdf",
   "metadata": {},
   "source": [
    "Continue the previous solution -- read and print the file's headers using the <B>.fieldnames</B> attribute.\n"
   ]
  },
  {
   "cell_type": "code",
   "execution_count": null,
   "id": "8fc610a7",
   "metadata": {},
   "outputs": [],
   "source": [
    "import csv\n",
    "\n",
    "fname = '../revenue.csv'\n",
    "\n",
    "fh = open(fname)\n",
    "\n",
    "dreader = csv.DictReader(fh)\n",
    "\n"
   ]
  },
  {
   "cell_type": "markdown",
   "id": "5bf9687d",
   "metadata": {},
   "source": [
    "<U>Expected Output</U>:  "
   ]
  },
  {
   "cell_type": "markdown",
   "id": "a3bbd370",
   "metadata": {},
   "source": [
    "<pre style=\"margin: 0; padding=0\"><DIV style=\"font-family: Courier; border: 1px solid #dbdbdb; padding: 7px\">['company', 'state', 'price']</DIV></pre>"
   ]
  },
  {
   "cell_type": "markdown",
   "id": "2bc5b583",
   "metadata": {},
   "source": [
    " "
   ]
  },
  {
   "cell_type": "markdown",
   "id": "7162f7f1",
   "metadata": {},
   "source": [
    "<B>1.14:  <U>Use <B>csv.DictWriter</B> to write a header to a file</U>.  </B>"
   ]
  },
  {
   "cell_type": "markdown",
   "id": "d906d4c7",
   "metadata": {},
   "source": [
    "Starting with the following filename and headers list, open the file for writing, then instantiate a <B>csv.DictWriter</B> object with the file object and headers; use the <B>.writeheader()</B> argument to write the header row.\n",
    "\n",
    "Make sure to close the write filehandle with <B>.close()</B> (make sure to include the parentheses!) after all writing is done.\n",
    "\n",
    "Run the program, then check the file to see that it has been created and contains the headers\n"
   ]
  },
  {
   "cell_type": "code",
   "execution_count": null,
   "id": "23080d8b",
   "metadata": {},
   "outputs": [],
   "source": [
    "import csv\n",
    "\n",
    "filename = '../newfile.csv'\n",
    "\n",
    "headers = ['fname', 'lname', 'state']\n"
   ]
  },
  {
   "cell_type": "markdown",
   "id": "3a5b2663",
   "metadata": {},
   "source": [
    "After running, the file <B>newfile.csv</B> in the parent directory should have the following text:"
   ]
  },
  {
   "cell_type": "markdown",
   "id": "d2b85180",
   "metadata": {},
   "source": [
    "<pre style=\"margin: 0; padding=0\"><DIV style=\"font-family: Courier; border: 1px solid #dbdbdb; padding: 7px\">fname,lname,state</DIV></pre>"
   ]
  },
  {
   "cell_type": "markdown",
   "id": "3ff29caa",
   "metadata": {},
   "source": [
    " "
   ]
  },
  {
   "cell_type": "markdown",
   "id": "f0d644d3",
   "metadata": {},
   "source": [
    "<B>1.15:  <U>Use <B>csv.DictWriter</B> to write lines to a file</U>.  </B>"
   ]
  },
  {
   "cell_type": "markdown",
   "id": "438b88ac",
   "metadata": {},
   "source": [
    "Continuing from the previous solution (below, with some data line dictionaries added), use <B>.writerow()</B> to write the dicts to the file.\n"
   ]
  },
  {
   "cell_type": "code",
   "execution_count": null,
   "id": "c9c3e5db",
   "metadata": {},
   "outputs": [],
   "source": [
    "import csv\n",
    "\n",
    "filename = 'newfile.csv'\n",
    "\n",
    "headers = ['fname', 'lname', 'state']\n",
    "\n",
    "data_lines = [\n",
    "               { 'fname': 'Joe', 'lname': 'Wilson', 'state': 'CA' },\n",
    "               { 'fname': 'Mike', 'lname': 'Sanchez', 'state': 'NY' },\n",
    "               { 'fname': 'Marie', 'lname': 'Obubwe', 'state': 'NJ' },\n",
    "             ]\n",
    "\n",
    "wfh = open(filename, 'w')\n",
    "\n",
    "dwriter = csv.DictWriter(wfh, headers)\n",
    "\n",
    "dwriter.writeheader()\n",
    "\n",
    "wfh.close()\n"
   ]
  },
  {
   "cell_type": "markdown",
   "id": "edaad11f",
   "metadata": {},
   "source": [
    "After running, the file <B>newfile.csv</B> in the parent directory should have the following text:"
   ]
  },
  {
   "cell_type": "markdown",
   "id": "861521f0",
   "metadata": {},
   "source": [
    "<pre style=\"margin: 0; padding=0\"><DIV style=\"font-family: Courier; border: 1px solid #dbdbdb; padding: 7px\">fname,lname,state\n",
    "Joe,Wilson,CA\n",
    "Mike,Sanchez,NY\n",
    "Marie,Obubwe,NJ</DIV></pre>"
   ]
  },
  {
   "cell_type": "markdown",
   "id": "644b9f58",
   "metadata": {},
   "source": [
    " "
   ]
  },
  {
   "cell_type": "markdown",
   "id": "4ec91944",
   "metadata": {},
   "source": [
    "<B>1.16:  <U>Create a dictionary by zipping up two lists</U>.  </B>"
   ]
  },
  {
   "cell_type": "markdown",
   "id": "583342cf",
   "metadata": {},
   "source": [
    "Given the following list of headers and data row, use <B>dict(zip())</B> with the two lists to zip the two lists together into a list of 2-item tuples, and convert them to a dict.  Print the dict.\n"
   ]
  },
  {
   "cell_type": "code",
   "execution_count": null,
   "id": "59ffaaf9",
   "metadata": {},
   "outputs": [],
   "source": [
    "headers = ['fname', 'lname', 'state']\n",
    "\n",
    "data = ['Joe', 'Wilson', 'CA']\n"
   ]
  },
  {
   "cell_type": "markdown",
   "id": "48d8a024",
   "metadata": {},
   "source": [
    "<U>Expected Output</U>:  "
   ]
  },
  {
   "cell_type": "markdown",
   "id": "3cae82c1",
   "metadata": {},
   "source": [
    "<pre style=\"margin: 0; padding=0\"><DIV style=\"font-family: Courier; border: 1px solid #dbdbdb; padding: 7px\">{'fname': 'Joe', 'lname': 'Wilson', 'state': 'CA'}</DIV></pre>"
   ]
  },
  {
   "cell_type": "markdown",
   "id": "fd9e7b58",
   "metadata": {},
   "source": [
    " "
   ]
  }
 ],
 "metadata": {},
 "nbformat": 4,
 "nbformat_minor": 5
}
