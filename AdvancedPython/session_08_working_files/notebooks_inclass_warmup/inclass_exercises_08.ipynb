{
 "cells": [
  {
   "cell_type": "markdown",
   "id": "664b8036",
   "metadata": {},
   "source": [
    "# In-Class Exercises, Session 8"
   ]
  },
  {
   "cell_type": "markdown",
   "id": "1bc81b50",
   "metadata": {},
   "source": [
    "<B>Please note</B> that data files are located in the parent directory.  This means that you must prepend <B>../</B> to each filename to find it."
   ]
  },
  {
   "cell_type": "markdown",
   "id": "fde498c3",
   "metadata": {},
   "source": [
    " "
   ]
  },
  {
   "cell_type": "markdown",
   "id": "8235ea1f",
   "metadata": {},
   "source": [
    "IMPORTING PANDAS AND NUMPY"
   ]
  },
  {
   "cell_type": "markdown",
   "id": "3cf5f300",
   "metadata": {},
   "source": [
    "<B>8.1:  Import pandas and numpy.  Check the .\\_\\_version\\_\\_ attribute of the pandas module.  </B>"
   ]
  },
  {
   "cell_type": "code",
   "execution_count": null,
   "id": "772e49d4",
   "metadata": {},
   "outputs": [],
   "source": [
    "import pandas as pd\n",
    "import numpy as np\n",
    "\n",
    "print(pd.__version__)"
   ]
  },
  {
   "cell_type": "markdown",
   "id": "b4fe133d",
   "metadata": {},
   "source": [
    " "
   ]
  },
  {
   "cell_type": "markdown",
   "id": "65432b78",
   "metadata": {},
   "source": [
    "<B>8.2:  Include some useful settings.  </B>"
   ]
  },
  {
   "cell_type": "code",
   "execution_count": null,
   "id": "b5d6edab",
   "metadata": {},
   "outputs": [],
   "source": [
    "import warnings\n",
    "\n",
    "## Enable multiple outputs from jupyter cells\n",
    "from IPython.core.interactiveshell import InteractiveShell\n",
    "InteractiveShell.ast_node_interactivity = \"all\"\n",
    "\n",
    "## disable the Pandas \"setting a copy of a slice\" warning\n",
    "# pd.options.mode.chained_assignment = None\n",
    "\n",
    "## set default number of DataFrame rows printed to 8\n",
    "pd.set_option('display.max_rows', 8)\n",
    "\n",
    "# suppress excel reader warning:  'extension is unsupported'\n",
    "warnings.filterwarnings('ignore', category=UserWarning, module='openpyxl')"
   ]
  },
  {
   "cell_type": "markdown",
   "id": "fe5de91d",
   "metadata": {},
   "source": [
    " "
   ]
  },
  {
   "cell_type": "markdown",
   "id": "3a738c3a",
   "metadata": {},
   "source": [
    "INITIALIZING A DATAFRAME"
   ]
  },
  {
   "cell_type": "markdown",
   "id": "2bcb78ec",
   "metadata": {},
   "source": [
    "<B>8.3:  <U>DataFrame from python struct</U>.  Use this 3x3 list of lists to build a DataFrame using the <B>pd.DataFrame()</B> constructor.  Add a keyword argument <B>columns=[]</B> to the DataFrame to assign column labels, and <B>index=[]</B> to assign row labels.  Refer to the DataFrame to see it.  </B>"
   ]
  },
  {
   "cell_type": "code",
   "execution_count": null,
   "id": "c0484edd",
   "metadata": {},
   "outputs": [],
   "source": [
    "import pandas as pd\n",
    "\n",
    "# Sample data in the form of a list of lists\n",
    "data = [\n",
    "    [1, 2.5, 'apple'],\n",
    "    [2, 3.0, 'banana'],\n",
    "    [3, 4.2, 'orange']\n",
    "]\n",
    "\n",
    "\n",
    "\n"
   ]
  },
  {
   "cell_type": "markdown",
   "id": "d624ce08",
   "metadata": {},
   "source": [
    " "
   ]
  },
  {
   "cell_type": "markdown",
   "id": "7c98f9a8",
   "metadata": {},
   "source": [
    "<B>8.4:  <U>DataFrame from file</U>.  Read <B>../revenue.csv</B> using the <B>pd.read\\_csv()</B> function.  Then read <B>../revenue.xlsx</B> using the <B>pd.read\\_excel()</B> function.  Print each DataFrame.  </B>"
   ]
  },
  {
   "cell_type": "markdown",
   "id": "d738e7d4",
   "metadata": {},
   "source": [
    "(For excel, choose <B>engine='openpyxl'<B> for <B>.xlsx</B> files.)\n"
   ]
  },
  {
   "cell_type": "code",
   "execution_count": null,
   "id": "1ec157bf",
   "metadata": {},
   "outputs": [],
   "source": [
    "import pandas as pd\n",
    "\n",
    "fname = '../revenue.csv'\n",
    "ss_name = '../revenue.xlsx'\n",
    "\n"
   ]
  },
  {
   "cell_type": "markdown",
   "id": "0800b8f7",
   "metadata": {},
   "source": [
    " "
   ]
  },
  {
   "cell_type": "markdown",
   "id": "3dc7fe92",
   "metadata": {},
   "source": [
    "QUICK APPRAISAL OF DATAFRAME"
   ]
  },
  {
   "cell_type": "markdown",
   "id": "d825ad0f",
   "metadata": {},
   "source": [
    "<B>8.5:  <U>Get an overview of the DataFrame</U>:</B>"
   ]
  },
  {
   "cell_type": "markdown",
   "id": "699053be",
   "metadata": {},
   "source": [
    "<UL>\n",
    "  <LI>Print <B>df.shape</B> to see the number of columns and rows</LI>\n",
    "  <LI>Print the DataFrame and look at the stats listed below it</LI>\n",
    "</UL>"
   ]
  },
  {
   "cell_type": "code",
   "execution_count": null,
   "id": "2d5e2b8e",
   "metadata": {},
   "outputs": [],
   "source": [
    "import pandas as pd\n",
    "\n",
    "fname = '../weather_newyork_narrow.csv'\n",
    "\n",
    "df = pd.read_csv(fname)\n",
    "\n",
    "\n",
    "\n",
    "df"
   ]
  },
  {
   "cell_type": "markdown",
   "id": "a4b78956",
   "metadata": {},
   "source": [
    " "
   ]
  },
  {
   "cell_type": "markdown",
   "id": "3894560d",
   "metadata": {},
   "source": [
    "<B>8.6:  <U>See the head and tail of a DataFrame</U>:</B>"
   ]
  },
  {
   "cell_type": "markdown",
   "id": "553f4b86",
   "metadata": {},
   "source": [
    "<UL>\n",
    "  <LI>Use <B>.head()</B> and <B>.tail()</B></LI>\n",
    "  <LI>Use <B>.columns</B> and <B>.index</B></LI>\n",
    "</UL>"
   ]
  },
  {
   "cell_type": "code",
   "execution_count": null,
   "id": "85944553",
   "metadata": {},
   "outputs": [],
   "source": [
    "import pandas as pd\n",
    "\n",
    "fname = '../weather_newyork_narrow.csv'\n",
    "\n",
    "df = pd.read_csv(fname)\n",
    "\n",
    "\n",
    "\n",
    "df"
   ]
  },
  {
   "cell_type": "markdown",
   "id": "c10c0bd7",
   "metadata": {},
   "source": [
    " "
   ]
  },
  {
   "cell_type": "markdown",
   "id": "f261a459",
   "metadata": {},
   "source": [
    "<B>8.7:  <U>Get another overview on a larger DataFrame</U>:</B>"
   ]
  },
  {
   "cell_type": "markdown",
   "id": "db5386b7",
   "metadata": {},
   "source": [
    "<UL>\n",
    "  <LI>Look at <B>.dtypes</B></LI>\n",
    "  <LI>Look at <B>.info()</B></LI>\n",
    "</UL>"
   ]
  },
  {
   "cell_type": "code",
   "execution_count": null,
   "id": "2e6f7551",
   "metadata": {},
   "outputs": [],
   "source": [
    "import pandas as pd\n",
    "\n",
    "fname = '../weather_newyork_narrow.csv'\n",
    "\n",
    "df = pd.read_csv(fname)\n",
    "\n",
    "\n",
    "\n",
    "df"
   ]
  },
  {
   "cell_type": "markdown",
   "id": "935248a4",
   "metadata": {},
   "source": [
    " "
   ]
  },
  {
   "cell_type": "markdown",
   "id": "084c2606",
   "metadata": {},
   "source": [
    "<B>8.8:  <U>View selected rows by index</U>.  Use <B>.iloc[]</B> with a numeric slice to see the 50th through 53rd rows from this large DataFrame.  </B>"
   ]
  },
  {
   "cell_type": "code",
   "execution_count": null,
   "id": "31f81ebf",
   "metadata": {},
   "outputs": [],
   "source": [
    "import pandas as pd\n",
    "\n",
    "fname = '../weather_newyork_narrow.csv'\n",
    "\n",
    "df = pd.read_csv(fname)\n",
    "\n",
    "\n",
    "\n",
    "df"
   ]
  },
  {
   "cell_type": "markdown",
   "id": "a8fa55a6",
   "metadata": {},
   "source": [
    " "
   ]
  },
  {
   "cell_type": "markdown",
   "id": "6e0c0dca",
   "metadata": {},
   "source": [
    "CUSTOMIZING DATA IMPORT"
   ]
  },
  {
   "cell_type": "markdown",
   "id": "c645d021",
   "metadata": {},
   "source": [
    "<B>8.9:  <U>Exclude header and footer; set index</U>.  Add keyword arguments to configure the <B>pd.read\\_csv()</B> function.  </B>"
   ]
  },
  {
   "cell_type": "markdown",
   "id": "717cbd3e",
   "metadata": {},
   "source": [
    "The <B>revenue\\_extended.csv</B> file has 2 header lines (use <B>skiprows=</B>) and 2 footer lines (use <B>skipfooter=</B>).  The column we'd like to use as the index is the <B>'id'</B> column (use <B>index\\_col=</B>).\n",
    "\n",
    "Skipping rows means we must use the 'python' engine -- configure with <B>engine=</B>\n"
   ]
  },
  {
   "cell_type": "code",
   "execution_count": null,
   "id": "967a5a5a",
   "metadata": {},
   "outputs": [],
   "source": [
    "import pandas as pd\n",
    "\n",
    "fname = '../revenue_extended.csv'  # has extra headers, id field\n",
    "\n",
    "df = pd.read_csv(fname)\n",
    "\n",
    "\n",
    "\n"
   ]
  },
  {
   "cell_type": "markdown",
   "id": "15445194",
   "metadata": {},
   "source": [
    " "
   ]
  },
  {
   "cell_type": "markdown",
   "id": "a35abec5",
   "metadata": {},
   "source": [
    "DATAFRAME SERIES"
   ]
  },
  {
   "cell_type": "markdown",
   "id": "599cace1",
   "metadata": {},
   "source": [
    "<B>8.10:  View the 'company' column using subscript syntax (df['company']), and the same column using attribute syntax (df.company).  Print the type of this object.  </B>"
   ]
  },
  {
   "cell_type": "code",
   "execution_count": null,
   "id": "0bfab902",
   "metadata": {},
   "outputs": [],
   "source": [
    "import pandas as pd\n",
    "\n",
    "fname = '../revenue_extended.csv'  # has extra headers, id field\n",
    "\n",
    "df = pd.read_csv(fname, skiprows=2,\n",
    "                        skipfooter=2,\n",
    "                        index_col='id',\n",
    "                        engine='python')\n",
    "\n",
    "\n",
    "\n",
    "df"
   ]
  },
  {
   "cell_type": "markdown",
   "id": "c7c426a2",
   "metadata": {},
   "source": [
    " "
   ]
  },
  {
   "cell_type": "markdown",
   "id": "ccf8f543",
   "metadata": {},
   "source": [
    "<B>8.11:  View Series .name and .index.</B>"
   ]
  },
  {
   "cell_type": "code",
   "execution_count": null,
   "id": "5b36af36",
   "metadata": {},
   "outputs": [],
   "source": [
    "import pandas as pd\n",
    "\n",
    "fname = '../revenue_extended.csv'  # has extra headers, id field\n",
    "\n",
    "df = pd.read_csv(fname, skiprows=2,\n",
    "                        skipfooter=2,\n",
    "                        index_col='id',\n",
    "                        engine='python')\n",
    "\n",
    "s = df.company\n",
    "\n",
    "\n",
    "\n",
    "s"
   ]
  },
  {
   "cell_type": "markdown",
   "id": "3f86d02a",
   "metadata": {},
   "source": [
    " "
   ]
  },
  {
   "cell_type": "markdown",
   "id": "7e41bdd8",
   "metadata": {},
   "source": [
    "DATAFRAME SLICING"
   ]
  },
  {
   "cell_type": "markdown",
   "id": "27484476",
   "metadata": {},
   "source": [
    "<B>8.12:  Slice rows using .loc[] and a list of labels.  Select just 'hd34', 'hp21' and 'tc77'.</B>"
   ]
  },
  {
   "cell_type": "code",
   "execution_count": null,
   "id": "b6350c2a",
   "metadata": {},
   "outputs": [],
   "source": [
    "import pandas as pd\n",
    "\n",
    "fname = '../revenue_extended.csv'\n",
    "\n",
    "df = pd.read_csv(fname, skiprows=2,\n",
    "                        skipfooter=2,\n",
    "                        index_col='id',\n",
    "                        engine='python')\n",
    "\n",
    "\n",
    "\n",
    "df"
   ]
  },
  {
   "cell_type": "markdown",
   "id": "4936992b",
   "metadata": {},
   "source": [
    " "
   ]
  },
  {
   "cell_type": "markdown",
   "id": "a8952ff4",
   "metadata": {},
   "source": [
    "<B>8.13:  Slice rows using .loc[] and a range of labels.  Select 'ts06' through 'df8'.  </B>"
   ]
  },
  {
   "cell_type": "code",
   "execution_count": null,
   "id": "ed4b965f",
   "metadata": {},
   "outputs": [],
   "source": [
    "import pandas as pd\n",
    "\n",
    "fname = '../revenue_extended.csv'\n",
    "\n",
    "df = pd.read_csv(fname, skiprows=2,\n",
    "                        skipfooter=2,\n",
    "                        index_col='id',\n",
    "                        engine='python')\n",
    "\n",
    "\n",
    "\n",
    "df"
   ]
  },
  {
   "cell_type": "markdown",
   "id": "cdd8aac9",
   "metadata": {},
   "source": [
    " "
   ]
  },
  {
   "cell_type": "markdown",
   "id": "3e2b0832",
   "metadata": {},
   "source": [
    "<B>8.14:  Use <B>.loc[]</B> to slice columns and rows.  Select all rows but just the 'company' and 'revenue' columns (use ':' for the row selector).</B>"
   ]
  },
  {
   "cell_type": "code",
   "execution_count": null,
   "id": "a2222224",
   "metadata": {},
   "outputs": [],
   "source": [
    "import pandas as pd\n",
    "\n",
    "fname = '../revenue_extended.csv'\n",
    "\n",
    "df = pd.read_csv(fname, skiprows=2,\n",
    "                        skipfooter=2,\n",
    "                        index_col='id',\n",
    "                        engine='python')\n",
    "\n",
    "\n",
    "\n",
    "df"
   ]
  },
  {
   "cell_type": "markdown",
   "id": "2b2b393f",
   "metadata": {},
   "source": [
    " "
   ]
  },
  {
   "cell_type": "markdown",
   "id": "54b09c78",
   "metadata": {},
   "source": [
    "<B>8.15:  Review:  use <B>.iloc[]</B> indexing to select columns and rows.  Select a 2x2 grid of the DataFrame using indices.  </B>"
   ]
  },
  {
   "cell_type": "code",
   "execution_count": null,
   "id": "ec2d4f5c",
   "metadata": {},
   "outputs": [],
   "source": [
    "import pandas as pd\n",
    "\n",
    "fname = '../weather_newyork.csv'\n",
    "\n",
    "df = pd.read_csv(fname)\n",
    "\n",
    "\n",
    "\n",
    "df"
   ]
  },
  {
   "cell_type": "markdown",
   "id": "0e0e1e0e",
   "metadata": {},
   "source": [
    " "
   ]
  },
  {
   "cell_type": "markdown",
   "id": "748b72dc",
   "metadata": {},
   "source": [
    "CONDITIONAL SLICING"
   ]
  },
  {
   "cell_type": "markdown",
   "id": "8e6d3543",
   "metadata": {},
   "source": [
    "<B>8.16:  Slice based on single condition.  Using <B>.loc[]</B> with a condition, look for all 'high' temps above 100, then try above 90.  </B>"
   ]
  },
  {
   "cell_type": "code",
   "execution_count": null,
   "id": "b581cd15",
   "metadata": {},
   "outputs": [],
   "source": [
    "import pandas as pd\n",
    "\n",
    "fname = '../weather_newyork_narrow.csv'\n",
    "\n",
    "df = pd.read_csv(fname)\n",
    "\n",
    "\n",
    "\n",
    "df"
   ]
  },
  {
   "cell_type": "markdown",
   "id": "4e5680a3",
   "metadata": {},
   "source": [
    "Then, add 2nd 'bucket' to <B>.loc[]</B> to select the 'high' an d 'precip' columns."
   ]
  },
  {
   "cell_type": "markdown",
   "id": "7cf3b7f4",
   "metadata": {},
   "source": [
    " "
   ]
  },
  {
   "cell_type": "markdown",
   "id": "6ffd0531",
   "metadata": {},
   "source": [
    "<B>8.17:  Slice based on dual condition.  Select for a 'high' of > 90 and a 'precip' of > 0.5.  Separate the tests with an <B>&</B> and put parentheses around each.  (This will uncover an anomaly that we'll solve next.)</B>"
   ]
  },
  {
   "cell_type": "code",
   "execution_count": null,
   "id": "9db7c8a2",
   "metadata": {},
   "outputs": [],
   "source": [
    "import pandas as pd\n",
    "\n",
    "fname = '../weather_newyork_narrow.csv'\n",
    "\n",
    "df = pd.read_csv(fname)\n",
    "\n",
    "hitemps = df.loc[ (df.high > 90) & (df.precip > 0.5) ]\n",
    "\n",
    "hitemps"
   ]
  },
  {
   "cell_type": "markdown",
   "id": "5d915048",
   "metadata": {},
   "source": [
    " "
   ]
  },
  {
   "cell_type": "markdown",
   "id": "894c661f",
   "metadata": {},
   "source": [
    "<B>8.18:  Use <B>.unique()</B>.  Apply to the 'precip' column to see if there are any anomalies in that column.  We'll use this information shortly.  </B>"
   ]
  },
  {
   "cell_type": "code",
   "execution_count": null,
   "id": "4c85b597",
   "metadata": {},
   "outputs": [],
   "source": [
    "import pandas as pd\n",
    "\n",
    "df = pd.read_csv('../weather_newyork_narrow.csv')\n",
    "\n",
    "\n",
    "\n",
    "df"
   ]
  },
  {
   "cell_type": "markdown",
   "id": "4400f0f3",
   "metadata": {},
   "source": [
    " "
   ]
  },
  {
   "cell_type": "markdown",
   "id": "e55b4ac5",
   "metadata": {},
   "source": [
    "<B>8.19:  Use <B>.isin()</B> as a condition to <B>.loc[]</B>.  Select states 'NY' and 'NJ' from revenue.csv -- the argument to <B>.isin()</B> should be a list of values.</B>"
   ]
  },
  {
   "cell_type": "code",
   "execution_count": null,
   "id": "8acabee5",
   "metadata": {},
   "outputs": [],
   "source": [
    "import pandas as pd\n",
    "\n",
    "df = pd.read_csv('../revenue.csv')\n",
    "\n",
    "\n",
    "\n",
    "df"
   ]
  },
  {
   "cell_type": "markdown",
   "id": "b39c6039",
   "metadata": {},
   "source": [
    " "
   ]
  },
  {
   "cell_type": "markdown",
   "id": "f89188c5",
   "metadata": {},
   "source": [
    "<B>8.20:  <U>Reverse a test</U>.  Use <B>~</B> (the tilde character) to reverse the above test so that we show only rows that are NOT 'NY' or 'NJ'.  </B>"
   ]
  },
  {
   "cell_type": "code",
   "execution_count": null,
   "id": "284c2b7d",
   "metadata": {},
   "outputs": [],
   "source": [
    "import pandas as pd\n",
    "\n",
    "df = pd.read_csv('../revenue.csv')\n",
    "\n",
    "df2 = df.loc[ df.state.isin(['NY', 'NJ']) ]\n",
    "\n",
    "df2"
   ]
  },
  {
   "cell_type": "markdown",
   "id": "20ea7a3a",
   "metadata": {},
   "source": [
    " "
   ]
  },
  {
   "cell_type": "markdown",
   "id": "2797ebca",
   "metadata": {},
   "source": [
    "VECTORIZED OPERATIONS"
   ]
  },
  {
   "cell_type": "markdown",
   "id": "113aeaad",
   "metadata": {},
   "source": [
    "<B>8.21:  Use a subscript to add a new column 'tax', set to 0.04</B>"
   ]
  },
  {
   "cell_type": "code",
   "execution_count": null,
   "id": "4e7ab877",
   "metadata": {},
   "outputs": [],
   "source": [
    "import pandas as pd\n",
    "\n",
    "\n",
    "df = pd.read_csv('../revenue.csv')\n",
    "\n",
    "\n",
    "\n",
    "df"
   ]
  },
  {
   "cell_type": "markdown",
   "id": "74177e25",
   "metadata": {},
   "source": [
    " "
   ]
  },
  {
   "cell_type": "markdown",
   "id": "2933dbb5",
   "metadata": {},
   "source": [
    "<B>8.22:  <U>Vectorize column value</U>.  Add a new column 'tax amt', set to the 'revenue' value * 'tax' amount.  </B>"
   ]
  },
  {
   "cell_type": "code",
   "execution_count": null,
   "id": "fe1705b3",
   "metadata": {},
   "outputs": [],
   "source": [
    "import pandas as pd\n",
    "\n",
    "df = pd.read_csv('../revenue.csv')\n",
    "\n",
    "df['tax'] = 0.04\n",
    "\n",
    "\n",
    "\n",
    "df"
   ]
  },
  {
   "cell_type": "markdown",
   "id": "ff1c71b9",
   "metadata": {},
   "source": [
    " "
   ]
  },
  {
   "cell_type": "markdown",
   "id": "b0fdcac8",
   "metadata": {},
   "source": [
    "<B>8.23:  <U>Vectorizing with condition</U>.  Continuing the above solution, use <B>.loc[]</B> with a condition to set 'tax' to 0.0625 for all 'NJ' rows, then recalculate tax amount.  </B>"
   ]
  },
  {
   "cell_type": "code",
   "execution_count": null,
   "id": "e304231c",
   "metadata": {},
   "outputs": [],
   "source": [
    "import pandas as pd\n",
    "\n",
    "df = pd.read_csv('../revenue.csv')\n",
    "\n",
    "df['tax'] = 0.04\n",
    "\n",
    "# your code here\n",
    "\n",
    "df['tax amt'] = df.revenue * df.tax\n",
    "\n",
    "df"
   ]
  },
  {
   "cell_type": "markdown",
   "id": "c2ac94b0",
   "metadata": {},
   "source": [
    " "
   ]
  },
  {
   "cell_type": "markdown",
   "id": "e2382668",
   "metadata": {},
   "source": [
    "<B>8.24:  <U>.replace() method</U>.  Returning to the 'precip' column, replace the non-numeric value we identified previously with 0.  Use vectorized condition as in previous, or the Series <B>.replace()</b> method.  </B>"
   ]
  },
  {
   "cell_type": "code",
   "execution_count": null,
   "id": "20e4a641",
   "metadata": {},
   "outputs": [],
   "source": [
    "import pandas as pd\n",
    "\n",
    "df = pd.read_csv('../weather_newyork_narrow.csv')\n",
    "\n",
    "\n",
    "\n",
    "df"
   ]
  },
  {
   "cell_type": "markdown",
   "id": "f09d1b6e",
   "metadata": {},
   "source": [
    "After replacing the value, run <B>.unique()</B> to see that the anomalous value is no longer there.\n",
    "\n",
    "Next, bring this solution to the exercise that failed and try again...\n",
    "\n",
    "...still no joy?  Wait until we can manipulate dtypes -- coming up."
   ]
  },
  {
   "cell_type": "markdown",
   "id": "4649c0cd",
   "metadata": {},
   "source": [
    " "
   ]
  },
  {
   "cell_type": "markdown",
   "id": "b558fa0e",
   "metadata": {},
   "source": [
    "<B>8.25:  <U>Vectorizing with function</U>.  Use <B>.apply[]</B> with a condition to create column 'revf' converting 'revenue' to a string with formatting.</B>"
   ]
  },
  {
   "cell_type": "code",
   "execution_count": null,
   "id": "c1695480",
   "metadata": {},
   "outputs": [],
   "source": [
    "def format(n):\n",
    "    return f'${n:,.2f}'   # makes 2.3 into '$2.30'\n",
    "\n",
    "\n",
    "import pandas as pd\n",
    "\n",
    "df = pd.read_csv('../revenue.csv')\n",
    "\n",
    "\n",
    "\n",
    "df"
   ]
  },
  {
   "cell_type": "markdown",
   "id": "e3aa8794",
   "metadata": {},
   "source": [
    " "
   ]
  },
  {
   "cell_type": "markdown",
   "id": "64b174f2",
   "metadata": {},
   "source": [
    "'SUMMARY' FUNCTION ON SERIES"
   ]
  },
  {
   "cell_type": "markdown",
   "id": "313a5726",
   "metadata": {},
   "source": [
    "<B>8.26:  <U>Use the <B>.sum()</B> method</U> to sum up the 'revenue' column.</B>"
   ]
  },
  {
   "cell_type": "code",
   "execution_count": null,
   "id": "fd233054",
   "metadata": {},
   "outputs": [],
   "source": [
    "import pandas as pd\n",
    "\n",
    "df = pd.read_csv('../revenue.csv')\n",
    "\n",
    "\n",
    "\n",
    "df"
   ]
  },
  {
   "cell_type": "markdown",
   "id": "a43fa520",
   "metadata": {},
   "source": [
    " "
   ]
  },
  {
   "cell_type": "markdown",
   "id": "58199836",
   "metadata": {},
   "source": [
    "<B>8.27:  <U>Use the <B>.mean()</B> method.  Calculate the average of the 'revenue' column.</B>"
   ]
  },
  {
   "cell_type": "code",
   "execution_count": null,
   "id": "3f4d65bb",
   "metadata": {},
   "outputs": [],
   "source": [
    "import pandas as pd\n",
    "\n",
    "df = pd.read_csv('../revenue.csv')\n",
    "\n",
    "\n",
    "\n",
    "df"
   ]
  },
  {
   "cell_type": "markdown",
   "id": "1a71c241",
   "metadata": {},
   "source": [
    " "
   ]
  },
  {
   "cell_type": "markdown",
   "id": "27165d83",
   "metadata": {},
   "source": [
    "<B>8.28:  <U>Use summary function with condition</U>.  Show the average of the 'revenue' column, but only for those rows with 'NY' in the 'state' column.  </B>"
   ]
  },
  {
   "cell_type": "code",
   "execution_count": null,
   "id": "ad583007",
   "metadata": {},
   "outputs": [],
   "source": [
    "import pandas as pd\n",
    "\n",
    "df = pd.read_csv('../revenue.csv')\n",
    "\n",
    "\n",
    "\n",
    "df"
   ]
  },
  {
   "cell_type": "markdown",
   "id": "74c85912",
   "metadata": {},
   "source": [
    " "
   ]
  },
  {
   "cell_type": "markdown",
   "id": "c7c36633",
   "metadata": {},
   "source": [
    "WORKING WITH DTYPES"
   ]
  },
  {
   "cell_type": "markdown",
   "id": "891110b2",
   "metadata": {},
   "source": [
    "<B>8.29:  <U>Set the dtype for a column</U>.  First, use <B>.dtypes</B> to show the column types; then replace the '-' values in the 'transactions' column with 0's.  Finally, set the column dtype to 'int'.  </B>"
   ]
  },
  {
   "cell_type": "code",
   "execution_count": null,
   "id": "04c3b988",
   "metadata": {},
   "outputs": [],
   "source": [
    "import pandas as pd\n",
    "\n",
    "df = pd.read_csv('../revenue_extended.csv', skiprows=2,\n",
    "                                            skipfooter=2,\n",
    "                                            engine='python')\n",
    "\n",
    "df.dtypes\n",
    "\n",
    "\n",
    "\n",
    "df"
   ]
  },
  {
   "cell_type": "markdown",
   "id": "632f389b",
   "metadata": {},
   "source": [
    " "
   ]
  },
  {
   "cell_type": "markdown",
   "id": "5dd0bd3b",
   "metadata": {},
   "source": [
    "<B>8.30:  <U>use pd.to\\_numeric</U>.  Change the 'a' and 'b' columns to a numeric type, and show dtypes afterwards.  </B>"
   ]
  },
  {
   "cell_type": "code",
   "execution_count": null,
   "id": "2097e8a7",
   "metadata": {},
   "outputs": [],
   "source": [
    "import pandas as pd\n",
    "\n",
    "dol = {  'a': ['1', '2', '3'],\n",
    "         'b': ['2.9', '3.5', '4.9'],\n",
    "         'c': ['yourstr', 'mystr', 'theirstr']  }\n",
    "\n",
    "df = pd.DataFrame(dol, index=['w', 'x', 'y'])\n",
    "\n",
    "df.dtypes\n",
    "\n",
    "\n",
    "\n",
    "df.dtypes"
   ]
  },
  {
   "cell_type": "markdown",
   "id": "b2564247",
   "metadata": {},
   "source": [
    "Now that we can 'cast' or change dtypes, return to the problematic exercise above and change the <B>.precip</B> column to numeric so we can complete the compound test."
   ]
  },
  {
   "cell_type": "markdown",
   "id": "666c263a",
   "metadata": {},
   "source": [
    " "
   ]
  },
  {
   "cell_type": "markdown",
   "id": "7874400a",
   "metadata": {},
   "source": [
    "MANIPULATING THE INDEX"
   ]
  },
  {
   "cell_type": "markdown",
   "id": "8ec1524d",
   "metadata": {},
   "source": [
    "<B>8.31:  Print the .index and .columns attributes on this DataFrame.  Then reorder the rows to 'a', 'b', 'c'</B>"
   ]
  },
  {
   "cell_type": "code",
   "execution_count": null,
   "id": "0d876157",
   "metadata": {},
   "outputs": [],
   "source": [
    "import pandas as pd\n",
    "\n",
    "\n",
    "data = [\n",
    "    [1, 2.5, 'apple'],\n",
    "    [2, 3.0, 'banana'],\n",
    "    [3, 4.2, 'orange']\n",
    "]\n",
    "\n",
    "df = pd.DataFrame(data, columns=['num', 'float', 'text'],\n",
    "                        index=['c', 'b', 'a'])\n",
    "\n",
    "\n",
    "\n",
    "\n",
    "df"
   ]
  },
  {
   "cell_type": "markdown",
   "id": "fac1ccd3",
   "metadata": {},
   "source": [
    " "
   ]
  },
  {
   "cell_type": "markdown",
   "id": "c36dd6af",
   "metadata": {},
   "source": [
    "<B>8.32:  Reading from <B>weather\\_newyork.csv</B>, use <B>.reindex<B> with the argument <B>axis=1</B> to select the 'EST', 'Max TemperatureF' and 'Min TemperatureF' columns.  </B>"
   ]
  },
  {
   "cell_type": "code",
   "execution_count": null,
   "id": "24690457",
   "metadata": {},
   "outputs": [],
   "source": [
    "import pandas as pd\n",
    "\n",
    "df = pd.read_csv('../weather_newyork.csv')\n",
    "\n",
    "\n",
    "\n",
    "df"
   ]
  },
  {
   "cell_type": "markdown",
   "id": "34246627",
   "metadata": {},
   "source": [
    " "
   ]
  },
  {
   "cell_type": "markdown",
   "id": "34f14506",
   "metadata": {},
   "source": [
    "<B>8.33:  Using <B>.rename()</B>, rename column labels: 'EST' -> 'date', 'Max TemperatureF' -> 'max\\_temp' and 'Min TemperatureF' -> 'min\\_temp'.  </B>"
   ]
  },
  {
   "cell_type": "code",
   "execution_count": null,
   "id": "f749c141",
   "metadata": {},
   "outputs": [],
   "source": [
    "import pandas as pd\n",
    "\n",
    "df = pd.read_csv('../weather_newyork.csv')\n",
    "\n",
    "dfs = df.reindex(['EST', 'Max TemperatureF', 'Min TemperatureF'], axis=1)\n",
    "\n",
    "\n",
    "\n",
    "dfs"
   ]
  },
  {
   "cell_type": "markdown",
   "id": "bace1fa5",
   "metadata": {},
   "source": [
    " "
   ]
  },
  {
   "cell_type": "markdown",
   "id": "ff551095",
   "metadata": {},
   "source": [
    "<B>8.34:  Reorder the columns on the DataFrame to 'float', 'num', and 'terxt' (deliberately misspell 'text') using .reindex().  Note that the 'terxt' column springs into existence with empty values.  </B>"
   ]
  },
  {
   "cell_type": "code",
   "execution_count": null,
   "id": "4c68bf20",
   "metadata": {},
   "outputs": [],
   "source": [
    "import pandas as pd\n",
    "\n",
    "data = [\n",
    "    [1, 2.5, 'apple'],\n",
    "    [2, 3.0, 'banana'],\n",
    "    [3, 4.2, 'orange']\n",
    "]\n",
    "\n",
    "df = pd.DataFrame(data, columns=['num', 'float', 'text'],\n",
    "                        index=['c', 'b', 'a'])\n",
    "\n",
    "\n",
    "\n",
    "\n",
    "df"
   ]
  },
  {
   "cell_type": "markdown",
   "id": "01014641",
   "metadata": {},
   "source": [
    " "
   ]
  },
  {
   "cell_type": "markdown",
   "id": "a4066c12",
   "metadata": {},
   "source": [
    "<B>8.35:  Use <B>.set\\_index()</B> to set the <B>id</B> column for the DataFrame as the index.   </B>"
   ]
  },
  {
   "cell_type": "markdown",
   "id": "80b42ae6",
   "metadata": {},
   "source": [
    "Next, use <B>.reset\\_index()</B> to reset the index to the default (integers), while moving the index to a new column.  Lastly, add the <B>drop=True</B> parameter argument to drop the index entirely, and note that the old index has been dropped.\n"
   ]
  },
  {
   "cell_type": "code",
   "execution_count": null,
   "id": "4ce81512",
   "metadata": {},
   "outputs": [],
   "source": [
    "import pandas as pd\n",
    "\n",
    "fname = '../revenue_extended.csv'\n",
    "\n",
    "df = pd.read_csv(fname, skiprows=2,\n",
    "                        skipfooter=2,\n",
    "                        engine='python')\n",
    "\n",
    "\n",
    "\n",
    "df"
   ]
  },
  {
   "cell_type": "markdown",
   "id": "74f4d466",
   "metadata": {},
   "source": [
    " "
   ]
  },
  {
   "cell_type": "markdown",
   "id": "77ad0c60",
   "metadata": {},
   "source": [
    "SORTING"
   ]
  },
  {
   "cell_type": "markdown",
   "id": "2c5e5014",
   "metadata": {},
   "source": [
    "<B>8.36:  Read this csv, set the 'date' to the index column, and sort by index, with 'ascending=False'.  </B>"
   ]
  },
  {
   "cell_type": "code",
   "execution_count": null,
   "id": "5bb9e805",
   "metadata": {},
   "outputs": [],
   "source": [
    "import pandas as pd\n",
    "\n",
    "fname = '../weather_newyork_narrow.csv'\n",
    "\n",
    "df = pd.read_csv(fname\n",
    "\n",
    "\n",
    "\n",
    "df"
   ]
  },
  {
   "cell_type": "markdown",
   "id": "4c492228",
   "metadata": {},
   "source": [
    " "
   ]
  },
  {
   "cell_type": "markdown",
   "id": "5f9a182d",
   "metadata": {},
   "source": [
    "<B>8.37:  Use <B>.sort\\_values()</B> to sort the DataFrame by the 'high' value.  Use <B>ascending=False</B> to reverse the sort.  </B>"
   ]
  },
  {
   "cell_type": "code",
   "execution_count": null,
   "id": "b898744a",
   "metadata": {},
   "outputs": [],
   "source": [
    "import pandas as pd\n",
    "\n",
    "fname = '../weather_newyork_narrow.csv'\n",
    "\n",
    "df = pd.read_csv(fname, index_col='date')\n",
    "\n",
    "\n",
    "\n",
    "df"
   ]
  },
  {
   "cell_type": "markdown",
   "id": "b935a4fd",
   "metadata": {},
   "source": [
    " "
   ]
  },
  {
   "cell_type": "markdown",
   "id": "40352bb8",
   "metadata": {},
   "source": [
    "<B>8.38:  Use <B>axis=1</B> to <B>.sort\\_index()</B> to sort the DataFrame by its columns.  </B>"
   ]
  },
  {
   "cell_type": "code",
   "execution_count": null,
   "id": "1e3dfa18",
   "metadata": {},
   "outputs": [],
   "source": [
    "import pandas as pd\n",
    "\n",
    "fname = '../revenue.csv'\n",
    "\n",
    "df = pd.read_csv(fname)\n",
    "\n",
    "\n",
    "\n",
    "df"
   ]
  },
  {
   "cell_type": "markdown",
   "id": "e6957bca",
   "metadata": {},
   "source": [
    " "
   ]
  },
  {
   "cell_type": "markdown",
   "id": "f729c973",
   "metadata": {},
   "source": [
    "CONCATENATING / APPENDING"
   ]
  },
  {
   "cell_type": "markdown",
   "id": "23ec1557",
   "metadata": {},
   "source": [
    "<B>8.39:  First view, then concatenate the two DataFrames vertically.  </B>"
   ]
  },
  {
   "cell_type": "code",
   "execution_count": null,
   "id": "76214456",
   "metadata": {},
   "outputs": [],
   "source": [
    "import pandas as pd\n",
    "\n",
    "df = pd.DataFrame({ 'a': [1, 2, 3],\n",
    "                    'b': [2.9, 3.5, 4.9],\n",
    "                    'c': ['yourstr', 'mystr', 'theirstr']  },\n",
    "                    index=['r1', 'r2', 'r3'])\n",
    "\n",
    "df2 = pd.DataFrame({ 'b': [4, 5, 6],\n",
    "                     'c': [7.8, 8.2, 9.1],\n",
    "                     'd': ['thingy', 'thatty', 'flunky']  },\n",
    "                     index=['r2', 'r3', 'r4'])\n",
    "\n",
    "df\n",
    "print()\n",
    "df2\n",
    "\n"
   ]
  },
  {
   "cell_type": "markdown",
   "id": "51e38835",
   "metadata": {},
   "source": [
    "Note that the indices are repeated - this can be changed using index manipulation (<B>.rename()</B>, <B>.reindex()</B>, <B>.set\\_index()</B>)."
   ]
  },
  {
   "cell_type": "markdown",
   "id": "921025b9",
   "metadata": {},
   "source": [
    " "
   ]
  },
  {
   "cell_type": "markdown",
   "id": "43fa318c",
   "metadata": {},
   "source": [
    "<B>8.40:  First view, then concatenate the two DataFrames horizontally (use <B>axis=1</B>.  </B>"
   ]
  },
  {
   "cell_type": "code",
   "execution_count": null,
   "id": "9e385282",
   "metadata": {},
   "outputs": [],
   "source": [
    "import pandas as pd\n",
    "\n",
    "df = pd.DataFrame({ 'a': [1, 2, 3],\n",
    "                    'b': [2.9, 3.5, 4.9],\n",
    "                    'c': ['yourstr', 'mystr', 'theirstr']  },\n",
    "                    index=['r1', 'r2', 'r3'])\n",
    "\n",
    "df2 = pd.DataFrame({ 'd': ['xylo', 'yellow', 'zello'],\n",
    "                     'e': [0, 0, 0],\n",
    "                     'f': [1.1, 1.1, 1.2]  },\n",
    "                     index=['r1', 'r2', 'r3'])\n",
    "\n",
    "df\n",
    "print()\n",
    "df2\n",
    "print()\n",
    "\n"
   ]
  },
  {
   "cell_type": "markdown",
   "id": "7763f852",
   "metadata": {},
   "source": [
    " "
   ]
  },
  {
   "cell_type": "markdown",
   "id": "0b5fc831",
   "metadata": {},
   "source": [
    "MERGE / JOIN"
   ]
  },
  {
   "cell_type": "markdown",
   "id": "514a6bc0",
   "metadata": {},
   "source": [
    "<B>8.41:  View the two below DataFrames.  Then use <B>pd.merge()</B> to join the <B>student\\_db\\_grades.csv</B> and <B>student\\_db\\_names.csv</B> files into a single DataFrame, joining on the id (use <B>on='id'</B>).  Compare \"how='outer'\" (19 rows, including missing data at the end) to \"how='inner'\" (only 15 rows, with ids common to both tables) to effect an outer join.   </B>"
   ]
  },
  {
   "cell_type": "code",
   "execution_count": null,
   "id": "4b301a58",
   "metadata": {},
   "outputs": [],
   "source": [
    "import pandas as pd\n",
    "\n",
    "sgrades = pd.read_csv('../student_db_grades.csv', sep=':')\n",
    "snames = pd.read_csv('../student_db_names.csv')\n",
    "\n",
    "sgrades.head(2)\n",
    "print('===')\n",
    "snames.head(2)\n",
    "print('===')\n",
    "\n",
    "\n"
   ]
  },
  {
   "cell_type": "markdown",
   "id": "6848e791",
   "metadata": {},
   "source": [
    " "
   ]
  },
  {
   "cell_type": "markdown",
   "id": "69b980bf",
   "metadata": {},
   "source": [
    "<B>8.42:  Reading the same files but setting the 'id' column to the indexes of each DataFrame, use <B>df.join()</B> (the same operation as <B>pd.merge()</B>) to perform the above joins.  </B>"
   ]
  },
  {
   "cell_type": "code",
   "execution_count": null,
   "id": "ca46ca19",
   "metadata": {},
   "outputs": [],
   "source": [
    "import pandas as pd\n",
    "\n",
    "sgrades = pd.read_csv('../student_db_grades.csv', sep=':', index_col='id')\n",
    "snames = pd.read_csv('../student_db_names.csv', index_col='id')\n",
    "\n",
    "\n"
   ]
  },
  {
   "cell_type": "markdown",
   "id": "1ca10baf",
   "metadata": {},
   "source": [
    " "
   ]
  },
  {
   "cell_type": "markdown",
   "id": "89e1beb8",
   "metadata": {},
   "source": [
    "WORKING WITH MISSING DATA"
   ]
  },
  {
   "cell_type": "markdown",
   "id": "baef003a",
   "metadata": {},
   "source": [
    "<B>8.43:  Using the joined student tables, check to see if any null values can be found in the 'course' column.  </B>"
   ]
  },
  {
   "cell_type": "code",
   "execution_count": null,
   "id": "b99b9520",
   "metadata": {},
   "outputs": [],
   "source": [
    "import pandas as pd\n",
    "\n",
    "sgrades = pd.read_csv('../student_db_grades.csv', sep=':')\n",
    "snames = pd.read_csv('../student_db_names.csv')\n",
    "\n",
    "sj = pd.merge(sgrades, snames, on='id', how='outer')\n",
    "\n",
    "sj\n",
    "\n",
    "\n",
    "# see boolean column of whether missing or not - use .isnull()\n",
    "\n",
    "\n",
    "# see whether there are any missing values - use any() with .isnull()\n",
    "\n",
    "\n",
    "# select rows with missing data - use .isnull() as a condition to .loc[]\n",
    "\n"
   ]
  },
  {
   "cell_type": "markdown",
   "id": "c776f2b5",
   "metadata": {},
   "source": [
    " "
   ]
  },
  {
   "cell_type": "markdown",
   "id": "52044978",
   "metadata": {},
   "source": [
    "<B>8.44:  Open <B>df0.csv</B> and fill empty cells in just the 'a' column with 0.  Use <B>.fillna()</B> with <B>0</B>.  </B>"
   ]
  },
  {
   "cell_type": "code",
   "execution_count": null,
   "id": "55c7ac2e",
   "metadata": {},
   "outputs": [],
   "source": [
    "import pandas as pd\n",
    "\n",
    "df = pd.read_csv('../df0.csv', index_col=0)\n",
    "\n",
    "df\n",
    "\n",
    "\n",
    "\n"
   ]
  },
  {
   "cell_type": "markdown",
   "id": "1c54345b",
   "metadata": {},
   "source": [
    " "
   ]
  },
  {
   "cell_type": "markdown",
   "id": "45b91055",
   "metadata": {},
   "source": [
    "<B>8.45:  Open <B>df0.csv</B> and drop empty rows; then drop empty columns.  Use <B>.dropna() and <B>.dropna()</B> with <B>axis=1</B></B>"
   ]
  },
  {
   "cell_type": "code",
   "execution_count": null,
   "id": "b2e56f2c",
   "metadata": {},
   "outputs": [],
   "source": [
    "import pandas as pd\n",
    "\n",
    "df = pd.read_csv('../df0.csv', index_col=0)\n",
    "\n",
    "df\n",
    "\n",
    "\n",
    "\n"
   ]
  },
  {
   "cell_type": "markdown",
   "id": "5aaf3678",
   "metadata": {},
   "source": [
    " "
   ]
  },
  {
   "cell_type": "markdown",
   "id": "0307160e",
   "metadata": {},
   "source": [
    "AGGREGATIONS WITH groupby()"
   ]
  },
  {
   "cell_type": "markdown",
   "id": "795c1468",
   "metadata": {},
   "source": [
    " "
   ]
  },
  {
   "cell_type": "markdown",
   "id": "f2722dfb",
   "metadata": {},
   "source": [
    "<B>8.46:  Group the count of students by state.  Subscript to just show the <B>'id'</B> column.  Sort by value, descending (<B>ascending=False</B>)</B>"
   ]
  },
  {
   "cell_type": "code",
   "execution_count": null,
   "id": "25ac052d",
   "metadata": {},
   "outputs": [],
   "source": [
    "import pandas as pd\n",
    "\n",
    "df = pd.read_csv('../student_db_names.csv')\n",
    "\n",
    "\n",
    "\n"
   ]
  },
  {
   "cell_type": "markdown",
   "id": "ed0c0222",
   "metadata": {},
   "source": [
    " "
   ]
  },
  {
   "cell_type": "markdown",
   "id": "dc8ee573",
   "metadata": {},
   "source": [
    "GROUP BY"
   ]
  },
  {
   "cell_type": "markdown",
   "id": "bc8bcdc4",
   "metadata": {},
   "source": [
    "Run this cell to view the <B>sales-funnel</B> spreadsheet again:"
   ]
  },
  {
   "cell_type": "code",
   "execution_count": null,
   "id": "3aa24212",
   "metadata": {},
   "outputs": [],
   "source": [
    "import pandas as pd\n",
    "\n",
    "df = pd.read_excel(\"../sales-funnel.xlsx\")\n",
    "\n",
    "df"
   ]
  },
  {
   "cell_type": "markdown",
   "id": "21dd8c53",
   "metadata": {},
   "source": [
    " "
   ]
  },
  {
   "cell_type": "markdown",
   "id": "afec8fe7",
   "metadata": {},
   "source": [
    "<B>8.47:  <U><B>.groupby()</B>:  single-column aggregation</U>.  First, view the DataFrame.  Then use <B>.groupby()</B> to show sum of 'SaleAmount' grouped by 'SalesRep'.  </B>"
   ]
  },
  {
   "cell_type": "code",
   "execution_count": null,
   "id": "28ad8af5",
   "metadata": {},
   "outputs": [],
   "source": [
    "import pandas as pd\n",
    "\n",
    "df = pd.read_excel(\"../sales-funnel.xlsx\")\n",
    "\n",
    "\n"
   ]
  },
  {
   "cell_type": "markdown",
   "id": "49d7ac62",
   "metadata": {},
   "source": [
    " "
   ]
  },
  {
   "cell_type": "markdown",
   "id": "b645217c",
   "metadata": {},
   "source": [
    "<B>8.48:  <U><B>.groupby()</B>:  dual-column aggregation</U>.  Use <B>.groupby()</B> to show sum of 'SaleAmount' grouped by 'SalesRep' and by 'Product'.  </B>"
   ]
  },
  {
   "cell_type": "code",
   "execution_count": null,
   "id": "1855c12d",
   "metadata": {},
   "outputs": [],
   "source": [
    "import pandas as pd\n",
    "\n",
    "df = pd.read_excel(\"../sales-funnel.xlsx\")\n",
    "\n",
    "\n"
   ]
  },
  {
   "cell_type": "markdown",
   "id": "43a7700c",
   "metadata": {},
   "source": [
    " "
   ]
  },
  {
   "cell_type": "markdown",
   "id": "4899e48b",
   "metadata": {},
   "source": [
    "PIVOT TABLE"
   ]
  },
  {
   "cell_type": "markdown",
   "id": "d2bbe176",
   "metadata": {},
   "source": [
    "Please run this cell to view the <B>sales-funnel</B> spreadsheet again:"
   ]
  },
  {
   "cell_type": "code",
   "execution_count": null,
   "id": "712310ae",
   "metadata": {},
   "outputs": [],
   "source": [
    "import pandas as pd\n",
    "import numpy as np\n",
    "\n",
    "df = pd.read_excel(\"../sales-funnel.xlsx\")\n",
    "\n",
    "df"
   ]
  },
  {
   "cell_type": "markdown",
   "id": "96deba80",
   "metadata": {},
   "source": [
    " "
   ]
  },
  {
   "cell_type": "markdown",
   "id": "7a57a543",
   "metadata": {},
   "source": [
    "<B>8.49:  <U><B>pd.pivot\\_table()</B>:  single-column aggregation</U>.  First, view the DataFrame above.  Slice the DataFrame for just the <B>'SalesRep'</B> and <B>'SaleAmount'</B> columns.  Then use <B>pd.pivot\\_table(df)</B> to aggregate by 'SalesRep', using the <B>index=</B> parameter.  </B>"
   ]
  },
  {
   "cell_type": "code",
   "execution_count": null,
   "id": "edf76b88",
   "metadata": {},
   "outputs": [],
   "source": [
    "import pandas as pd\n",
    "\n",
    "df = pd.read_excel(\"../sales-funnel.xlsx\")\n",
    "\n",
    "dfpt = pd.pivot_table(df[['SalesRep', 'SaleAmount']], index='SalesRep')\n",
    "\n",
    "dfpt"
   ]
  },
  {
   "cell_type": "markdown",
   "id": "e8432582",
   "metadata": {},
   "source": [
    "The default summary method is average (i.e., <B>.mean()</B>)"
   ]
  },
  {
   "cell_type": "markdown",
   "id": "b9c1d547",
   "metadata": {},
   "source": [
    " "
   ]
  },
  {
   "cell_type": "markdown",
   "id": "e92eaead",
   "metadata": {},
   "source": [
    "<B>8.50:  <U><B>pd.pivot\\_table()</B> specifying a summary function</U>.  Perform the same pivot as previous, but use the <B>aggfunc=</B> parameter to specify a sum (use <B>'sum'</B>).  </B>"
   ]
  },
  {
   "cell_type": "code",
   "execution_count": null,
   "id": "17bdaac7",
   "metadata": {},
   "outputs": [],
   "source": [
    "import pandas as pd\n",
    "import numpy as np\n",
    "\n",
    "df = pd.read_excel(\"../sales-funnel.xlsx\")\n",
    "\n",
    "dfpt = pd.pivot_table(df, index='SalesRep',\n",
    "                          aggfunc='sum')\n",
    "\n",
    "dfpt"
   ]
  },
  {
   "cell_type": "markdown",
   "id": "4a7219e9",
   "metadata": {},
   "source": [
    " "
   ]
  },
  {
   "cell_type": "markdown",
   "id": "ec6f58fb",
   "metadata": {},
   "source": [
    "<B>8.51:  <U><B>pd.pivot\\_table()</B>:  dual-column aggregation</U>.  Perform the same pivot as previous, but group by by both 'SalesRep' and 'Product'.  </B>"
   ]
  },
  {
   "cell_type": "code",
   "execution_count": null,
   "id": "5c190e9c",
   "metadata": {},
   "outputs": [],
   "source": [
    "import pandas as pd\n",
    "import numpy as np\n",
    "\n",
    "df = pd.read_excel(\"../sales-funnel.xlsx\")\n",
    "\n",
    "dfpt = pd.pivot_table(df, index=['SalesRep', 'Product'],\n",
    "                          aggfunc='sum')\n",
    "\n",
    "dfpt"
   ]
  },
  {
   "cell_type": "markdown",
   "id": "304283ce",
   "metadata": {},
   "source": [
    " "
   ]
  },
  {
   "cell_type": "markdown",
   "id": "2c2a6176",
   "metadata": {},
   "source": [
    "<B>8.52:  <U><B>pd.pivot\\_table()</B>:  further agg by secondary value</U>.  Perform the above pivot on just 'SalesRep', but use <B>columns=</B> with a list to show the results broken down by 'Product'.  </B>"
   ]
  },
  {
   "cell_type": "code",
   "execution_count": null,
   "id": "f814eeb1",
   "metadata": {},
   "outputs": [],
   "source": [
    "import pandas as pd\n",
    "import numpy as np\n",
    "\n",
    "df = pd.read_excel(\"../sales-funnel.xlsx\")\n",
    "\n",
    "dfpt = pd.pivot_table(df, index='SalesRep',\n",
    "                          aggfunc='sum',\n",
    "                          values=['SaleAmount', 'Quantity'],\n",
    "                          columns='Product')\n",
    "\n",
    "dfpt"
   ]
  },
  {
   "cell_type": "markdown",
   "id": "95057b8a",
   "metadata": {},
   "source": [
    " "
   ]
  },
  {
   "cell_type": "markdown",
   "id": "06e075c5",
   "metadata": {},
   "source": [
    "MULTIINDEX"
   ]
  },
  {
   "cell_type": "markdown",
   "id": "c4f1f3cb",
   "metadata": {},
   "source": [
    "Please begin by noting the multi-level index that is produced by the below multi-column aggregation.\n"
   ]
  },
  {
   "cell_type": "code",
   "execution_count": null,
   "id": "5eab5d7d",
   "metadata": {},
   "outputs": [],
   "source": [
    "import pandas as pd\n",
    "import numpy as np\n",
    "\n",
    "df = pd.read_excel(\"../sales-funnel.xlsx\")\n",
    "\n",
    "table = pd.pivot_table(df, index=['Manager', 'SalesRep'],\n",
    "                           aggfunc='sum')\n",
    "\n",
    "table"
   ]
  },
  {
   "cell_type": "markdown",
   "id": "8dd754b7",
   "metadata": {},
   "source": [
    " "
   ]
  },
  {
   "cell_type": "markdown",
   "id": "0f0df59d",
   "metadata": {},
   "source": [
    "<B>8.53:  <U><B>MultiIndex</B>:  slicing at top level</U>.  Slice the multi-index to show just 'Account' and 'Quantity', and just for Manager 'Debra Henley'.  </B>"
   ]
  },
  {
   "cell_type": "code",
   "execution_count": null,
   "id": "db1a4739",
   "metadata": {},
   "outputs": [],
   "source": [
    "import pandas as pd\n",
    "import numpy as np\n",
    "\n",
    "df = pd.read_excel(\"../sales-funnel.xlsx\")\n",
    "\n",
    "table = pd.pivot_table(df, index=['Manager', 'SalesRep'],\n",
    "                           aggfunc='sum')\n",
    "\n",
    "table.loc['Debra Henley', ['Account', 'Quantity']]"
   ]
  },
  {
   "cell_type": "markdown",
   "id": "79d5098e",
   "metadata": {},
   "source": [
    " "
   ]
  },
  {
   "cell_type": "markdown",
   "id": "d10b40f8",
   "metadata": {},
   "source": [
    "<B>8.54:  <U><B>MultiIndex</B>:  slicing at 2nd level</U>.  Use a 2-item tuple (first-level label, second-level label) to slice for just 'Debra Henley' at the first level and 'Craig Booker' at the 2nd level.  </B>"
   ]
  },
  {
   "cell_type": "code",
   "execution_count": null,
   "id": "28d40726",
   "metadata": {},
   "outputs": [],
   "source": [
    "import pandas as pd\n",
    "import numpy as np\n",
    "\n",
    "df = pd.read_excel(\"../sales-funnel.xlsx\")\n",
    "\n",
    "table = pd.pivot_table(df, index=['Manager', 'SalesRep'],\n",
    "                           aggfunc='sum')\n",
    "\n",
    "table.loc[('Debra Henley', 'Craig Booker')]\n",
    "\n"
   ]
  },
  {
   "cell_type": "markdown",
   "id": "1e0b3e09",
   "metadata": {},
   "source": [
    " "
   ]
  },
  {
   "cell_type": "markdown",
   "id": "8b2b2576",
   "metadata": {},
   "source": [
    "<B>8.55:  <U><B>MultiIndex</B>:  \"cross section\" slicing</U>.  Use the <B>.xs()</B> method with <B>level=1</B> to show rows just for 'Craig Booker'.  </B>"
   ]
  },
  {
   "cell_type": "code",
   "execution_count": null,
   "id": "3854258d",
   "metadata": {},
   "outputs": [],
   "source": [
    "import pandas as pd\n",
    "import numpy as np\n",
    "\n",
    "df = pd.read_excel(\"../sales-funnel.xlsx\")\n",
    "\n",
    "table = pd.pivot_table(df, index=['Manager', 'SalesRep'],\n",
    "                           aggfunc='sum')\n",
    "\n",
    "txs = table.xs('Craig Booker', level=1)\n",
    "\n",
    "txs"
   ]
  },
  {
   "cell_type": "markdown",
   "id": "90055729",
   "metadata": {},
   "source": [
    " "
   ]
  },
  {
   "cell_type": "markdown",
   "id": "21cc08e7",
   "metadata": {},
   "source": [
    "<B>8.56:  <U><B>MultiIndex</B>:  use <B>.query('Manager == \"Debra Henley\"')</B> to select rows</U>.  </B>"
   ]
  },
  {
   "cell_type": "code",
   "execution_count": null,
   "id": "4638a67d",
   "metadata": {},
   "outputs": [],
   "source": [
    "import pandas as pd\n",
    "import numpy as np\n",
    "\n",
    "df = pd.read_excel(\"../sales-funnel.xlsx\")\n",
    "\n",
    "table = pd.pivot_table(df, index=['Manager', 'SalesRep'],\n",
    "                           aggfunc='sum')\n",
    "\n",
    "table.query(\"Manager == 'Debra Henley'\")\n",
    "\n",
    "# table.query(\"Manager == 'Debra Henley' and SalesRep == 'Craig Booker'\")\n",
    "\n",
    "# table.query(\"SalesRep in ['Craig Booker', 'Daniel Hilton']\")"
   ]
  },
  {
   "cell_type": "markdown",
   "id": "49fd2c26",
   "metadata": {},
   "source": [
    " "
   ]
  },
  {
   "cell_type": "markdown",
   "id": "1123972b",
   "metadata": {},
   "source": [
    "<B>8.57:  <U><B>MultiIndex</B>:  First review the below DataFrame; then use <B>.query('Status in [\"pending\", \"won\"]')</B> to select rows</U>.  </B>"
   ]
  },
  {
   "cell_type": "code",
   "execution_count": null,
   "id": "a9512c63",
   "metadata": {},
   "outputs": [],
   "source": [
    "import pandas as pd\n",
    "\n",
    "df = pd.read_excel(\"../sales-funnel.xlsx\")\n",
    "\n",
    "dfq = df.query('Status in [\"pending\", \"won\"]')\n",
    "\n",
    "dfq"
   ]
  },
  {
   "cell_type": "markdown",
   "id": "66efb288",
   "metadata": {},
   "source": [
    " "
   ]
  },
  {
   "cell_type": "markdown",
   "id": "73c4eb6d",
   "metadata": {},
   "source": [
    "<B>8.58:  <U><B>MultiIndex</B>:  use <B>.loc[]</B> with a 1- or 2-item tuple to select rows</U>.  Keep in mind that a 1-item tuple must have a comma after the item, for example <B>('Manager',)</B></B>"
   ]
  },
  {
   "cell_type": "code",
   "execution_count": null,
   "id": "006f9a6d",
   "metadata": {},
   "outputs": [],
   "source": [
    "import pandas as pd\n",
    "import numpy as np\n",
    "\n",
    "df = pd.read_excel(\"../sales-funnel.xlsx\")\n",
    "\n",
    "table = pd.pivot_table(df, index=['Manager', 'SalesRep'],\n",
    "                           aggfunc='sum')\n",
    "\n",
    "table.loc[('Fred Anderson', 'Wendy Yule')]"
   ]
  },
  {
   "cell_type": "markdown",
   "id": "4d79d945",
   "metadata": {},
   "source": [
    " "
   ]
  },
  {
   "cell_type": "markdown",
   "id": "0e316865",
   "metadata": {},
   "source": [
    "TIMESERIES"
   ]
  },
  {
   "cell_type": "markdown",
   "id": "08abfe37",
   "metadata": {},
   "source": [
    "<B>8.59:  <U>Create a <B>pd.Timestamp()</B> object by passing any string that represents a date</U>.  Print the object's type and value.  </B>"
   ]
  },
  {
   "cell_type": "code",
   "execution_count": null,
   "id": "f7d41396",
   "metadata": {},
   "outputs": [],
   "source": [
    "import pandas as pd\n",
    "\n",
    "ts = pd.Timestamp()\n",
    "\n",
    "print(type(ts))\n",
    "print(ts)"
   ]
  },
  {
   "cell_type": "markdown",
   "id": "68bf5d3f",
   "metadata": {},
   "source": [
    " "
   ]
  },
  {
   "cell_type": "markdown",
   "id": "8ec80611",
   "metadata": {},
   "source": [
    "<B>8.60:  <U>Create a <B>pd.Timedelta</B> interval object</U> for one day (use the <B>days=1</B> argument).  Add it to the <B>Timestamp</B> object to produce a new Timestamp object with the advanced date.  Print the object to see the new date.  </B>"
   ]
  },
  {
   "cell_type": "code",
   "execution_count": null,
   "id": "61435664",
   "metadata": {},
   "outputs": [],
   "source": [
    "import pandas as pd\n",
    "\n",
    "ts = pd.Timestamp('3/3/2020')\n",
    "\n",
    "td = pd.Timedelta()\n",
    "\n",
    "ts2 = ts + td\n",
    "print(ts2)"
   ]
  },
  {
   "cell_type": "markdown",
   "id": "d6af24dd",
   "metadata": {},
   "source": [
    " "
   ]
  },
  {
   "cell_type": "markdown",
   "id": "cd826fbe",
   "metadata": {},
   "source": [
    "<B>8.61:  <U>Create a <B>pd.Timedelta</B> interval object</U> by subtracting one date from another.  Print the object's value and its type.  </B>"
   ]
  },
  {
   "cell_type": "code",
   "execution_count": null,
   "id": "c1cbbbfa",
   "metadata": {},
   "outputs": [],
   "source": [
    "import pandas as pd\n",
    "\n",
    "ts1 = pd.Timestamp('3/3/2020')\n",
    "ts2 = pd.Timestamp('3/5/2020')\n",
    "\n",
    "\n"
   ]
  },
  {
   "cell_type": "markdown",
   "id": "21e97229",
   "metadata": {},
   "source": [
    " "
   ]
  },
  {
   "cell_type": "markdown",
   "id": "75e81c5f",
   "metadata": {},
   "source": [
    "<B>8.62:  <U>Generate a date range</U>.  Use the <B>pd.date\\_range()</B> function with a start date, end date and <B>freq=</B> parameter indicating the frequency of dates ('D' for day, 'M' for end of month, 'MS' for start of month, 'B' for business day, etc.)  Print the object to see its contents and type.  </B>"
   ]
  },
  {
   "cell_type": "code",
   "execution_count": null,
   "id": "8c3ced35",
   "metadata": {},
   "outputs": [],
   "source": [
    "import pandas as pd\n",
    "\n",
    "dr = pd.date_range()\n",
    "\n",
    "print(dr)"
   ]
  },
  {
   "cell_type": "markdown",
   "id": "05f30009",
   "metadata": {},
   "source": [
    " "
   ]
  },
  {
   "cell_type": "markdown",
   "id": "1ffafd39",
   "metadata": {},
   "source": [
    "<B>8.63:  <U>Converting a DataFrame column/index to <B>Timestamp</B></U>.  View the below dataframe and note the date column EST.  Use <B>pd.to\\_datetime()</B> or <B>.astype()</B> method to convert the 'EST' series to 'datetime64[ns]', then use <B>.set\\_index()</B> with the column name and <B>drop=True</B> to set the column as the index.  Check the dtype of the index.  </B>"
   ]
  },
  {
   "cell_type": "code",
   "execution_count": null,
   "id": "469d2962",
   "metadata": {},
   "outputs": [],
   "source": [
    "import pandas as pd\n",
    "\n",
    "df = pd.read_csv('../weather_newyork.csv')\n",
    "\n",
    "\n",
    "\n",
    "df"
   ]
  },
  {
   "cell_type": "markdown",
   "id": "94decd19",
   "metadata": {},
   "source": [
    "If your dtype shows as '&lt;M8[ns]' it means that the date is 'timezone-aware'; if it shows as 'datetime64[ns]' it signifies 'timezone-naive' (meaning it is not aware of any timezone).  Since timezone-aware timestamps know their timezone, they can be compared with other timezone-aware dates to do calculations and comparisons between timestamps."
   ]
  },
  {
   "cell_type": "markdown",
   "id": "77abf069",
   "metadata": {},
   "source": [
    " "
   ]
  },
  {
   "cell_type": "markdown",
   "id": "5a3959bd",
   "metadata": {},
   "source": [
    "<B>8.64:  <U>Select rows based on partial date</U>.  Given the below DataFrame, select rows <I>with a straight subscript</I> for the following:  </B>"
   ]
  },
  {
   "cell_type": "markdown",
   "id": "dd1df08d",
   "metadata": {},
   "source": [
    "<UL>\n",
    "  <LI>single date (put the date in any format)</LI>\n",
    "  <LI>single year-month (for example, '2016-03')</LI>\n",
    "  <LI>single year</LI>\n",
    "  <LI>date range as a slice (for example, '2016-03-03': '2016-05-02')\n",
    "</UL>"
   ]
  },
  {
   "cell_type": "code",
   "execution_count": null,
   "id": "145b4010",
   "metadata": {},
   "outputs": [],
   "source": [
    "import pandas as pd\n",
    "\n",
    "df = pd.read_csv('../weather_newyork_2016_2018.csv')\n",
    "\n",
    "df.EST = pd.to_datetime(df.EST)\n",
    "\n",
    "df = df.set_index('EST', drop=True)\n",
    "\n",
    "\n",
    "\n",
    "# some dates for slicing:\n",
    "# '2017-03-01\n",
    "# '2016-05\n",
    "# '2016\n",
    "# '2017-12-28': '2018-01-03"
   ]
  },
  {
   "cell_type": "markdown",
   "id": "a3c82d0e",
   "metadata": {},
   "source": [
    " "
   ]
  }
 ],
 "metadata": {},
 "nbformat": 4,
 "nbformat_minor": 5
}
