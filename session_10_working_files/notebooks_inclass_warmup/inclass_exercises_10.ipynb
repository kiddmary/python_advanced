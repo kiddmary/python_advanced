{
 "cells": [
  {
   "cell_type": "markdown",
   "id": "476bf70e",
   "metadata": {},
   "source": [
    "# In-Class Exercises, Session 10"
   ]
  },
  {
   "cell_type": "markdown",
   "id": "b62cb070",
   "metadata": {},
   "source": [
    "No exercises this week!"
   ]
  },
  {
   "cell_type": "markdown",
   "id": "a376b861",
   "metadata": {},
   "source": [
    " "
   ]
  }
 ],
 "metadata": {},
 "nbformat": 4,
 "nbformat_minor": 5
}
